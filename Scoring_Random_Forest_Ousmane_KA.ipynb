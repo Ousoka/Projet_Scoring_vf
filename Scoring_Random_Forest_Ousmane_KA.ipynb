{
 "cells": [
  {
   "cell_type": "markdown",
   "metadata": {},
   "source": []
  },
  {
   "cell_type": "markdown",
   "metadata": {},
   "source": [
    "<h1 style=\"font-size:32px; text-align:center;\">Projet Scoring</h1>\n",
    "<hr>\n",
    "<h1 style=\"font-size:18px; text-align:center; margin-bottom:24px;\">Ousmane KA</h1>\n",
    "<hr>"
   ]
  },
  {
   "cell_type": "code",
   "execution_count": 1,
   "metadata": {},
   "outputs": [],
   "source": [
    "import numpy as np\n",
    "import pandas as pd\n",
    "import matplotlib.pyplot as plt\n",
    "import plotly.express as px\n",
    "import plotly.graph_objects as go\n",
    "import seaborn as sns\n",
    "import missingno as msno\n",
    "from skimpy import skim\n",
    "import warnings\n",
    "import os\n",
    "import black\n",
    "import itertools\n",
    "from sklearn.preprocessing import StandardScaler\n",
    "from sklearn.ensemble import RandomForestClassifier\n",
    "from sklearn.feature_selection import SelectKBest, f_classif, chi2 \n",
    "from sklearn.model_selection import train_test_split, GridSearchCV\n",
    "from sklearn.preprocessing import StandardScaler, MinMaxScaler\n",
    "from sklearn.impute import KNNImputer\n",
    "from scipy.stats import zscore\n",
    "from scipy.stats import skew\n",
    "from sklearn.impute import SimpleImputer\n",
    "from scipy.stats import chi2_contingency, mannwhitneyu\n",
    "from sklearn.metrics import (\n",
    "    accuracy_score,\n",
    "    precision_score,\n",
    "    recall_score,\n",
    "    f1_score,\n",
    "    roc_auc_score,\n",
    "    roc_curve,\n",
    "    log_loss\n",
    ")\n",
    "import shap\n",
    "warnings.filterwarnings('ignore')\n"
   ]
  },
  {
   "cell_type": "code",
   "execution_count": 2,
   "metadata": {},
   "outputs": [],
   "source": [
    "hmeq = pd.read_csv('./Dataset/hmeq.csv')\n",
    "hmeq_classic = pd.read_csv('./Dataset/hmeq_clean_classic.csv')\n",
    "hmeq_classic1 = pd.read_csv('./Dataset/hmeq_clean_classic_1.csv')\n",
    "hmeq_classic2 = pd.read_csv('./Dataset/hmeq_clean_classic_2.csv')\n",
    "hmeq_miticulous = pd.read_csv('./Dataset/hmeq_clean_miticulous.csv')"
   ]
  },
  {
   "cell_type": "markdown",
   "metadata": {},
   "source": [
    "<span style=\"color:#0A8791; font-size:24px;\"><b><u>Random Forest</u></b></span>"
   ]
  },
  {
   "cell_type": "markdown",
   "metadata": {},
   "source": [
    "Afficher le head pour les 4 dataframes \n"
   ]
  },
  {
   "cell_type": "code",
   "execution_count": 3,
   "metadata": {},
   "outputs": [
    {
     "data": {
      "text/html": [
       "<div>\n",
       "<style scoped>\n",
       "    .dataframe tbody tr th:only-of-type {\n",
       "        vertical-align: middle;\n",
       "    }\n",
       "\n",
       "    .dataframe tbody tr th {\n",
       "        vertical-align: top;\n",
       "    }\n",
       "\n",
       "    .dataframe thead th {\n",
       "        text-align: right;\n",
       "    }\n",
       "</style>\n",
       "<table border=\"1\" class=\"dataframe\">\n",
       "  <thead>\n",
       "    <tr style=\"text-align: right;\">\n",
       "      <th></th>\n",
       "      <th>BAD</th>\n",
       "      <th>LOAN</th>\n",
       "      <th>MORTDUE</th>\n",
       "      <th>VALUE</th>\n",
       "      <th>REASON</th>\n",
       "      <th>JOB</th>\n",
       "      <th>YOJ</th>\n",
       "      <th>DEROG</th>\n",
       "      <th>DELINQ</th>\n",
       "      <th>CLAGE</th>\n",
       "      <th>NINQ</th>\n",
       "      <th>CLNO</th>\n",
       "      <th>DEBTINC</th>\n",
       "    </tr>\n",
       "  </thead>\n",
       "  <tbody>\n",
       "    <tr>\n",
       "      <th>0</th>\n",
       "      <td>1</td>\n",
       "      <td>1100</td>\n",
       "      <td>25860.0</td>\n",
       "      <td>39025.0</td>\n",
       "      <td>HomeImp</td>\n",
       "      <td>Other</td>\n",
       "      <td>10.5</td>\n",
       "      <td>0.0</td>\n",
       "      <td>0.0</td>\n",
       "      <td>94.366667</td>\n",
       "      <td>1.0</td>\n",
       "      <td>9.0</td>\n",
       "      <td>34.818262</td>\n",
       "    </tr>\n",
       "    <tr>\n",
       "      <th>1</th>\n",
       "      <td>1</td>\n",
       "      <td>1300</td>\n",
       "      <td>70053.0</td>\n",
       "      <td>68400.0</td>\n",
       "      <td>HomeImp</td>\n",
       "      <td>Other</td>\n",
       "      <td>7.0</td>\n",
       "      <td>0.0</td>\n",
       "      <td>2.0</td>\n",
       "      <td>121.833333</td>\n",
       "      <td>0.0</td>\n",
       "      <td>14.0</td>\n",
       "      <td>34.818262</td>\n",
       "    </tr>\n",
       "    <tr>\n",
       "      <th>2</th>\n",
       "      <td>1</td>\n",
       "      <td>1500</td>\n",
       "      <td>13500.0</td>\n",
       "      <td>16700.0</td>\n",
       "      <td>HomeImp</td>\n",
       "      <td>Other</td>\n",
       "      <td>4.0</td>\n",
       "      <td>0.0</td>\n",
       "      <td>0.0</td>\n",
       "      <td>149.466667</td>\n",
       "      <td>1.0</td>\n",
       "      <td>10.0</td>\n",
       "      <td>34.818262</td>\n",
       "    </tr>\n",
       "    <tr>\n",
       "      <th>3</th>\n",
       "      <td>1</td>\n",
       "      <td>1500</td>\n",
       "      <td>65019.0</td>\n",
       "      <td>89235.5</td>\n",
       "      <td>DebtCon</td>\n",
       "      <td>Other</td>\n",
       "      <td>7.0</td>\n",
       "      <td>0.0</td>\n",
       "      <td>0.0</td>\n",
       "      <td>173.466667</td>\n",
       "      <td>1.0</td>\n",
       "      <td>20.0</td>\n",
       "      <td>34.818262</td>\n",
       "    </tr>\n",
       "    <tr>\n",
       "      <th>4</th>\n",
       "      <td>0</td>\n",
       "      <td>1700</td>\n",
       "      <td>97800.0</td>\n",
       "      <td>112000.0</td>\n",
       "      <td>HomeImp</td>\n",
       "      <td>Office</td>\n",
       "      <td>3.0</td>\n",
       "      <td>0.0</td>\n",
       "      <td>0.0</td>\n",
       "      <td>93.333333</td>\n",
       "      <td>0.0</td>\n",
       "      <td>14.0</td>\n",
       "      <td>34.818262</td>\n",
       "    </tr>\n",
       "  </tbody>\n",
       "</table>\n",
       "</div>"
      ],
      "text/plain": [
       "   BAD  LOAN  MORTDUE     VALUE   REASON     JOB   YOJ  DEROG  DELINQ  \\\n",
       "0    1  1100  25860.0   39025.0  HomeImp   Other  10.5    0.0     0.0   \n",
       "1    1  1300  70053.0   68400.0  HomeImp   Other   7.0    0.0     2.0   \n",
       "2    1  1500  13500.0   16700.0  HomeImp   Other   4.0    0.0     0.0   \n",
       "3    1  1500  65019.0   89235.5  DebtCon   Other   7.0    0.0     0.0   \n",
       "4    0  1700  97800.0  112000.0  HomeImp  Office   3.0    0.0     0.0   \n",
       "\n",
       "        CLAGE  NINQ  CLNO    DEBTINC  \n",
       "0   94.366667   1.0   9.0  34.818262  \n",
       "1  121.833333   0.0  14.0  34.818262  \n",
       "2  149.466667   1.0  10.0  34.818262  \n",
       "3  173.466667   1.0  20.0  34.818262  \n",
       "4   93.333333   0.0  14.0  34.818262  "
      ]
     },
     "execution_count": 3,
     "metadata": {},
     "output_type": "execute_result"
    }
   ],
   "source": [
    "hmeq_classic.head()"
   ]
  },
  {
   "cell_type": "code",
   "execution_count": 4,
   "metadata": {},
   "outputs": [
    {
     "data": {
      "text/html": [
       "<div>\n",
       "<style scoped>\n",
       "    .dataframe tbody tr th:only-of-type {\n",
       "        vertical-align: middle;\n",
       "    }\n",
       "\n",
       "    .dataframe tbody tr th {\n",
       "        vertical-align: top;\n",
       "    }\n",
       "\n",
       "    .dataframe thead th {\n",
       "        text-align: right;\n",
       "    }\n",
       "</style>\n",
       "<table border=\"1\" class=\"dataframe\">\n",
       "  <thead>\n",
       "    <tr style=\"text-align: right;\">\n",
       "      <th></th>\n",
       "      <th>BAD</th>\n",
       "      <th>LOAN</th>\n",
       "      <th>MORTDUE</th>\n",
       "      <th>VALUE</th>\n",
       "      <th>REASON</th>\n",
       "      <th>JOB</th>\n",
       "      <th>YOJ</th>\n",
       "      <th>DEROG</th>\n",
       "      <th>DELINQ</th>\n",
       "      <th>CLAGE</th>\n",
       "      <th>NINQ</th>\n",
       "      <th>CLNO</th>\n",
       "      <th>DEBTINC</th>\n",
       "    </tr>\n",
       "  </thead>\n",
       "  <tbody>\n",
       "    <tr>\n",
       "      <th>0</th>\n",
       "      <td>1</td>\n",
       "      <td>3300</td>\n",
       "      <td>10.160491</td>\n",
       "      <td>10.571983</td>\n",
       "      <td>HomeImp</td>\n",
       "      <td>Other</td>\n",
       "      <td>10.5</td>\n",
       "      <td>0.0</td>\n",
       "      <td>0.0</td>\n",
       "      <td>4.557729</td>\n",
       "      <td>1.0</td>\n",
       "      <td>9.0</td>\n",
       "      <td>34.818262</td>\n",
       "    </tr>\n",
       "    <tr>\n",
       "      <th>1</th>\n",
       "      <td>1</td>\n",
       "      <td>3300</td>\n",
       "      <td>11.157022</td>\n",
       "      <td>11.133143</td>\n",
       "      <td>HomeImp</td>\n",
       "      <td>Other</td>\n",
       "      <td>7.0</td>\n",
       "      <td>0.0</td>\n",
       "      <td>2.0</td>\n",
       "      <td>4.810828</td>\n",
       "      <td>0.0</td>\n",
       "      <td>14.0</td>\n",
       "      <td>34.818262</td>\n",
       "    </tr>\n",
       "    <tr>\n",
       "      <th>2</th>\n",
       "      <td>1</td>\n",
       "      <td>3300</td>\n",
       "      <td>9.510519</td>\n",
       "      <td>10.181157</td>\n",
       "      <td>HomeImp</td>\n",
       "      <td>Other</td>\n",
       "      <td>4.0</td>\n",
       "      <td>0.0</td>\n",
       "      <td>0.0</td>\n",
       "      <td>5.013742</td>\n",
       "      <td>1.0</td>\n",
       "      <td>10.0</td>\n",
       "      <td>34.818262</td>\n",
       "    </tr>\n",
       "    <tr>\n",
       "      <th>3</th>\n",
       "      <td>1</td>\n",
       "      <td>3300</td>\n",
       "      <td>11.082450</td>\n",
       "      <td>11.399045</td>\n",
       "      <td>DebtCon</td>\n",
       "      <td>Other</td>\n",
       "      <td>7.0</td>\n",
       "      <td>0.0</td>\n",
       "      <td>0.0</td>\n",
       "      <td>5.161734</td>\n",
       "      <td>1.0</td>\n",
       "      <td>20.0</td>\n",
       "      <td>34.818262</td>\n",
       "    </tr>\n",
       "    <tr>\n",
       "      <th>4</th>\n",
       "      <td>0</td>\n",
       "      <td>3300</td>\n",
       "      <td>11.490690</td>\n",
       "      <td>11.626263</td>\n",
       "      <td>HomeImp</td>\n",
       "      <td>Office</td>\n",
       "      <td>3.0</td>\n",
       "      <td>0.0</td>\n",
       "      <td>0.0</td>\n",
       "      <td>4.546835</td>\n",
       "      <td>0.0</td>\n",
       "      <td>14.0</td>\n",
       "      <td>34.818262</td>\n",
       "    </tr>\n",
       "  </tbody>\n",
       "</table>\n",
       "</div>"
      ],
      "text/plain": [
       "   BAD  LOAN    MORTDUE      VALUE   REASON     JOB   YOJ  DEROG  DELINQ  \\\n",
       "0    1  3300  10.160491  10.571983  HomeImp   Other  10.5    0.0     0.0   \n",
       "1    1  3300  11.157022  11.133143  HomeImp   Other   7.0    0.0     2.0   \n",
       "2    1  3300   9.510519  10.181157  HomeImp   Other   4.0    0.0     0.0   \n",
       "3    1  3300  11.082450  11.399045  DebtCon   Other   7.0    0.0     0.0   \n",
       "4    0  3300  11.490690  11.626263  HomeImp  Office   3.0    0.0     0.0   \n",
       "\n",
       "      CLAGE  NINQ  CLNO    DEBTINC  \n",
       "0  4.557729   1.0   9.0  34.818262  \n",
       "1  4.810828   0.0  14.0  34.818262  \n",
       "2  5.013742   1.0  10.0  34.818262  \n",
       "3  5.161734   1.0  20.0  34.818262  \n",
       "4  4.546835   0.0  14.0  34.818262  "
      ]
     },
     "execution_count": 4,
     "metadata": {},
     "output_type": "execute_result"
    }
   ],
   "source": [
    "hmeq_classic1.head()"
   ]
  },
  {
   "cell_type": "code",
   "execution_count": 5,
   "metadata": {},
   "outputs": [
    {
     "data": {
      "text/html": [
       "<div>\n",
       "<style scoped>\n",
       "    .dataframe tbody tr th:only-of-type {\n",
       "        vertical-align: middle;\n",
       "    }\n",
       "\n",
       "    .dataframe tbody tr th {\n",
       "        vertical-align: top;\n",
       "    }\n",
       "\n",
       "    .dataframe thead th {\n",
       "        text-align: right;\n",
       "    }\n",
       "</style>\n",
       "<table border=\"1\" class=\"dataframe\">\n",
       "  <thead>\n",
       "    <tr style=\"text-align: right;\">\n",
       "      <th></th>\n",
       "      <th>BAD</th>\n",
       "      <th>LOAN</th>\n",
       "      <th>MORTDUE</th>\n",
       "      <th>VALUE</th>\n",
       "      <th>REASON</th>\n",
       "      <th>JOB</th>\n",
       "      <th>YOJ</th>\n",
       "      <th>DEROG</th>\n",
       "      <th>DELINQ</th>\n",
       "      <th>CLAGE</th>\n",
       "      <th>NINQ</th>\n",
       "      <th>CLNO</th>\n",
       "      <th>DEBTINC</th>\n",
       "    </tr>\n",
       "  </thead>\n",
       "  <tbody>\n",
       "    <tr>\n",
       "      <th>0</th>\n",
       "      <td>0</td>\n",
       "      <td>1700</td>\n",
       "      <td>97800.0</td>\n",
       "      <td>112000.0</td>\n",
       "      <td>HomeImp</td>\n",
       "      <td>Office</td>\n",
       "      <td>3.0</td>\n",
       "      <td>0.0</td>\n",
       "      <td>0.0</td>\n",
       "      <td>93.333333</td>\n",
       "      <td>0.0</td>\n",
       "      <td>14.0</td>\n",
       "      <td>34.818262</td>\n",
       "    </tr>\n",
       "    <tr>\n",
       "      <th>1</th>\n",
       "      <td>0</td>\n",
       "      <td>2000</td>\n",
       "      <td>64536.0</td>\n",
       "      <td>87400.0</td>\n",
       "      <td>DebtCon</td>\n",
       "      <td>Mgr</td>\n",
       "      <td>2.5</td>\n",
       "      <td>0.0</td>\n",
       "      <td>0.0</td>\n",
       "      <td>147.133333</td>\n",
       "      <td>0.0</td>\n",
       "      <td>24.0</td>\n",
       "      <td>34.818262</td>\n",
       "    </tr>\n",
       "    <tr>\n",
       "      <th>2</th>\n",
       "      <td>0</td>\n",
       "      <td>2300</td>\n",
       "      <td>102370.0</td>\n",
       "      <td>120953.0</td>\n",
       "      <td>HomeImp</td>\n",
       "      <td>Office</td>\n",
       "      <td>2.0</td>\n",
       "      <td>0.0</td>\n",
       "      <td>0.0</td>\n",
       "      <td>90.992533</td>\n",
       "      <td>0.0</td>\n",
       "      <td>13.0</td>\n",
       "      <td>31.588503</td>\n",
       "    </tr>\n",
       "    <tr>\n",
       "      <th>3</th>\n",
       "      <td>0</td>\n",
       "      <td>2400</td>\n",
       "      <td>98449.0</td>\n",
       "      <td>117195.0</td>\n",
       "      <td>HomeImp</td>\n",
       "      <td>Office</td>\n",
       "      <td>4.0</td>\n",
       "      <td>0.0</td>\n",
       "      <td>0.0</td>\n",
       "      <td>93.811775</td>\n",
       "      <td>0.0</td>\n",
       "      <td>13.0</td>\n",
       "      <td>29.681827</td>\n",
       "    </tr>\n",
       "    <tr>\n",
       "      <th>4</th>\n",
       "      <td>0</td>\n",
       "      <td>2500</td>\n",
       "      <td>7229.0</td>\n",
       "      <td>44516.0</td>\n",
       "      <td>HomeImp</td>\n",
       "      <td>Self</td>\n",
       "      <td>7.0</td>\n",
       "      <td>0.0</td>\n",
       "      <td>0.0</td>\n",
       "      <td>208.000000</td>\n",
       "      <td>0.0</td>\n",
       "      <td>12.0</td>\n",
       "      <td>34.818262</td>\n",
       "    </tr>\n",
       "  </tbody>\n",
       "</table>\n",
       "</div>"
      ],
      "text/plain": [
       "   BAD  LOAN   MORTDUE     VALUE   REASON     JOB  YOJ  DEROG  DELINQ  \\\n",
       "0    0  1700   97800.0  112000.0  HomeImp  Office  3.0    0.0     0.0   \n",
       "1    0  2000   64536.0   87400.0  DebtCon     Mgr  2.5    0.0     0.0   \n",
       "2    0  2300  102370.0  120953.0  HomeImp  Office  2.0    0.0     0.0   \n",
       "3    0  2400   98449.0  117195.0  HomeImp  Office  4.0    0.0     0.0   \n",
       "4    0  2500    7229.0   44516.0  HomeImp    Self  7.0    0.0     0.0   \n",
       "\n",
       "        CLAGE  NINQ  CLNO    DEBTINC  \n",
       "0   93.333333   0.0  14.0  34.818262  \n",
       "1  147.133333   0.0  24.0  34.818262  \n",
       "2   90.992533   0.0  13.0  31.588503  \n",
       "3   93.811775   0.0  13.0  29.681827  \n",
       "4  208.000000   0.0  12.0  34.818262  "
      ]
     },
     "execution_count": 5,
     "metadata": {},
     "output_type": "execute_result"
    }
   ],
   "source": [
    "hmeq_classic2.head()"
   ]
  },
  {
   "cell_type": "code",
   "execution_count": 6,
   "metadata": {},
   "outputs": [
    {
     "data": {
      "text/html": [
       "<div>\n",
       "<style scoped>\n",
       "    .dataframe tbody tr th:only-of-type {\n",
       "        vertical-align: middle;\n",
       "    }\n",
       "\n",
       "    .dataframe tbody tr th {\n",
       "        vertical-align: top;\n",
       "    }\n",
       "\n",
       "    .dataframe thead th {\n",
       "        text-align: right;\n",
       "    }\n",
       "</style>\n",
       "<table border=\"1\" class=\"dataframe\">\n",
       "  <thead>\n",
       "    <tr style=\"text-align: right;\">\n",
       "      <th></th>\n",
       "      <th>BAD</th>\n",
       "      <th>LOAN</th>\n",
       "      <th>MORTDUE</th>\n",
       "      <th>VALUE</th>\n",
       "      <th>REASON</th>\n",
       "      <th>JOB</th>\n",
       "      <th>YOJ</th>\n",
       "      <th>DEROG</th>\n",
       "      <th>DELINQ</th>\n",
       "      <th>CLAGE</th>\n",
       "      <th>NINQ</th>\n",
       "      <th>CLNO</th>\n",
       "      <th>DEBTINC</th>\n",
       "    </tr>\n",
       "  </thead>\n",
       "  <tbody>\n",
       "    <tr>\n",
       "      <th>0</th>\n",
       "      <td>1</td>\n",
       "      <td>1100</td>\n",
       "      <td>25860.0</td>\n",
       "      <td>39025.0</td>\n",
       "      <td>HomeImp</td>\n",
       "      <td>Other</td>\n",
       "      <td>10.50</td>\n",
       "      <td>0.0</td>\n",
       "      <td>0.0</td>\n",
       "      <td>94.366667</td>\n",
       "      <td>1.000000</td>\n",
       "      <td>9.00</td>\n",
       "      <td>31.603711</td>\n",
       "    </tr>\n",
       "    <tr>\n",
       "      <th>1</th>\n",
       "      <td>1</td>\n",
       "      <td>1300</td>\n",
       "      <td>70053.0</td>\n",
       "      <td>70053.0</td>\n",
       "      <td>HomeImp</td>\n",
       "      <td>Other</td>\n",
       "      <td>7.00</td>\n",
       "      <td>0.0</td>\n",
       "      <td>2.0</td>\n",
       "      <td>121.833333</td>\n",
       "      <td>0.000000</td>\n",
       "      <td>14.00</td>\n",
       "      <td>32.975041</td>\n",
       "    </tr>\n",
       "    <tr>\n",
       "      <th>2</th>\n",
       "      <td>1</td>\n",
       "      <td>1500</td>\n",
       "      <td>13500.0</td>\n",
       "      <td>16700.0</td>\n",
       "      <td>HomeImp</td>\n",
       "      <td>Other</td>\n",
       "      <td>4.00</td>\n",
       "      <td>0.0</td>\n",
       "      <td>0.0</td>\n",
       "      <td>149.466667</td>\n",
       "      <td>1.000000</td>\n",
       "      <td>10.00</td>\n",
       "      <td>31.238346</td>\n",
       "    </tr>\n",
       "    <tr>\n",
       "      <th>3</th>\n",
       "      <td>1</td>\n",
       "      <td>1500</td>\n",
       "      <td>6318.0</td>\n",
       "      <td>8796.0</td>\n",
       "      <td>HomeImp</td>\n",
       "      <td>Other</td>\n",
       "      <td>6.15</td>\n",
       "      <td>3.0</td>\n",
       "      <td>0.0</td>\n",
       "      <td>125.715233</td>\n",
       "      <td>1.186743</td>\n",
       "      <td>15.71</td>\n",
       "      <td>31.016780</td>\n",
       "    </tr>\n",
       "    <tr>\n",
       "      <th>4</th>\n",
       "      <td>0</td>\n",
       "      <td>1700</td>\n",
       "      <td>97800.0</td>\n",
       "      <td>112000.0</td>\n",
       "      <td>HomeImp</td>\n",
       "      <td>Office</td>\n",
       "      <td>3.00</td>\n",
       "      <td>0.0</td>\n",
       "      <td>0.0</td>\n",
       "      <td>93.333333</td>\n",
       "      <td>0.000000</td>\n",
       "      <td>14.00</td>\n",
       "      <td>33.846982</td>\n",
       "    </tr>\n",
       "  </tbody>\n",
       "</table>\n",
       "</div>"
      ],
      "text/plain": [
       "   BAD  LOAN  MORTDUE     VALUE   REASON     JOB    YOJ  DEROG  DELINQ  \\\n",
       "0    1  1100  25860.0   39025.0  HomeImp   Other  10.50    0.0     0.0   \n",
       "1    1  1300  70053.0   70053.0  HomeImp   Other   7.00    0.0     2.0   \n",
       "2    1  1500  13500.0   16700.0  HomeImp   Other   4.00    0.0     0.0   \n",
       "3    1  1500   6318.0    8796.0  HomeImp   Other   6.15    3.0     0.0   \n",
       "4    0  1700  97800.0  112000.0  HomeImp  Office   3.00    0.0     0.0   \n",
       "\n",
       "        CLAGE      NINQ   CLNO    DEBTINC  \n",
       "0   94.366667  1.000000   9.00  31.603711  \n",
       "1  121.833333  0.000000  14.00  32.975041  \n",
       "2  149.466667  1.000000  10.00  31.238346  \n",
       "3  125.715233  1.186743  15.71  31.016780  \n",
       "4   93.333333  0.000000  14.00  33.846982  "
      ]
     },
     "execution_count": 6,
     "metadata": {},
     "output_type": "execute_result"
    }
   ],
   "source": [
    "hmeq_miticulous.head()"
   ]
  },
  {
   "cell_type": "markdown",
   "metadata": {},
   "source": [
    "<span style=\"color:#0A8791; font-size:24px;\"><b><u>Random Forest</u></b></span>"
   ]
  },
  {
   "cell_type": "markdown",
   "metadata": {},
   "source": [
    "On a 4 dataframes avec lesquelles on peut travaillées, mais dans ce code j'utilise seulement une des 4. Vous pouvez les tester toutes puisque j'ai chargé tous les datasets."
   ]
  },
  {
   "cell_type": "markdown",
   "metadata": {},
   "source": [
    "- BAD : Variable cible (0 = bon crédit, 1 = mauvais crédit).\n",
    "- LOAN : Montant du prêt demandé.\n",
    "- MORTDUE : Montant dû sur l’hypothèque actuelle (contient des valeurs manquantes).\n",
    "- VALUE : Valeur estimée de la propriété.\n",
    "- REASON : Raison du prêt (Catégorique : \"DebtCon\" pour consolidation de dettes, \"HomeImp\" pour amélioration de l’habitat).\n",
    "- JOB : Type d’emploi (Catégorique, ex: \"Other\", \"Office\", etc.).\n",
    "- YOJ : Années d’expérience dans le travail actuel.\n",
    "- DEROG : Nombre de rapports négatifs dans l'historique de crédit.\n",
    "- DELINQ : Nombre de délais de paiement dans l’historique de crédit.\n",
    "- CLAGE : Âge moyen des comptes de crédit en mois.\n",
    "- NINQ : Nombre de demandes de crédit récentes.\n",
    "- CLNO : Nombre total de lignes de crédit.\n",
    "- DEBTINC : Ratio dette/revenu (contient des valeurs manquantes)."
   ]
  },
  {
   "cell_type": "markdown",
   "metadata": {},
   "source": [
    "Travaillons avec hmeq_miticulous"
   ]
  },
  {
   "cell_type": "code",
   "execution_count": 7,
   "metadata": {},
   "outputs": [
    {
     "name": "stdout",
     "output_type": "stream",
     "text": [
      "<class 'pandas.core.frame.DataFrame'>\n",
      "RangeIndex: 5914 entries, 0 to 5913\n",
      "Data columns (total 13 columns):\n",
      " #   Column   Non-Null Count  Dtype  \n",
      "---  ------   --------------  -----  \n",
      " 0   BAD      5914 non-null   int64  \n",
      " 1   LOAN     5914 non-null   int64  \n",
      " 2   MORTDUE  5914 non-null   float64\n",
      " 3   VALUE    5914 non-null   float64\n",
      " 4   REASON   5914 non-null   object \n",
      " 5   JOB      5914 non-null   object \n",
      " 6   YOJ      5914 non-null   float64\n",
      " 7   DEROG    5914 non-null   float64\n",
      " 8   DELINQ   5914 non-null   float64\n",
      " 9   CLAGE    5914 non-null   float64\n",
      " 10  NINQ     5914 non-null   float64\n",
      " 11  CLNO     5914 non-null   float64\n",
      " 12  DEBTINC  5914 non-null   float64\n",
      "dtypes: float64(9), int64(2), object(2)\n",
      "memory usage: 600.8+ KB\n"
     ]
    }
   ],
   "source": [
    "hmeq_miticulous.info()"
   ]
  },
  {
   "cell_type": "code",
   "execution_count": 8,
   "metadata": {},
   "outputs": [
    {
     "data": {
      "text/plain": [
       "Index(['BAD', 'LOAN', 'MORTDUE', 'VALUE', 'REASON', 'JOB', 'YOJ', 'DEROG',\n",
       "       'DELINQ', 'CLAGE', 'NINQ', 'CLNO', 'DEBTINC'],\n",
       "      dtype='object')"
      ]
     },
     "execution_count": 8,
     "metadata": {},
     "output_type": "execute_result"
    }
   ],
   "source": [
    "# afficher les colonnes de hmeq\n",
    "hmeq_miticulous.columns\n"
   ]
  },
  {
   "cell_type": "code",
   "execution_count": 9,
   "metadata": {},
   "outputs": [
    {
     "data": {
      "text/plain": [
       "REASON\n",
       "DebtCon    4086\n",
       "HomeImp    1828\n",
       "Name: count, dtype: int64"
      ]
     },
     "execution_count": 9,
     "metadata": {},
     "output_type": "execute_result"
    }
   ],
   "source": [
    "# afficher les colonnes et valeurs catégoriques de hmeq (valeurs de REASON et JOB)\n",
    "hmeq_miticulous['REASON'].value_counts()\n"
   ]
  },
  {
   "cell_type": "code",
   "execution_count": 10,
   "metadata": {},
   "outputs": [
    {
     "data": {
      "text/plain": [
       "JOB\n",
       "Other      2552\n",
       "ProfExe    1329\n",
       "Office      958\n",
       "Mgr         774\n",
       "Self        193\n",
       "Sales       108\n",
       "Name: count, dtype: int64"
      ]
     },
     "execution_count": 10,
     "metadata": {},
     "output_type": "execute_result"
    }
   ],
   "source": [
    "hmeq_miticulous['JOB'].value_counts()"
   ]
  },
  {
   "cell_type": "markdown",
   "metadata": {},
   "source": [
    "Puisse qu'on utilise le one hot encoding alors on ne fera pas usage du drop_first.\n",
    "En effet ceci gardera le nombres total de catégories ce qui préférable pour les tree-based models comme RandomForest."
   ]
  },
  {
   "cell_type": "code",
   "execution_count": 11,
   "metadata": {},
   "outputs": [
    {
     "data": {
      "text/html": [
       "<div>\n",
       "<style scoped>\n",
       "    .dataframe tbody tr th:only-of-type {\n",
       "        vertical-align: middle;\n",
       "    }\n",
       "\n",
       "    .dataframe tbody tr th {\n",
       "        vertical-align: top;\n",
       "    }\n",
       "\n",
       "    .dataframe thead th {\n",
       "        text-align: right;\n",
       "    }\n",
       "</style>\n",
       "<table border=\"1\" class=\"dataframe\">\n",
       "  <thead>\n",
       "    <tr style=\"text-align: right;\">\n",
       "      <th></th>\n",
       "      <th>BAD</th>\n",
       "      <th>LOAN</th>\n",
       "      <th>MORTDUE</th>\n",
       "      <th>VALUE</th>\n",
       "      <th>YOJ</th>\n",
       "      <th>DEROG</th>\n",
       "      <th>DELINQ</th>\n",
       "      <th>CLAGE</th>\n",
       "      <th>NINQ</th>\n",
       "      <th>CLNO</th>\n",
       "      <th>DEBTINC</th>\n",
       "      <th>REASON_DebtCon</th>\n",
       "      <th>REASON_HomeImp</th>\n",
       "      <th>JOB_Mgr</th>\n",
       "      <th>JOB_Office</th>\n",
       "      <th>JOB_Other</th>\n",
       "      <th>JOB_ProfExe</th>\n",
       "      <th>JOB_Sales</th>\n",
       "      <th>JOB_Self</th>\n",
       "    </tr>\n",
       "  </thead>\n",
       "  <tbody>\n",
       "    <tr>\n",
       "      <th>0</th>\n",
       "      <td>1</td>\n",
       "      <td>1100</td>\n",
       "      <td>25860.0</td>\n",
       "      <td>39025.0</td>\n",
       "      <td>10.50</td>\n",
       "      <td>0.0</td>\n",
       "      <td>0.0</td>\n",
       "      <td>94.366667</td>\n",
       "      <td>1.000000</td>\n",
       "      <td>9.00</td>\n",
       "      <td>31.603711</td>\n",
       "      <td>False</td>\n",
       "      <td>True</td>\n",
       "      <td>False</td>\n",
       "      <td>False</td>\n",
       "      <td>True</td>\n",
       "      <td>False</td>\n",
       "      <td>False</td>\n",
       "      <td>False</td>\n",
       "    </tr>\n",
       "    <tr>\n",
       "      <th>1</th>\n",
       "      <td>1</td>\n",
       "      <td>1300</td>\n",
       "      <td>70053.0</td>\n",
       "      <td>70053.0</td>\n",
       "      <td>7.00</td>\n",
       "      <td>0.0</td>\n",
       "      <td>2.0</td>\n",
       "      <td>121.833333</td>\n",
       "      <td>0.000000</td>\n",
       "      <td>14.00</td>\n",
       "      <td>32.975041</td>\n",
       "      <td>False</td>\n",
       "      <td>True</td>\n",
       "      <td>False</td>\n",
       "      <td>False</td>\n",
       "      <td>True</td>\n",
       "      <td>False</td>\n",
       "      <td>False</td>\n",
       "      <td>False</td>\n",
       "    </tr>\n",
       "    <tr>\n",
       "      <th>2</th>\n",
       "      <td>1</td>\n",
       "      <td>1500</td>\n",
       "      <td>13500.0</td>\n",
       "      <td>16700.0</td>\n",
       "      <td>4.00</td>\n",
       "      <td>0.0</td>\n",
       "      <td>0.0</td>\n",
       "      <td>149.466667</td>\n",
       "      <td>1.000000</td>\n",
       "      <td>10.00</td>\n",
       "      <td>31.238346</td>\n",
       "      <td>False</td>\n",
       "      <td>True</td>\n",
       "      <td>False</td>\n",
       "      <td>False</td>\n",
       "      <td>True</td>\n",
       "      <td>False</td>\n",
       "      <td>False</td>\n",
       "      <td>False</td>\n",
       "    </tr>\n",
       "    <tr>\n",
       "      <th>3</th>\n",
       "      <td>1</td>\n",
       "      <td>1500</td>\n",
       "      <td>6318.0</td>\n",
       "      <td>8796.0</td>\n",
       "      <td>6.15</td>\n",
       "      <td>3.0</td>\n",
       "      <td>0.0</td>\n",
       "      <td>125.715233</td>\n",
       "      <td>1.186743</td>\n",
       "      <td>15.71</td>\n",
       "      <td>31.016780</td>\n",
       "      <td>False</td>\n",
       "      <td>True</td>\n",
       "      <td>False</td>\n",
       "      <td>False</td>\n",
       "      <td>True</td>\n",
       "      <td>False</td>\n",
       "      <td>False</td>\n",
       "      <td>False</td>\n",
       "    </tr>\n",
       "    <tr>\n",
       "      <th>4</th>\n",
       "      <td>0</td>\n",
       "      <td>1700</td>\n",
       "      <td>97800.0</td>\n",
       "      <td>112000.0</td>\n",
       "      <td>3.00</td>\n",
       "      <td>0.0</td>\n",
       "      <td>0.0</td>\n",
       "      <td>93.333333</td>\n",
       "      <td>0.000000</td>\n",
       "      <td>14.00</td>\n",
       "      <td>33.846982</td>\n",
       "      <td>False</td>\n",
       "      <td>True</td>\n",
       "      <td>False</td>\n",
       "      <td>True</td>\n",
       "      <td>False</td>\n",
       "      <td>False</td>\n",
       "      <td>False</td>\n",
       "      <td>False</td>\n",
       "    </tr>\n",
       "  </tbody>\n",
       "</table>\n",
       "</div>"
      ],
      "text/plain": [
       "   BAD  LOAN  MORTDUE     VALUE    YOJ  DEROG  DELINQ       CLAGE      NINQ  \\\n",
       "0    1  1100  25860.0   39025.0  10.50    0.0     0.0   94.366667  1.000000   \n",
       "1    1  1300  70053.0   70053.0   7.00    0.0     2.0  121.833333  0.000000   \n",
       "2    1  1500  13500.0   16700.0   4.00    0.0     0.0  149.466667  1.000000   \n",
       "3    1  1500   6318.0    8796.0   6.15    3.0     0.0  125.715233  1.186743   \n",
       "4    0  1700  97800.0  112000.0   3.00    0.0     0.0   93.333333  0.000000   \n",
       "\n",
       "    CLNO    DEBTINC  REASON_DebtCon  REASON_HomeImp  JOB_Mgr  JOB_Office  \\\n",
       "0   9.00  31.603711           False            True    False       False   \n",
       "1  14.00  32.975041           False            True    False       False   \n",
       "2  10.00  31.238346           False            True    False       False   \n",
       "3  15.71  31.016780           False            True    False       False   \n",
       "4  14.00  33.846982           False            True    False        True   \n",
       "\n",
       "   JOB_Other  JOB_ProfExe  JOB_Sales  JOB_Self  \n",
       "0       True        False      False     False  \n",
       "1       True        False      False     False  \n",
       "2       True        False      False     False  \n",
       "3       True        False      False     False  \n",
       "4      False        False      False     False  "
      ]
     },
     "execution_count": 11,
     "metadata": {},
     "output_type": "execute_result"
    }
   ],
   "source": [
    "# Étape 2 : Encodage des variables catégoriques\n",
    "\n",
    "# Encodage des variables catégoriques avec One-Hot Encoding\n",
    "hmeq_miticulous = pd.get_dummies(hmeq_miticulous, columns=[\"REASON\", \"JOB\"])\n",
    "\n",
    "# Vérifier la structure des données après encodage\n",
    "hmeq_miticulous.head()"
   ]
  },
  {
   "cell_type": "markdown",
   "metadata": {},
   "source": [
    "Pour des meilleures résultats, j'ai décidé de choisir les meilleures features sur lesquels appliquer notre model RandomForest.\n",
    "\n",
    "Et pour cela le SelectKBest est le plus adapté. A noter que SelectKBest se base sur l'ANOVA avecc f_classic et chi2 pour les variables catégoriques.\n",
    "\n",
    "J'ai penser à l'ACP mais ce n'est pas adapté dans cette étude."
   ]
  },
  {
   "cell_type": "markdown",
   "metadata": {},
   "source": [
    "### Sélection des Variables avec SelectKBest : Methode 1"
   ]
  },
  {
   "cell_type": "code",
   "execution_count": 12,
   "metadata": {},
   "outputs": [],
   "source": [
    "numerical_columns = ['LOAN','MORTDUE','VALUE','YOJ','DEROG','DELINQ','CLAGE','NINQ','CLNO','DEBTINC']\n",
    "\n",
    "categorical_columns = ['REASON_DebtCon','REASON_HomeImp','JOB_Mgr','JOB_Office','JOB_Other','JOB_ProfExe','JOB_Sales','JOB_Self']\n"
   ]
  },
  {
   "cell_type": "code",
   "execution_count": 13,
   "metadata": {},
   "outputs": [],
   "source": [
    "select_numerical_features = SelectKBest(f_classif, k=8) # to select best 8 numerical features\n",
    "Numerical_selected = select_numerical_features.fit(hmeq_miticulous[numerical_columns], hmeq_miticulous['BAD']) # to fit the selected features in annova model\n",
    "scores_numerical = -np.log10(Numerical_selected.pvalues_)# to transform p-values of features into scores"
   ]
  },
  {
   "cell_type": "code",
   "execution_count": 14,
   "metadata": {},
   "outputs": [
    {
     "data": {
      "text/plain": [
       "Text(0, 0.5, 'Numerical Features')"
      ]
     },
     "execution_count": 14,
     "metadata": {},
     "output_type": "execute_result"
    },
    {
     "data": {
      "image/png": "[encoded data removed]",
      "text/plain": [
       "<Figure size 900x900 with 1 Axes>"
      ]
     },
     "metadata": {},
     "output_type": "display_data"
    }
   ],
   "source": [
    "# Figure Size \n",
    "fig, ax = plt.subplots(figsize =(9, 9)) \n",
    "# Horizontal Bar Plot \n",
    "ax.barh(numerical_columns, scores_numerical,color='blue') \n",
    "# Add x, y gridlines \n",
    "ax.grid(visible=True, color ='black', linestyle ='-', linewidth = 0.7, alpha = 0.5) \n",
    "# Add title and labels to plot\n",
    "ax.set_title('Best Numerical Features',fontsize=21,fontweight='bold') \n",
    "plt.xlabel('Importance of Feature',fontsize=20) \n",
    "plt.ylabel('Numerical Features',fontsize=20)  "
   ]
  },
  {
   "cell_type": "code",
   "execution_count": 15,
   "metadata": {},
   "outputs": [
    {
     "name": "stdout",
     "output_type": "stream",
     "text": [
      "Selected Numerical Features by ANOVA test: ['LOAN', 'MORTDUE', 'YOJ', 'DEROG', 'DELINQ', 'CLAGE', 'NINQ', 'DEBTINC']\n"
     ]
    }
   ],
   "source": [
    "# to print the selected numerical features\n",
    "print('Selected Numerical Features by ANOVA test:', hmeq_miticulous[numerical_columns].columns[Numerical_selected.get_support()].to_list())"
   ]
  },
  {
   "cell_type": "code",
   "execution_count": 16,
   "metadata": {},
   "outputs": [],
   "source": [
    "select_categorical_features =  SelectKBest(chi2, k=7) # to select best 7 categorical features\n",
    "Categorical_selected = select_categorical_features.fit(hmeq_miticulous[categorical_columns],hmeq_miticulous['BAD'])# to fit the categorical columns in the chi2 test\n",
    "scores_categorical = -np.log10(Categorical_selected.pvalues_)# to transform p-values of features into scores"
   ]
  },
  {
   "cell_type": "code",
   "execution_count": 17,
   "metadata": {},
   "outputs": [
    {
     "data": {
      "text/plain": [
       "Text(0, 0.5, 'Categorical Features')"
      ]
     },
     "execution_count": 17,
     "metadata": {},
     "output_type": "execute_result"
    },
    {
     "data": {
      "image/png": "[encoded data removed]",
      "text/plain": [
       "<Figure size 900x900 with 1 Axes>"
      ]
     },
     "metadata": {},
     "output_type": "display_data"
    }
   ],
   "source": [
    "# Figure Size \n",
    "fig, ax = plt.subplots(figsize =(9, 9)) \n",
    "# Horizontal Bar Plot \n",
    "ax.barh(categorical_columns, scores_categorical,color='blue') \n",
    "# Add x, y gridlines \n",
    "ax.grid(visible=True, color ='black', linestyle ='-', linewidth = 0.7, alpha = 0.5) \n",
    "# Add title and labels to plot\n",
    "ax.set_title('Best Categorical Features',fontsize=21,fontweight='bold') \n",
    "plt.xlabel('Importance of Feature',fontsize=20) \n",
    "plt.ylabel('Categorical Features',fontsize=20)  "
   ]
  },
  {
   "cell_type": "code",
   "execution_count": 18,
   "metadata": {},
   "outputs": [
    {
     "name": "stdout",
     "output_type": "stream",
     "text": [
      "Selected Categorical Features by Chi2 test: ['REASON_HomeImp', 'JOB_Mgr', 'JOB_Office', 'JOB_Other', 'JOB_ProfExe', 'JOB_Sales', 'JOB_Self']\n"
     ]
    }
   ],
   "source": [
    "# to print the selected numerical features\n",
    "print('Selected Categorical Features by Chi2 test:', hmeq_miticulous[categorical_columns].columns[Categorical_selected.get_support()].to_list())"
   ]
  },
  {
   "cell_type": "code",
   "execution_count": 19,
   "metadata": {},
   "outputs": [],
   "source": [
    "# Séparation 80% train, 20% test\n",
    "X_train, X_test, y_train, y_test = train_test_split(hmeq_miticulous.drop(columns=['BAD']), hmeq_miticulous['BAD'], test_size=0.2, random_state=42)"
   ]
  },
  {
   "cell_type": "markdown",
   "metadata": {},
   "source": [
    "### Sélection des Variables avec SelectKBest : Methode 2\n",
    "\n",
    "f_classif analyse si les moyennes des différentes classes de la variable cible ( BAD = 0 et BAD = 1) sont significativement différentes en fonction des valeurs des variables explicatives. Cela permet d'identifier quelles variables sont les plus discriminantes à prédire BAD."
   ]
  },
  {
   "cell_type": "code",
   "execution_count": 20,
   "metadata": {},
   "outputs": [],
   "source": [
    "X_train1 = X_train\n",
    "y_train1 = y_train"
   ]
  },
  {
   "cell_type": "code",
   "execution_count": 21,
   "metadata": {},
   "outputs": [
    {
     "data": {
      "text/html": [
       "<div>\n",
       "<style scoped>\n",
       "    .dataframe tbody tr th:only-of-type {\n",
       "        vertical-align: middle;\n",
       "    }\n",
       "\n",
       "    .dataframe tbody tr th {\n",
       "        vertical-align: top;\n",
       "    }\n",
       "\n",
       "    .dataframe thead th {\n",
       "        text-align: right;\n",
       "    }\n",
       "</style>\n",
       "<table border=\"1\" class=\"dataframe\">\n",
       "  <thead>\n",
       "    <tr style=\"text-align: right;\">\n",
       "      <th></th>\n",
       "      <th>Feature</th>\n",
       "      <th>F-Score</th>\n",
       "      <th>p-Value</th>\n",
       "    </tr>\n",
       "  </thead>\n",
       "  <tbody>\n",
       "    <tr>\n",
       "      <th>5</th>\n",
       "      <td>DELINQ</td>\n",
       "      <td>556.161452</td>\n",
       "      <td>0.0000</td>\n",
       "    </tr>\n",
       "    <tr>\n",
       "      <th>4</th>\n",
       "      <td>DEROG</td>\n",
       "      <td>336.399560</td>\n",
       "      <td>0.0000</td>\n",
       "    </tr>\n",
       "    <tr>\n",
       "      <th>6</th>\n",
       "      <td>CLAGE</td>\n",
       "      <td>152.975360</td>\n",
       "      <td>0.0000</td>\n",
       "    </tr>\n",
       "    <tr>\n",
       "      <th>7</th>\n",
       "      <td>NINQ</td>\n",
       "      <td>146.143560</td>\n",
       "      <td>0.0000</td>\n",
       "    </tr>\n",
       "    <tr>\n",
       "      <th>13</th>\n",
       "      <td>JOB_Office</td>\n",
       "      <td>31.114034</td>\n",
       "      <td>0.0000</td>\n",
       "    </tr>\n",
       "    <tr>\n",
       "      <th>0</th>\n",
       "      <td>LOAN</td>\n",
       "      <td>31.095498</td>\n",
       "      <td>0.0000</td>\n",
       "    </tr>\n",
       "    <tr>\n",
       "      <th>9</th>\n",
       "      <td>DEBTINC</td>\n",
       "      <td>26.627838</td>\n",
       "      <td>0.0000</td>\n",
       "    </tr>\n",
       "    <tr>\n",
       "      <th>3</th>\n",
       "      <td>YOJ</td>\n",
       "      <td>18.994557</td>\n",
       "      <td>0.0000</td>\n",
       "    </tr>\n",
       "    <tr>\n",
       "      <th>16</th>\n",
       "      <td>JOB_Sales</td>\n",
       "      <td>16.925074</td>\n",
       "      <td>0.0000</td>\n",
       "    </tr>\n",
       "    <tr>\n",
       "      <th>15</th>\n",
       "      <td>JOB_ProfExe</td>\n",
       "      <td>16.116587</td>\n",
       "      <td>0.0001</td>\n",
       "    </tr>\n",
       "    <tr>\n",
       "      <th>1</th>\n",
       "      <td>MORTDUE</td>\n",
       "      <td>16.021236</td>\n",
       "      <td>0.0001</td>\n",
       "    </tr>\n",
       "    <tr>\n",
       "      <th>14</th>\n",
       "      <td>JOB_Other</td>\n",
       "      <td>15.931604</td>\n",
       "      <td>0.0001</td>\n",
       "    </tr>\n",
       "    <tr>\n",
       "      <th>2</th>\n",
       "      <td>VALUE</td>\n",
       "      <td>13.665563</td>\n",
       "      <td>0.0002</td>\n",
       "    </tr>\n",
       "    <tr>\n",
       "      <th>10</th>\n",
       "      <td>REASON_DebtCon</td>\n",
       "      <td>8.128773</td>\n",
       "      <td>0.0044</td>\n",
       "    </tr>\n",
       "    <tr>\n",
       "      <th>11</th>\n",
       "      <td>REASON_HomeImp</td>\n",
       "      <td>8.128773</td>\n",
       "      <td>0.0044</td>\n",
       "    </tr>\n",
       "    <tr>\n",
       "      <th>17</th>\n",
       "      <td>JOB_Self</td>\n",
       "      <td>8.054115</td>\n",
       "      <td>0.0046</td>\n",
       "    </tr>\n",
       "    <tr>\n",
       "      <th>12</th>\n",
       "      <td>JOB_Mgr</td>\n",
       "      <td>4.200925</td>\n",
       "      <td>0.0405</td>\n",
       "    </tr>\n",
       "    <tr>\n",
       "      <th>8</th>\n",
       "      <td>CLNO</td>\n",
       "      <td>0.230049</td>\n",
       "      <td>0.6315</td>\n",
       "    </tr>\n",
       "  </tbody>\n",
       "</table>\n",
       "</div>"
      ],
      "text/plain": [
       "           Feature     F-Score p-Value\n",
       "5           DELINQ  556.161452  0.0000\n",
       "4            DEROG  336.399560  0.0000\n",
       "6            CLAGE  152.975360  0.0000\n",
       "7             NINQ  146.143560  0.0000\n",
       "13      JOB_Office   31.114034  0.0000\n",
       "0             LOAN   31.095498  0.0000\n",
       "9          DEBTINC   26.627838  0.0000\n",
       "3              YOJ   18.994557  0.0000\n",
       "16       JOB_Sales   16.925074  0.0000\n",
       "15     JOB_ProfExe   16.116587  0.0001\n",
       "1          MORTDUE   16.021236  0.0001\n",
       "14       JOB_Other   15.931604  0.0001\n",
       "2            VALUE   13.665563  0.0002\n",
       "10  REASON_DebtCon    8.128773  0.0044\n",
       "11  REASON_HomeImp    8.128773  0.0044\n",
       "17        JOB_Self    8.054115  0.0046\n",
       "12         JOB_Mgr    4.200925  0.0405\n",
       "8             CLNO    0.230049  0.6315"
      ]
     },
     "execution_count": 21,
     "metadata": {},
     "output_type": "execute_result"
    }
   ],
   "source": [
    "# Appliquer SelectKBest avec f_classif pour obtenir les scores F et les p-values\n",
    "selector = SelectKBest(score_func=f_classif, k='all')\n",
    "selector.fit(X_train1, y_train1)\n",
    "\n",
    "# Extraire les scores et les p-values\n",
    "scores = selector.scores_\n",
    "pvalues = selector.pvalues_\n",
    "\n",
    "# dataframe pour afficher les résultats\n",
    "feature_scores = pd.DataFrame({\n",
    "    'Feature': X_train1.columns,\n",
    "    'F-Score': scores,\n",
    "    'p-Value': pvalues\n",
    "})\n",
    "feature_scores_sorted = feature_scores.sort_values(by='F-Score', ascending=False)  # Trier les variables par score décroissant\n",
    "\n",
    "feature_scores['p-Value'] = feature_scores['p-Value'].apply(lambda x: '{:.4f}'.format(x))\n",
    "\n",
    "feature_scores_sorted = feature_scores.sort_values(by='F-Score', ascending=False) # Trier les variables par ordre décroissant de F-Score\n",
    "\n",
    "# Afficher le dataframe trié\n",
    "feature_scores_sorted"
   ]
  },
  {
   "cell_type": "markdown",
   "metadata": {},
   "source": [
    "#### Sélection des caractéristiques pour Random Forest\n",
    "\n",
    "Dans le cadre de l'utilisation du **Random Forest (RF)**, il est important de choisir des caractéristiques (features) qui ont un pouvoir prédictif fort et sont fortement corrélées avec la variable cible. Voici une manière simple de choisir les bonnes caractéristiques :\n",
    "\n",
    "##### Interprétation du F-Score et du P-Value :\n",
    "\n",
    "1. **F-Score** : Mesure de l'importance d'une caractéristique par rapport à la cible. Plus le F-score est élevé, plus la caractéristique est pertinente pour la variable cible.\n",
    "2. **P-Value** : Permet de tester l'hypothèse nulle selon laquelle la caractéristique n'a aucun effet sur la cible. Plus la p-value est faible, plus la caractéristique est significative statistiquement.\n",
    "\n",
    "##### Ce qu'il faut rechercher :\n",
    "- **F-Score** : Plus il est élevé, mieux la caractéristique distingue les différentes valeurs de la cible.\n",
    "- **P-Value** : En général, une p-value inférieure à **0,05** est considérée comme significative. Les caractéristiques avec **p-value < 0,05** doivent être priorisées.\n",
    "\n",
    "##### Sélection des caractéristiques selon le F-Score et le P-Value :\n",
    "Il faut privilégier les caractéristiques avec **un F-score élevé** et **une p-value faible**. Voici les caractéristiques à retenir :\n",
    "\n",
    "##### Caractéristiques avec un F-score élevé et une p-value faible :\n",
    "- **DELINQ**, **DEROG**, **CLAGE**, **NINQ**, **JOB_Office**, **LOAN**, **DEBTINC**, **YOJ**, **JOB_Sales**, **JOB_ProfExe**, **MORTDUE**, **JOB_Other**, **VALUE**, **REASON_DebtCon**, **REASON_HomeImp**, **JOB_Self**, **JOB_Mgr** (on peut aussi se passer de choisir JOB_Mgr avec une contribution très limité).\n",
    "\n",
    "##### Caractéristiques à exclure (p-value > 0,05) :\n",
    "- **CLNO** : F-score faible et p-value très élevée (0,6315), ce qui signifie qu'elle n'est pas significative pour la prédiction de la cible.\n",
    "\n",
    "##### Conclusion :\n",
    "Pour le modèle Random Forest, il est préférable d'utiliser les caractéristiques qui ont une **p-value inférieure à 0,05** et un **F-score élevé**. **CLNO** est à exclure car elle ne contribue pas à la prédiction.\n"
   ]
  },
  {
   "cell_type": "code",
   "execution_count": 22,
   "metadata": {},
   "outputs": [],
   "source": [
    "# Sélection des variables à partir de SelectKBest basé sur les p-values ​​extrêmement faibles, \n",
    "# indiquant une forte capacité à discriminer entre les classes de la variable cible BAD.\n",
    "# avec k='all'\n",
    "\n",
    "selected_features0 = [\n",
    "    'DELINQ',        # F-Score: 556.16, p-value: 0.0000\n",
    "    'DEROG',         # F-Score: 336.40, p-value: 0.0000\n",
    "    'CLAGE',         # F-Score: 152.98, p-value: 0.0000\n",
    "    'NINQ',          # F-Score: 146.14, p-value: 0.0000\n",
    "    'JOB_Office',    # F-Score: 31.11, p-value: 0.0000\n",
    "    'LOAN',          # F-Score: 31.10, p-value: 0.0000\n",
    "    'DEBTINC',       # F-Score: 26.63, p-value: 0.0000\n",
    "    'YOJ',           # F-Score: 18.99, p-value: 0.0000\n",
    "    'JOB_Sales',     # F-Score: 16.93, p-value: 0.0000\n",
    "    'JOB_ProfExe',   # F-Score: 16.12, p-value: 0.0001\n",
    "    'MORTDUE',       # F-Score: 16.02, p-value: 0.0001\n",
    "    'JOB_Other',     # F-Score: 15.93, p-value: 0.0001\n",
    "    'VALUE'          # F-Score: 13.67, p-value: 0.0002\n",
    "]\n"
   ]
  },
  {
   "cell_type": "markdown",
   "metadata": {},
   "source": [
    "Mais on ne choissira pas cette liste car son obtention est issue d'un mélange de valeurs numériques et catégoriques"
   ]
  },
  {
   "cell_type": "code",
   "execution_count": 23,
   "metadata": {},
   "outputs": [],
   "source": [
    "# meilleurs candididats pour un meilleur RandomForest model\n",
    "# features proposés par la première méthode (Methode 1) plus robuste avec séparations des valeurs numiques et categories\n",
    "selected_features = [\n",
    "    'REASON_HomeImp', \n",
    "    'JOB_Mgr', \n",
    "    'JOB_Office', \n",
    "    'JOB_Other', \n",
    "    'JOB_ProfExe', \n",
    "    'JOB_Sales', \n",
    "    'JOB_Self', \n",
    "    'LOAN', \n",
    "    'MORTDUE', \n",
    "    'YOJ', \n",
    "    'DEROG', \n",
    "    'DELINQ', \n",
    "    'CLAGE', \n",
    "    'NINQ', \n",
    "    'DEBTINC'\n",
    "]\n",
    "\n",
    "\n",
    "X_train = X_train[selected_features]\n",
    "X_test = X_test[selected_features]"
   ]
  },
  {
   "cell_type": "markdown",
   "metadata": {},
   "source": [
    "#### 1. Modélisation Random Forest (Forêt Aléatoire) \n",
    "\n",
    " Nous avons tester 3 modele : \n",
    " \n",
    " - un sans optimisation \n",
    " - le deuxieme avec optimisation des seuils pratiques \n",
    " - le dernier un modele optimisé avec grid search\n",
    "\n",
    " et par la suite regarder  comment evoluent nos métriques en fonction du nombre de variables\n",
    ".\n",
    "\n",
    "Puisque on prévoit un résultat binaire (c'est-à-dire la variable \"BAD\"), utilisons des classificateurs et évaluez les modèles avec des métriques de classification telles que la précision, le rappel et l'AUC.\n",
    "\n",
    "##### 1.1. Random forest Sans optimisation\n",
    "##### 1.1.a. Creation et entrainement du modele de foret aléatoire\n"
   ]
  },
  {
   "cell_type": "markdown",
   "metadata": {},
   "source": [
    "Pour adresser le fait que la variable \"BAD\" ait plus de 80% en 0 et 20% en 1, ce biais sera résolu en accordant autant d'importance aux 2 catégories avec le paramètre class_weight='balanced'"
   ]
  },
  {
   "cell_type": "markdown",
   "metadata": {},
   "source": [
    "par défaut le criterion utilisé est le gini (Gini Impurity)"
   ]
  },
  {
   "cell_type": "code",
   "execution_count": 24,
   "metadata": {},
   "outputs": [
    {
     "data": {
      "text/html": [
       "<style>#sk-container-id-1 {\n",
       "  /* Definition of color scheme common for light and dark mode */\n",
       "  --sklearn-color-text: #000;\n",
       "  --sklearn-color-text-muted: #666;\n",
       "  --sklearn-color-line: gray;\n",
       "  /* Definition of color scheme for unfitted estimators */\n",
       "  --sklearn-color-unfitted-level-0: #fff5e6;\n",
       "  --sklearn-color-unfitted-level-1: #f6e4d2;\n",
       "  --sklearn-color-unfitted-level-2: #ffe0b3;\n",
       "  --sklearn-color-unfitted-level-3: chocolate;\n",
       "  /* Definition of color scheme for fitted estimators */\n",
       "  --sklearn-color-fitted-level-0: #f0f8ff;\n",
       "  --sklearn-color-fitted-level-1: #d4ebff;\n",
       "  --sklearn-color-fitted-level-2: #b3dbfd;\n",
       "  --sklearn-color-fitted-level-3: cornflowerblue;\n",
       "\n",
       "  /* Specific color for light theme */\n",
       "  --sklearn-color-text-on-default-background: var(--sg-text-color, var(--theme-code-foreground, var(--jp-content-font-color1, black)));\n",
       "  --sklearn-color-background: var(--sg-background-color, var(--theme-background, var(--jp-layout-color0, white)));\n",
       "  --sklearn-color-border-box: var(--sg-text-color, var(--theme-code-foreground, var(--jp-content-font-color1, black)));\n",
       "  --sklearn-color-icon: #696969;\n",
       "\n",
       "  @media (prefers-color-scheme: dark) {\n",
       "    /* Redefinition of color scheme for dark theme */\n",
       "    --sklearn-color-text-on-default-background: var(--sg-text-color, var(--theme-code-foreground, var(--jp-content-font-color1, white)));\n",
       "    --sklearn-color-background: var(--sg-background-color, var(--theme-background, var(--jp-layout-color0, #111)));\n",
       "    --sklearn-color-border-box: var(--sg-text-color, var(--theme-code-foreground, var(--jp-content-font-color1, white)));\n",
       "    --sklearn-color-icon: #878787;\n",
       "  }\n",
       "}\n",
       "\n",
       "#sk-container-id-1 {\n",
       "  color: var(--sklearn-color-text);\n",
       "}\n",
       "\n",
       "#sk-container-id-1 pre {\n",
       "  padding: 0;\n",
       "}\n",
       "\n",
       "#sk-container-id-1 input.sk-hidden--visually {\n",
       "  border: 0;\n",
       "  clip: rect(1px 1px 1px 1px);\n",
       "  clip: rect(1px, 1px, 1px, 1px);\n",
       "  height: 1px;\n",
       "  margin: -1px;\n",
       "  overflow: hidden;\n",
       "  padding: 0;\n",
       "  position: absolute;\n",
       "  width: 1px;\n",
       "}\n",
       "\n",
       "#sk-container-id-1 div.sk-dashed-wrapped {\n",
       "  border: 1px dashed var(--sklearn-color-line);\n",
       "  margin: 0 0.4em 0.5em 0.4em;\n",
       "  box-sizing: border-box;\n",
       "  padding-bottom: 0.4em;\n",
       "  background-color: var(--sklearn-color-background);\n",
       "}\n",
       "\n",
       "#sk-container-id-1 div.sk-container {\n",
       "  /* jupyter's `normalize.less` sets `[hidden] { display: none; }`\n",
       "     but bootstrap.min.css set `[hidden] { display: none !important; }`\n",
       "     so we also need the `!important` here to be able to override the\n",
       "     default hidden behavior on the sphinx rendered scikit-learn.org.\n",
       "     See: https://github.com/scikit-learn/scikit-learn/issues/21755 */\n",
       "  display: inline-block !important;\n",
       "  position: relative;\n",
       "}\n",
       "\n",
       "#sk-container-id-1 div.sk-text-repr-fallback {\n",
       "  display: none;\n",
       "}\n",
       "\n",
       "div.sk-parallel-item,\n",
       "div.sk-serial,\n",
       "div.sk-item {\n",
       "  /* draw centered vertical line to link estimators */\n",
       "  background-image: linear-gradient(var(--sklearn-color-text-on-default-background), var(--sklearn-color-text-on-default-background));\n",
       "  background-size: 2px 100%;\n",
       "  background-repeat: no-repeat;\n",
       "  background-position: center center;\n",
       "}\n",
       "\n",
       "/* Parallel-specific style estimator block */\n",
       "\n",
       "#sk-container-id-1 div.sk-parallel-item::after {\n",
       "  content: \"\";\n",
       "  width: 100%;\n",
       "  border-bottom: 2px solid var(--sklearn-color-text-on-default-background);\n",
       "  flex-grow: 1;\n",
       "}\n",
       "\n",
       "#sk-container-id-1 div.sk-parallel {\n",
       "  display: flex;\n",
       "  align-items: stretch;\n",
       "  justify-content: center;\n",
       "  background-color: var(--sklearn-color-background);\n",
       "  position: relative;\n",
       "}\n",
       "\n",
       "#sk-container-id-1 div.sk-parallel-item {\n",
       "  display: flex;\n",
       "  flex-direction: column;\n",
       "}\n",
       "\n",
       "#sk-container-id-1 div.sk-parallel-item:first-child::after {\n",
       "  align-self: flex-end;\n",
       "  width: 50%;\n",
       "}\n",
       "\n",
       "#sk-container-id-1 div.sk-parallel-item:last-child::after {\n",
       "  align-self: flex-start;\n",
       "  width: 50%;\n",
       "}\n",
       "\n",
       "#sk-container-id-1 div.sk-parallel-item:only-child::after {\n",
       "  width: 0;\n",
       "}\n",
       "\n",
       "/* Serial-specific style estimator block */\n",
       "\n",
       "#sk-container-id-1 div.sk-serial {\n",
       "  display: flex;\n",
       "  flex-direction: column;\n",
       "  align-items: center;\n",
       "  background-color: var(--sklearn-color-background);\n",
       "  padding-right: 1em;\n",
       "  padding-left: 1em;\n",
       "}\n",
       "\n",
       "\n",
       "/* Toggleable style: style used for estimator/Pipeline/ColumnTransformer box that is\n",
       "clickable and can be expanded/collapsed.\n",
       "- Pipeline and ColumnTransformer use this feature and define the default style\n",
       "- Estimators will overwrite some part of the style using the `sk-estimator` class\n",
       "*/\n",
       "\n",
       "/* Pipeline and ColumnTransformer style (default) */\n",
       "\n",
       "#sk-container-id-1 div.sk-toggleable {\n",
       "  /* Default theme specific background. It is overwritten whether we have a\n",
       "  specific estimator or a Pipeline/ColumnTransformer */\n",
       "  background-color: var(--sklearn-color-background);\n",
       "}\n",
       "\n",
       "/* Toggleable label */\n",
       "#sk-container-id-1 label.sk-toggleable__label {\n",
       "  cursor: pointer;\n",
       "  display: flex;\n",
       "  width: 100%;\n",
       "  margin-bottom: 0;\n",
       "  padding: 0.5em;\n",
       "  box-sizing: border-box;\n",
       "  text-align: center;\n",
       "  align-items: start;\n",
       "  justify-content: space-between;\n",
       "  gap: 0.5em;\n",
       "}\n",
       "\n",
       "#sk-container-id-1 label.sk-toggleable__label .caption {\n",
       "  font-size: 0.6rem;\n",
       "  font-weight: lighter;\n",
       "  color: var(--sklearn-color-text-muted);\n",
       "}\n",
       "\n",
       "#sk-container-id-1 label.sk-toggleable__label-arrow:before {\n",
       "  /* Arrow on the left of the label */\n",
       "  content: \"▸\";\n",
       "  float: left;\n",
       "  margin-right: 0.25em;\n",
       "  color: var(--sklearn-color-icon);\n",
       "}\n",
       "\n",
       "#sk-container-id-1 label.sk-toggleable__label-arrow:hover:before {\n",
       "  color: var(--sklearn-color-text);\n",
       "}\n",
       "\n",
       "/* Toggleable content - dropdown */\n",
       "\n",
       "#sk-container-id-1 div.sk-toggleable__content {\n",
       "  max-height: 0;\n",
       "  max-width: 0;\n",
       "  overflow: hidden;\n",
       "  text-align: left;\n",
       "  /* unfitted */\n",
       "  background-color: var(--sklearn-color-unfitted-level-0);\n",
       "}\n",
       "\n",
       "#sk-container-id-1 div.sk-toggleable__content.fitted {\n",
       "  /* fitted */\n",
       "  background-color: var(--sklearn-color-fitted-level-0);\n",
       "}\n",
       "\n",
       "#sk-container-id-1 div.sk-toggleable__content pre {\n",
       "  margin: 0.2em;\n",
       "  border-radius: 0.25em;\n",
       "  color: var(--sklearn-color-text);\n",
       "  /* unfitted */\n",
       "  background-color: var(--sklearn-color-unfitted-level-0);\n",
       "}\n",
       "\n",
       "#sk-container-id-1 div.sk-toggleable__content.fitted pre {\n",
       "  /* unfitted */\n",
       "  background-color: var(--sklearn-color-fitted-level-0);\n",
       "}\n",
       "\n",
       "#sk-container-id-1 input.sk-toggleable__control:checked~div.sk-toggleable__content {\n",
       "  /* Expand drop-down */\n",
       "  max-height: 200px;\n",
       "  max-width: 100%;\n",
       "  overflow: auto;\n",
       "}\n",
       "\n",
       "#sk-container-id-1 input.sk-toggleable__control:checked~label.sk-toggleable__label-arrow:before {\n",
       "  content: \"▾\";\n",
       "}\n",
       "\n",
       "/* Pipeline/ColumnTransformer-specific style */\n",
       "\n",
       "#sk-container-id-1 div.sk-label input.sk-toggleable__control:checked~label.sk-toggleable__label {\n",
       "  color: var(--sklearn-color-text);\n",
       "  background-color: var(--sklearn-color-unfitted-level-2);\n",
       "}\n",
       "\n",
       "#sk-container-id-1 div.sk-label.fitted input.sk-toggleable__control:checked~label.sk-toggleable__label {\n",
       "  background-color: var(--sklearn-color-fitted-level-2);\n",
       "}\n",
       "\n",
       "/* Estimator-specific style */\n",
       "\n",
       "/* Colorize estimator box */\n",
       "#sk-container-id-1 div.sk-estimator input.sk-toggleable__control:checked~label.sk-toggleable__label {\n",
       "  /* unfitted */\n",
       "  background-color: var(--sklearn-color-unfitted-level-2);\n",
       "}\n",
       "\n",
       "#sk-container-id-1 div.sk-estimator.fitted input.sk-toggleable__control:checked~label.sk-toggleable__label {\n",
       "  /* fitted */\n",
       "  background-color: var(--sklearn-color-fitted-level-2);\n",
       "}\n",
       "\n",
       "#sk-container-id-1 div.sk-label label.sk-toggleable__label,\n",
       "#sk-container-id-1 div.sk-label label {\n",
       "  /* The background is the default theme color */\n",
       "  color: var(--sklearn-color-text-on-default-background);\n",
       "}\n",
       "\n",
       "/* On hover, darken the color of the background */\n",
       "#sk-container-id-1 div.sk-label:hover label.sk-toggleable__label {\n",
       "  color: var(--sklearn-color-text);\n",
       "  background-color: var(--sklearn-color-unfitted-level-2);\n",
       "}\n",
       "\n",
       "/* Label box, darken color on hover, fitted */\n",
       "#sk-container-id-1 div.sk-label.fitted:hover label.sk-toggleable__label.fitted {\n",
       "  color: var(--sklearn-color-text);\n",
       "  background-color: var(--sklearn-color-fitted-level-2);\n",
       "}\n",
       "\n",
       "/* Estimator label */\n",
       "\n",
       "#sk-container-id-1 div.sk-label label {\n",
       "  font-family: monospace;\n",
       "  font-weight: bold;\n",
       "  display: inline-block;\n",
       "  line-height: 1.2em;\n",
       "}\n",
       "\n",
       "#sk-container-id-1 div.sk-label-container {\n",
       "  text-align: center;\n",
       "}\n",
       "\n",
       "/* Estimator-specific */\n",
       "#sk-container-id-1 div.sk-estimator {\n",
       "  font-family: monospace;\n",
       "  border: 1px dotted var(--sklearn-color-border-box);\n",
       "  border-radius: 0.25em;\n",
       "  box-sizing: border-box;\n",
       "  margin-bottom: 0.5em;\n",
       "  /* unfitted */\n",
       "  background-color: var(--sklearn-color-unfitted-level-0);\n",
       "}\n",
       "\n",
       "#sk-container-id-1 div.sk-estimator.fitted {\n",
       "  /* fitted */\n",
       "  background-color: var(--sklearn-color-fitted-level-0);\n",
       "}\n",
       "\n",
       "/* on hover */\n",
       "#sk-container-id-1 div.sk-estimator:hover {\n",
       "  /* unfitted */\n",
       "  background-color: var(--sklearn-color-unfitted-level-2);\n",
       "}\n",
       "\n",
       "#sk-container-id-1 div.sk-estimator.fitted:hover {\n",
       "  /* fitted */\n",
       "  background-color: var(--sklearn-color-fitted-level-2);\n",
       "}\n",
       "\n",
       "/* Specification for estimator info (e.g. \"i\" and \"?\") */\n",
       "\n",
       "/* Common style for \"i\" and \"?\" */\n",
       "\n",
       ".sk-estimator-doc-link,\n",
       "a:link.sk-estimator-doc-link,\n",
       "a:visited.sk-estimator-doc-link {\n",
       "  float: right;\n",
       "  font-size: smaller;\n",
       "  line-height: 1em;\n",
       "  font-family: monospace;\n",
       "  background-color: var(--sklearn-color-background);\n",
       "  border-radius: 1em;\n",
       "  height: 1em;\n",
       "  width: 1em;\n",
       "  text-decoration: none !important;\n",
       "  margin-left: 0.5em;\n",
       "  text-align: center;\n",
       "  /* unfitted */\n",
       "  border: var(--sklearn-color-unfitted-level-1) 1pt solid;\n",
       "  color: var(--sklearn-color-unfitted-level-1);\n",
       "}\n",
       "\n",
       ".sk-estimator-doc-link.fitted,\n",
       "a:link.sk-estimator-doc-link.fitted,\n",
       "a:visited.sk-estimator-doc-link.fitted {\n",
       "  /* fitted */\n",
       "  border: var(--sklearn-color-fitted-level-1) 1pt solid;\n",
       "  color: var(--sklearn-color-fitted-level-1);\n",
       "}\n",
       "\n",
       "/* On hover */\n",
       "div.sk-estimator:hover .sk-estimator-doc-link:hover,\n",
       ".sk-estimator-doc-link:hover,\n",
       "div.sk-label-container:hover .sk-estimator-doc-link:hover,\n",
       ".sk-estimator-doc-link:hover {\n",
       "  /* unfitted */\n",
       "  background-color: var(--sklearn-color-unfitted-level-3);\n",
       "  color: var(--sklearn-color-background);\n",
       "  text-decoration: none;\n",
       "}\n",
       "\n",
       "div.sk-estimator.fitted:hover .sk-estimator-doc-link.fitted:hover,\n",
       ".sk-estimator-doc-link.fitted:hover,\n",
       "div.sk-label-container:hover .sk-estimator-doc-link.fitted:hover,\n",
       ".sk-estimator-doc-link.fitted:hover {\n",
       "  /* fitted */\n",
       "  background-color: var(--sklearn-color-fitted-level-3);\n",
       "  color: var(--sklearn-color-background);\n",
       "  text-decoration: none;\n",
       "}\n",
       "\n",
       "/* Span, style for the box shown on hovering the info icon */\n",
       ".sk-estimator-doc-link span {\n",
       "  display: none;\n",
       "  z-index: 9999;\n",
       "  position: relative;\n",
       "  font-weight: normal;\n",
       "  right: .2ex;\n",
       "  padding: .5ex;\n",
       "  margin: .5ex;\n",
       "  width: min-content;\n",
       "  min-width: 20ex;\n",
       "  max-width: 50ex;\n",
       "  color: var(--sklearn-color-text);\n",
       "  box-shadow: 2pt 2pt 4pt #999;\n",
       "  /* unfitted */\n",
       "  background: var(--sklearn-color-unfitted-level-0);\n",
       "  border: .5pt solid var(--sklearn-color-unfitted-level-3);\n",
       "}\n",
       "\n",
       ".sk-estimator-doc-link.fitted span {\n",
       "  /* fitted */\n",
       "  background: var(--sklearn-color-fitted-level-0);\n",
       "  border: var(--sklearn-color-fitted-level-3);\n",
       "}\n",
       "\n",
       ".sk-estimator-doc-link:hover span {\n",
       "  display: block;\n",
       "}\n",
       "\n",
       "/* \"?\"-specific style due to the `<a>` HTML tag */\n",
       "\n",
       "#sk-container-id-1 a.estimator_doc_link {\n",
       "  float: right;\n",
       "  font-size: 1rem;\n",
       "  line-height: 1em;\n",
       "  font-family: monospace;\n",
       "  background-color: var(--sklearn-color-background);\n",
       "  border-radius: 1rem;\n",
       "  height: 1rem;\n",
       "  width: 1rem;\n",
       "  text-decoration: none;\n",
       "  /* unfitted */\n",
       "  color: var(--sklearn-color-unfitted-level-1);\n",
       "  border: var(--sklearn-color-unfitted-level-1) 1pt solid;\n",
       "}\n",
       "\n",
       "#sk-container-id-1 a.estimator_doc_link.fitted {\n",
       "  /* fitted */\n",
       "  border: var(--sklearn-color-fitted-level-1) 1pt solid;\n",
       "  color: var(--sklearn-color-fitted-level-1);\n",
       "}\n",
       "\n",
       "/* On hover */\n",
       "#sk-container-id-1 a.estimator_doc_link:hover {\n",
       "  /* unfitted */\n",
       "  background-color: var(--sklearn-color-unfitted-level-3);\n",
       "  color: var(--sklearn-color-background);\n",
       "  text-decoration: none;\n",
       "}\n",
       "\n",
       "#sk-container-id-1 a.estimator_doc_link.fitted:hover {\n",
       "  /* fitted */\n",
       "  background-color: var(--sklearn-color-fitted-level-3);\n",
       "}\n",
       "</style><div id=\"sk-container-id-1\" class=\"sk-top-container\"><div class=\"sk-text-repr-fallback\"><pre>RandomForestClassifier(class_weight=&#x27;balanced&#x27;, max_depth=10, oob_score=True,\n",
       "                       random_state=99)</pre><b>In a Jupyter environment, please rerun this cell to show the HTML representation or trust the notebook. <br />On GitHub, the HTML representation is unable to render, please try loading this page with nbviewer.org.</b></div><div class=\"sk-container\" hidden><div class=\"sk-item\"><div class=\"sk-estimator fitted sk-toggleable\"><input class=\"sk-toggleable__control sk-hidden--visually\" id=\"sk-estimator-id-1\" type=\"checkbox\" checked><label for=\"sk-estimator-id-1\" class=\"sk-toggleable__label fitted sk-toggleable__label-arrow\"><div><div>RandomForestClassifier</div></div><div><a class=\"sk-estimator-doc-link fitted\" rel=\"noreferrer\" target=\"_blank\" href=\"https://scikit-learn.org/1.6/modules/generated/sklearn.ensemble.RandomForestClassifier.html\">?<span>Documentation for RandomForestClassifier</span></a><span class=\"sk-estimator-doc-link fitted\">i<span>Fitted</span></span></div></label><div class=\"sk-toggleable__content fitted\"><pre>RandomForestClassifier(class_weight=&#x27;balanced&#x27;, max_depth=10, oob_score=True,\n",
       "                       random_state=99)</pre></div> </div></div></div></div>"
      ],
      "text/plain": [
       "RandomForestClassifier(class_weight='balanced', max_depth=10, oob_score=True,\n",
       "                       random_state=99)"
      ]
     },
     "execution_count": 24,
     "metadata": {},
     "output_type": "execute_result"
    }
   ],
   "source": [
    "\n",
    "# oob_score=True : C'est une façon d'obtenir une évaluation du modèle sans avoir à utiliser un jeu de validation explicite.\n",
    "random_forest1 = RandomForestClassifier(n_estimators=100, max_depth=10, random_state=99, class_weight='balanced',oob_score=True)\n",
    "random_forest1.fit(X_train,y_train)"
   ]
  },
  {
   "cell_type": "markdown",
   "metadata": {},
   "source": [
    "##### 1.1.b. Prediction sur la base d'apprentissage et la base de test"
   ]
  },
  {
   "cell_type": "code",
   "execution_count": 25,
   "metadata": {},
   "outputs": [],
   "source": [
    "\n",
    "# Predire les classes sur les ensembles d'entrainement et de test\n",
    "\n",
    "y_train_pred = random_forest1.predict(X_train)\n",
    "y_test_pred = random_forest1.predict(X_test)"
   ]
  },
  {
   "cell_type": "markdown",
   "metadata": {},
   "source": [
    "##### 1.1.c. Evaluation des performances du modele"
   ]
  },
  {
   "cell_type": "code",
   "execution_count": 26,
   "metadata": {},
   "outputs": [
    {
     "name": "stdout",
     "output_type": "stream",
     "text": [
      "    Métrique  Ensemble d'entraînement  Ensemble de test\n",
      "0   Accuracy                 0.947157          0.885038\n",
      "1        AUC                 0.925230          0.820238\n",
      "2     Recall                 0.889497          0.708000\n",
      "3  Precision                 0.845114          0.737500\n",
      "4   F1-Score                 0.866738          0.722449\n"
     ]
    }
   ],
   "source": [
    "\n",
    "# Calculer des mesures de performance pour l'ensemble d'entraînement\n",
    "train_accuracy = accuracy_score(y_train, y_train_pred)\n",
    "train_auc = roc_auc_score(y_train, y_train_pred)\n",
    "train_recall = recall_score(y_train, y_train_pred)\n",
    "train_precision = precision_score(y_train, y_train_pred, pos_label=1)\n",
    "train_f1 = f1_score(y_train, y_train_pred, pos_label=1)\n",
    "\n",
    "# Calculer des mesures de performance pour l'ensemble de test\n",
    "test_accuracy = accuracy_score(y_test, y_test_pred)\n",
    "test_auc = roc_auc_score(y_test, y_test_pred)\n",
    "test_recall = recall_score(y_test, y_test_pred)\n",
    "test_precision = precision_score(y_test, y_test_pred, pos_label=1)\n",
    "test_f1 = f1_score(y_test, y_test_pred, pos_label=1)\n",
    "\n",
    "# le tableau d'évaluation des performances avec précision et F1-score\n",
    "performance_table1 = pd.DataFrame({\n",
    "    'Métrique': ['Accuracy', 'AUC', 'Recall', 'Precision', 'F1-Score'],\n",
    "    'Ensemble d\\'entraînement': [train_accuracy, train_auc, train_recall, train_precision, train_f1],\n",
    "    'Ensemble de test': [test_accuracy, test_auc, test_recall, test_precision, test_f1]\n",
    "})\n",
    "\n",
    "# le tableau d'évaluation des performances\n",
    "print(performance_table1)"
   ]
  },
  {
   "cell_type": "markdown",
   "metadata": {},
   "source": [
    "**Interprétation des résultats du modèle Random Forest (sans optimisation)**\n",
    "\n",
    "Le modèle de Random Forest montre de bonnes performances globales, mais un certain écart entre l'ensemble d'entraînement et l'ensemble de test indique un possible sur-ajustement (overfitting).\n",
    "\n",
    "**Analyse des métriques** :\n",
    "- Accuracy (88.5%) : Bonne capacité globale de classification, bien que l'écart avec l'entraînement (94.7%) montre un risque d'overfitting.\n",
    "- AUC (82.0%) : La capacité de discrimination reste acceptable, mais une baisse par rapport à l'entraînement (92.5%) suggère une marge d'amélioration.\n",
    "- Recall (70.8%) : Une détection plus faible des classes positives sur les données de test, ce qui peut être problématique si le rappel est critique.\n",
    "- Precision (73.7%) : Une bonne précision, mais légèrement supérieure au rappel, ce qui indique que le modèle favorise la précision au détriment de la récupération des cas positifs.\n",
    "- F1-Score (72.2%) : Un compromis équilibré, mais une baisse notable par rapport à l'entraînement (86.7%) confirme l'overfitting.\n",
    "\n",
    "**Conclusion et axes d’amélioration** :\n",
    "- Réduction de l’overfitting : Ajuster les hyperparamètres (ex. : réduire la profondeur des arbres, limiter le nombre d’estimateurs).\n",
    "- Amélioration du rappel : Envisager un rééquilibrage des classes ou ajuster le seuil de décision.\n",
    "- Optimisation globale : Essayer un tuning avec GridSearchCV ou RandomizedSearchCV pour trouver les meilleurs paramètres.\n",
    "\n",
    "Le modèle est performant mais perfectible, notamment en généralisabilité et en rappel."
   ]
  },
  {
   "cell_type": "markdown",
   "metadata": {},
   "source": [
    "##### 1.1.d. Regardons la courbe roc"
   ]
  },
  {
   "cell_type": "code",
   "execution_count": 27,
   "metadata": {},
   "outputs": [
    {
     "data": {
      "image/png": "[encoded data removed]",
      "text/plain": [
       "<Figure size 800x600 with 1 Axes>"
      ]
     },
     "metadata": {},
     "output_type": "display_data"
    }
   ],
   "source": [
    "\n",
    "\n",
    "# Obtenir les scores de probabilité pour les classes positives\n",
    "y_train_prob = random_forest1.predict_proba(X_train)[:, 1]\n",
    "y_test_prob = random_forest1.predict_proba(X_test)[:, 1]\n",
    "\n",
    "# Calculer les taux de faux positifs (FPR) et les taux de vrais positifs (TPR)\n",
    "train_fpr, train_tpr, _ = roc_curve(y_train, y_train_prob)\n",
    "test_fpr, test_tpr, _ = roc_curve(y_test, y_test_prob)\n",
    "# Calculer les AUC pour l'entraînement et le test\n",
    "train_auc = roc_auc_score(y_train, y_train_prob)\n",
    "test_auc = roc_auc_score(y_test, y_test_prob)\n",
    "\n",
    "# Tracer les courbes ROC avec les AUC dans la légende\n",
    "plt.figure(figsize=(8, 6))\n",
    "plt.plot(train_fpr, train_tpr, color='blue', label=f'ROC Train (AUC = {train_auc:.2f})')\n",
    "plt.plot(test_fpr, test_tpr, color='red', label=f'ROC Test (AUC = {test_auc:.2f})')\n",
    "\n",
    "# Tracer la diagonale de référence\n",
    "plt.plot([0, 1], [0, 1], 'k--')\n",
    "\n",
    "# Ajouter des labels et un titre\n",
    "plt.xlabel('Taux de faux positifs (FPR)')\n",
    "plt.ylabel('Taux de vrais positifs (TPR)')\n",
    "plt.title('Courbe ROC - Entraînement vs Test')\n",
    "\n",
    "# Ajouter la légende\n",
    "plt.legend()\n",
    "plt.grid()\n",
    "# Afficher le graphique\n",
    "plt.show()"
   ]
  },
  {
   "cell_type": "markdown",
   "metadata": {},
   "source": [
    "##### 1.1.e. Analyse de l'importance des variables"
   ]
  },
  {
   "cell_type": "code",
   "execution_count": 28,
   "metadata": {},
   "outputs": [
    {
     "name": "stdout",
     "output_type": "stream",
     "text": [
      "Importance des variables :\n",
      "          Variable  Importance\n",
      "0          DEBTINC    0.250902\n",
      "1           DELINQ    0.136442\n",
      "2            CLAGE    0.132187\n",
      "3             LOAN    0.108954\n",
      "4          MORTDUE    0.097812\n",
      "5            DEROG    0.074657\n",
      "6              YOJ    0.068412\n",
      "7             NINQ    0.059048\n",
      "8       JOB_Office    0.017503\n",
      "9   REASON_HomeImp    0.013438\n",
      "10       JOB_Other    0.010760\n",
      "11     JOB_ProfExe    0.009332\n",
      "12         JOB_Mgr    0.008274\n",
      "13       JOB_Sales    0.007855\n",
      "14        JOB_Self    0.004425\n",
      "\n"
     ]
    },
    {
     "data": {
      "image/png": "[encoded data removed]",
      "text/plain": [
       "<Figure size 800x600 with 1 Axes>"
      ]
     },
     "metadata": {},
     "output_type": "display_data"
    }
   ],
   "source": [
    "# Obtenir l'importance des variables\n",
    "importance = random_forest1.feature_importances_\n",
    "\n",
    "# Créer un DataFrame pour afficher l'importance des variables\n",
    "importance_df = pd.DataFrame({'Variable': X_train.columns, 'Importance': importance})\n",
    "importance_df = importance_df.sort_values(by='Importance', ascending=False).reset_index(drop=True)\n",
    "\n",
    "# Afficher l'importance des variables\n",
    "print(\"Importance des variables :\")\n",
    "print(importance_df)\n",
    "print()\n",
    "\n",
    "# Tracer l'importance des variables\n",
    "plt.figure(figsize=(8, 6))\n",
    "plt.bar(importance_df['Variable'], importance_df['Importance'])\n",
    "plt.xticks(rotation='vertical')\n",
    "plt.xlabel('Variable')\n",
    "plt.ylabel('Importance')\n",
    "plt.title('Importance des variables')\n",
    "plt.tight_layout()\n",
    "plt.grid()\n",
    "plt.show()"
   ]
  },
  {
   "cell_type": "markdown",
   "metadata": {},
   "source": [
    "**Principales observations :**\n",
    "\n",
    "- La variable la plus importante est DEBTINC (ratio de la dette sur le revenu), avec une importance élevée.\n",
    "- Viennent ensuite DELINQ (nombre de paiements en retard) et CLAGE (ancienneté du compte) qui ont également une importance significative.\n",
    "- Les variables liées à l'emploi (JOB_*) ont une importance relativement faible comparées aux variables financières.\n",
    "- Les variables REASON_Homelmp (raison du prêt) et NINQ (nombre d'enquêtes de crédit) ont aussi une importance assez faible."
   ]
  },
  {
   "cell_type": "markdown",
   "metadata": {},
   "source": [
    "##### 1.1.f. le log loss 1 "
   ]
  },
  {
   "cell_type": "code",
   "execution_count": 29,
   "metadata": {},
   "outputs": [
    {
     "name": "stdout",
     "output_type": "stream",
     "text": [
      "Log Loss - Entraînement: 0.2628\n",
      "Log Loss - Test: 0.3471\n"
     ]
    }
   ],
   "source": [
    "\n",
    "# Calculer le log loss sur les ensembles d'entraînement et de test\n",
    "train_log_loss1 = log_loss(y_train, random_forest1.predict_proba(X_train)[:, 1])\n",
    "test_log_loss1 = log_loss(y_test, random_forest1.predict_proba(X_test)[:, 1])\n",
    "\n",
    "print(f'Log Loss - Entraînement: {train_log_loss1:.4f}')\n",
    "print(f'Log Loss - Test: {test_log_loss1:.4f}')\n"
   ]
  },
  {
   "cell_type": "markdown",
   "metadata": {},
   "source": [
    "##### 1.2. Modèle avec optimisation en utilisant les seuils pratique "
   ]
  },
  {
   "cell_type": "markdown",
   "metadata": {},
   "source": [
    "Il est essentiel de faire des choix judicieux pour certains paramètres afin d'optimiser les performances du modèle. \n",
    " \n",
    "Deux paramètres importants que nous pouvons considérer sont :\n",
    "\n",
    "max_features : Il s'agit qui est la complexité du modèle et d'éviter le surajustement (overfitting).\n",
    "\n",
    "Pour ce faire , nous allons suivre une approche  consistant à fixer max_features à la racine carrée du nombre de variables utilisées. \n",
    "\n",
    "Cela permet de limiter la profondeur des arbres et de prévenir une croissance excessive, tout en maintenant un bon équilibre entre sous-apprentissage et surapprentissage."
   ]
  },
  {
   "cell_type": "markdown",
   "metadata": {},
   "source": [
    "##### 1.2.a. Entrainement du modèle "
   ]
  },
  {
   "cell_type": "code",
   "execution_count": 30,
   "metadata": {},
   "outputs": [
    {
     "data": {
      "text/html": [
       "<style>#sk-container-id-2 {\n",
       "  /* Definition of color scheme common for light and dark mode */\n",
       "  --sklearn-color-text: #000;\n",
       "  --sklearn-color-text-muted: #666;\n",
       "  --sklearn-color-line: gray;\n",
       "  /* Definition of color scheme for unfitted estimators */\n",
       "  --sklearn-color-unfitted-level-0: #fff5e6;\n",
       "  --sklearn-color-unfitted-level-1: #f6e4d2;\n",
       "  --sklearn-color-unfitted-level-2: #ffe0b3;\n",
       "  --sklearn-color-unfitted-level-3: chocolate;\n",
       "  /* Definition of color scheme for fitted estimators */\n",
       "  --sklearn-color-fitted-level-0: #f0f8ff;\n",
       "  --sklearn-color-fitted-level-1: #d4ebff;\n",
       "  --sklearn-color-fitted-level-2: #b3dbfd;\n",
       "  --sklearn-color-fitted-level-3: cornflowerblue;\n",
       "\n",
       "  /* Specific color for light theme */\n",
       "  --sklearn-color-text-on-default-background: var(--sg-text-color, var(--theme-code-foreground, var(--jp-content-font-color1, black)));\n",
       "  --sklearn-color-background: var(--sg-background-color, var(--theme-background, var(--jp-layout-color0, white)));\n",
       "  --sklearn-color-border-box: var(--sg-text-color, var(--theme-code-foreground, var(--jp-content-font-color1, black)));\n",
       "  --sklearn-color-icon: #696969;\n",
       "\n",
       "  @media (prefers-color-scheme: dark) {\n",
       "    /* Redefinition of color scheme for dark theme */\n",
       "    --sklearn-color-text-on-default-background: var(--sg-text-color, var(--theme-code-foreground, var(--jp-content-font-color1, white)));\n",
       "    --sklearn-color-background: var(--sg-background-color, var(--theme-background, var(--jp-layout-color0, #111)));\n",
       "    --sklearn-color-border-box: var(--sg-text-color, var(--theme-code-foreground, var(--jp-content-font-color1, white)));\n",
       "    --sklearn-color-icon: #878787;\n",
       "  }\n",
       "}\n",
       "\n",
       "#sk-container-id-2 {\n",
       "  color: var(--sklearn-color-text);\n",
       "}\n",
       "\n",
       "#sk-container-id-2 pre {\n",
       "  padding: 0;\n",
       "}\n",
       "\n",
       "#sk-container-id-2 input.sk-hidden--visually {\n",
       "  border: 0;\n",
       "  clip: rect(1px 1px 1px 1px);\n",
       "  clip: rect(1px, 1px, 1px, 1px);\n",
       "  height: 1px;\n",
       "  margin: -1px;\n",
       "  overflow: hidden;\n",
       "  padding: 0;\n",
       "  position: absolute;\n",
       "  width: 1px;\n",
       "}\n",
       "\n",
       "#sk-container-id-2 div.sk-dashed-wrapped {\n",
       "  border: 1px dashed var(--sklearn-color-line);\n",
       "  margin: 0 0.4em 0.5em 0.4em;\n",
       "  box-sizing: border-box;\n",
       "  padding-bottom: 0.4em;\n",
       "  background-color: var(--sklearn-color-background);\n",
       "}\n",
       "\n",
       "#sk-container-id-2 div.sk-container {\n",
       "  /* jupyter's `normalize.less` sets `[hidden] { display: none; }`\n",
       "     but bootstrap.min.css set `[hidden] { display: none !important; }`\n",
       "     so we also need the `!important` here to be able to override the\n",
       "     default hidden behavior on the sphinx rendered scikit-learn.org.\n",
       "     See: https://github.com/scikit-learn/scikit-learn/issues/21755 */\n",
       "  display: inline-block !important;\n",
       "  position: relative;\n",
       "}\n",
       "\n",
       "#sk-container-id-2 div.sk-text-repr-fallback {\n",
       "  display: none;\n",
       "}\n",
       "\n",
       "div.sk-parallel-item,\n",
       "div.sk-serial,\n",
       "div.sk-item {\n",
       "  /* draw centered vertical line to link estimators */\n",
       "  background-image: linear-gradient(var(--sklearn-color-text-on-default-background), var(--sklearn-color-text-on-default-background));\n",
       "  background-size: 2px 100%;\n",
       "  background-repeat: no-repeat;\n",
       "  background-position: center center;\n",
       "}\n",
       "\n",
       "/* Parallel-specific style estimator block */\n",
       "\n",
       "#sk-container-id-2 div.sk-parallel-item::after {\n",
       "  content: \"\";\n",
       "  width: 100%;\n",
       "  border-bottom: 2px solid var(--sklearn-color-text-on-default-background);\n",
       "  flex-grow: 1;\n",
       "}\n",
       "\n",
       "#sk-container-id-2 div.sk-parallel {\n",
       "  display: flex;\n",
       "  align-items: stretch;\n",
       "  justify-content: center;\n",
       "  background-color: var(--sklearn-color-background);\n",
       "  position: relative;\n",
       "}\n",
       "\n",
       "#sk-container-id-2 div.sk-parallel-item {\n",
       "  display: flex;\n",
       "  flex-direction: column;\n",
       "}\n",
       "\n",
       "#sk-container-id-2 div.sk-parallel-item:first-child::after {\n",
       "  align-self: flex-end;\n",
       "  width: 50%;\n",
       "}\n",
       "\n",
       "#sk-container-id-2 div.sk-parallel-item:last-child::after {\n",
       "  align-self: flex-start;\n",
       "  width: 50%;\n",
       "}\n",
       "\n",
       "#sk-container-id-2 div.sk-parallel-item:only-child::after {\n",
       "  width: 0;\n",
       "}\n",
       "\n",
       "/* Serial-specific style estimator block */\n",
       "\n",
       "#sk-container-id-2 div.sk-serial {\n",
       "  display: flex;\n",
       "  flex-direction: column;\n",
       "  align-items: center;\n",
       "  background-color: var(--sklearn-color-background);\n",
       "  padding-right: 1em;\n",
       "  padding-left: 1em;\n",
       "}\n",
       "\n",
       "\n",
       "/* Toggleable style: style used for estimator/Pipeline/ColumnTransformer box that is\n",
       "clickable and can be expanded/collapsed.\n",
       "- Pipeline and ColumnTransformer use this feature and define the default style\n",
       "- Estimators will overwrite some part of the style using the `sk-estimator` class\n",
       "*/\n",
       "\n",
       "/* Pipeline and ColumnTransformer style (default) */\n",
       "\n",
       "#sk-container-id-2 div.sk-toggleable {\n",
       "  /* Default theme specific background. It is overwritten whether we have a\n",
       "  specific estimator or a Pipeline/ColumnTransformer */\n",
       "  background-color: var(--sklearn-color-background);\n",
       "}\n",
       "\n",
       "/* Toggleable label */\n",
       "#sk-container-id-2 label.sk-toggleable__label {\n",
       "  cursor: pointer;\n",
       "  display: flex;\n",
       "  width: 100%;\n",
       "  margin-bottom: 0;\n",
       "  padding: 0.5em;\n",
       "  box-sizing: border-box;\n",
       "  text-align: center;\n",
       "  align-items: start;\n",
       "  justify-content: space-between;\n",
       "  gap: 0.5em;\n",
       "}\n",
       "\n",
       "#sk-container-id-2 label.sk-toggleable__label .caption {\n",
       "  font-size: 0.6rem;\n",
       "  font-weight: lighter;\n",
       "  color: var(--sklearn-color-text-muted);\n",
       "}\n",
       "\n",
       "#sk-container-id-2 label.sk-toggleable__label-arrow:before {\n",
       "  /* Arrow on the left of the label */\n",
       "  content: \"▸\";\n",
       "  float: left;\n",
       "  margin-right: 0.25em;\n",
       "  color: var(--sklearn-color-icon);\n",
       "}\n",
       "\n",
       "#sk-container-id-2 label.sk-toggleable__label-arrow:hover:before {\n",
       "  color: var(--sklearn-color-text);\n",
       "}\n",
       "\n",
       "/* Toggleable content - dropdown */\n",
       "\n",
       "#sk-container-id-2 div.sk-toggleable__content {\n",
       "  max-height: 0;\n",
       "  max-width: 0;\n",
       "  overflow: hidden;\n",
       "  text-align: left;\n",
       "  /* unfitted */\n",
       "  background-color: var(--sklearn-color-unfitted-level-0);\n",
       "}\n",
       "\n",
       "#sk-container-id-2 div.sk-toggleable__content.fitted {\n",
       "  /* fitted */\n",
       "  background-color: var(--sklearn-color-fitted-level-0);\n",
       "}\n",
       "\n",
       "#sk-container-id-2 div.sk-toggleable__content pre {\n",
       "  margin: 0.2em;\n",
       "  border-radius: 0.25em;\n",
       "  color: var(--sklearn-color-text);\n",
       "  /* unfitted */\n",
       "  background-color: var(--sklearn-color-unfitted-level-0);\n",
       "}\n",
       "\n",
       "#sk-container-id-2 div.sk-toggleable__content.fitted pre {\n",
       "  /* unfitted */\n",
       "  background-color: var(--sklearn-color-fitted-level-0);\n",
       "}\n",
       "\n",
       "#sk-container-id-2 input.sk-toggleable__control:checked~div.sk-toggleable__content {\n",
       "  /* Expand drop-down */\n",
       "  max-height: 200px;\n",
       "  max-width: 100%;\n",
       "  overflow: auto;\n",
       "}\n",
       "\n",
       "#sk-container-id-2 input.sk-toggleable__control:checked~label.sk-toggleable__label-arrow:before {\n",
       "  content: \"▾\";\n",
       "}\n",
       "\n",
       "/* Pipeline/ColumnTransformer-specific style */\n",
       "\n",
       "#sk-container-id-2 div.sk-label input.sk-toggleable__control:checked~label.sk-toggleable__label {\n",
       "  color: var(--sklearn-color-text);\n",
       "  background-color: var(--sklearn-color-unfitted-level-2);\n",
       "}\n",
       "\n",
       "#sk-container-id-2 div.sk-label.fitted input.sk-toggleable__control:checked~label.sk-toggleable__label {\n",
       "  background-color: var(--sklearn-color-fitted-level-2);\n",
       "}\n",
       "\n",
       "/* Estimator-specific style */\n",
       "\n",
       "/* Colorize estimator box */\n",
       "#sk-container-id-2 div.sk-estimator input.sk-toggleable__control:checked~label.sk-toggleable__label {\n",
       "  /* unfitted */\n",
       "  background-color: var(--sklearn-color-unfitted-level-2);\n",
       "}\n",
       "\n",
       "#sk-container-id-2 div.sk-estimator.fitted input.sk-toggleable__control:checked~label.sk-toggleable__label {\n",
       "  /* fitted */\n",
       "  background-color: var(--sklearn-color-fitted-level-2);\n",
       "}\n",
       "\n",
       "#sk-container-id-2 div.sk-label label.sk-toggleable__label,\n",
       "#sk-container-id-2 div.sk-label label {\n",
       "  /* The background is the default theme color */\n",
       "  color: var(--sklearn-color-text-on-default-background);\n",
       "}\n",
       "\n",
       "/* On hover, darken the color of the background */\n",
       "#sk-container-id-2 div.sk-label:hover label.sk-toggleable__label {\n",
       "  color: var(--sklearn-color-text);\n",
       "  background-color: var(--sklearn-color-unfitted-level-2);\n",
       "}\n",
       "\n",
       "/* Label box, darken color on hover, fitted */\n",
       "#sk-container-id-2 div.sk-label.fitted:hover label.sk-toggleable__label.fitted {\n",
       "  color: var(--sklearn-color-text);\n",
       "  background-color: var(--sklearn-color-fitted-level-2);\n",
       "}\n",
       "\n",
       "/* Estimator label */\n",
       "\n",
       "#sk-container-id-2 div.sk-label label {\n",
       "  font-family: monospace;\n",
       "  font-weight: bold;\n",
       "  display: inline-block;\n",
       "  line-height: 1.2em;\n",
       "}\n",
       "\n",
       "#sk-container-id-2 div.sk-label-container {\n",
       "  text-align: center;\n",
       "}\n",
       "\n",
       "/* Estimator-specific */\n",
       "#sk-container-id-2 div.sk-estimator {\n",
       "  font-family: monospace;\n",
       "  border: 1px dotted var(--sklearn-color-border-box);\n",
       "  border-radius: 0.25em;\n",
       "  box-sizing: border-box;\n",
       "  margin-bottom: 0.5em;\n",
       "  /* unfitted */\n",
       "  background-color: var(--sklearn-color-unfitted-level-0);\n",
       "}\n",
       "\n",
       "#sk-container-id-2 div.sk-estimator.fitted {\n",
       "  /* fitted */\n",
       "  background-color: var(--sklearn-color-fitted-level-0);\n",
       "}\n",
       "\n",
       "/* on hover */\n",
       "#sk-container-id-2 div.sk-estimator:hover {\n",
       "  /* unfitted */\n",
       "  background-color: var(--sklearn-color-unfitted-level-2);\n",
       "}\n",
       "\n",
       "#sk-container-id-2 div.sk-estimator.fitted:hover {\n",
       "  /* fitted */\n",
       "  background-color: var(--sklearn-color-fitted-level-2);\n",
       "}\n",
       "\n",
       "/* Specification for estimator info (e.g. \"i\" and \"?\") */\n",
       "\n",
       "/* Common style for \"i\" and \"?\" */\n",
       "\n",
       ".sk-estimator-doc-link,\n",
       "a:link.sk-estimator-doc-link,\n",
       "a:visited.sk-estimator-doc-link {\n",
       "  float: right;\n",
       "  font-size: smaller;\n",
       "  line-height: 1em;\n",
       "  font-family: monospace;\n",
       "  background-color: var(--sklearn-color-background);\n",
       "  border-radius: 1em;\n",
       "  height: 1em;\n",
       "  width: 1em;\n",
       "  text-decoration: none !important;\n",
       "  margin-left: 0.5em;\n",
       "  text-align: center;\n",
       "  /* unfitted */\n",
       "  border: var(--sklearn-color-unfitted-level-1) 1pt solid;\n",
       "  color: var(--sklearn-color-unfitted-level-1);\n",
       "}\n",
       "\n",
       ".sk-estimator-doc-link.fitted,\n",
       "a:link.sk-estimator-doc-link.fitted,\n",
       "a:visited.sk-estimator-doc-link.fitted {\n",
       "  /* fitted */\n",
       "  border: var(--sklearn-color-fitted-level-1) 1pt solid;\n",
       "  color: var(--sklearn-color-fitted-level-1);\n",
       "}\n",
       "\n",
       "/* On hover */\n",
       "div.sk-estimator:hover .sk-estimator-doc-link:hover,\n",
       ".sk-estimator-doc-link:hover,\n",
       "div.sk-label-container:hover .sk-estimator-doc-link:hover,\n",
       ".sk-estimator-doc-link:hover {\n",
       "  /* unfitted */\n",
       "  background-color: var(--sklearn-color-unfitted-level-3);\n",
       "  color: var(--sklearn-color-background);\n",
       "  text-decoration: none;\n",
       "}\n",
       "\n",
       "div.sk-estimator.fitted:hover .sk-estimator-doc-link.fitted:hover,\n",
       ".sk-estimator-doc-link.fitted:hover,\n",
       "div.sk-label-container:hover .sk-estimator-doc-link.fitted:hover,\n",
       ".sk-estimator-doc-link.fitted:hover {\n",
       "  /* fitted */\n",
       "  background-color: var(--sklearn-color-fitted-level-3);\n",
       "  color: var(--sklearn-color-background);\n",
       "  text-decoration: none;\n",
       "}\n",
       "\n",
       "/* Span, style for the box shown on hovering the info icon */\n",
       ".sk-estimator-doc-link span {\n",
       "  display: none;\n",
       "  z-index: 9999;\n",
       "  position: relative;\n",
       "  font-weight: normal;\n",
       "  right: .2ex;\n",
       "  padding: .5ex;\n",
       "  margin: .5ex;\n",
       "  width: min-content;\n",
       "  min-width: 20ex;\n",
       "  max-width: 50ex;\n",
       "  color: var(--sklearn-color-text);\n",
       "  box-shadow: 2pt 2pt 4pt #999;\n",
       "  /* unfitted */\n",
       "  background: var(--sklearn-color-unfitted-level-0);\n",
       "  border: .5pt solid var(--sklearn-color-unfitted-level-3);\n",
       "}\n",
       "\n",
       ".sk-estimator-doc-link.fitted span {\n",
       "  /* fitted */\n",
       "  background: var(--sklearn-color-fitted-level-0);\n",
       "  border: var(--sklearn-color-fitted-level-3);\n",
       "}\n",
       "\n",
       ".sk-estimator-doc-link:hover span {\n",
       "  display: block;\n",
       "}\n",
       "\n",
       "/* \"?\"-specific style due to the `<a>` HTML tag */\n",
       "\n",
       "#sk-container-id-2 a.estimator_doc_link {\n",
       "  float: right;\n",
       "  font-size: 1rem;\n",
       "  line-height: 1em;\n",
       "  font-family: monospace;\n",
       "  background-color: var(--sklearn-color-background);\n",
       "  border-radius: 1rem;\n",
       "  height: 1rem;\n",
       "  width: 1rem;\n",
       "  text-decoration: none;\n",
       "  /* unfitted */\n",
       "  color: var(--sklearn-color-unfitted-level-1);\n",
       "  border: var(--sklearn-color-unfitted-level-1) 1pt solid;\n",
       "}\n",
       "\n",
       "#sk-container-id-2 a.estimator_doc_link.fitted {\n",
       "  /* fitted */\n",
       "  border: var(--sklearn-color-fitted-level-1) 1pt solid;\n",
       "  color: var(--sklearn-color-fitted-level-1);\n",
       "}\n",
       "\n",
       "/* On hover */\n",
       "#sk-container-id-2 a.estimator_doc_link:hover {\n",
       "  /* unfitted */\n",
       "  background-color: var(--sklearn-color-unfitted-level-3);\n",
       "  color: var(--sklearn-color-background);\n",
       "  text-decoration: none;\n",
       "}\n",
       "\n",
       "#sk-container-id-2 a.estimator_doc_link.fitted:hover {\n",
       "  /* fitted */\n",
       "  background-color: var(--sklearn-color-fitted-level-3);\n",
       "}\n",
       "</style><div id=\"sk-container-id-2\" class=\"sk-top-container\"><div class=\"sk-text-repr-fallback\"><pre>RandomForestClassifier(class_weight=&#x27;balanced&#x27;, max_depth=10, max_features=3,\n",
       "                       oob_score=True)</pre><b>In a Jupyter environment, please rerun this cell to show the HTML representation or trust the notebook. <br />On GitHub, the HTML representation is unable to render, please try loading this page with nbviewer.org.</b></div><div class=\"sk-container\" hidden><div class=\"sk-item\"><div class=\"sk-estimator fitted sk-toggleable\"><input class=\"sk-toggleable__control sk-hidden--visually\" id=\"sk-estimator-id-2\" type=\"checkbox\" checked><label for=\"sk-estimator-id-2\" class=\"sk-toggleable__label fitted sk-toggleable__label-arrow\"><div><div>RandomForestClassifier</div></div><div><a class=\"sk-estimator-doc-link fitted\" rel=\"noreferrer\" target=\"_blank\" href=\"https://scikit-learn.org/1.6/modules/generated/sklearn.ensemble.RandomForestClassifier.html\">?<span>Documentation for RandomForestClassifier</span></a><span class=\"sk-estimator-doc-link fitted\">i<span>Fitted</span></span></div></label><div class=\"sk-toggleable__content fitted\"><pre>RandomForestClassifier(class_weight=&#x27;balanced&#x27;, max_depth=10, max_features=3,\n",
       "                       oob_score=True)</pre></div> </div></div></div></div>"
      ],
      "text/plain": [
       "RandomForestClassifier(class_weight='balanced', max_depth=10, max_features=3,\n",
       "                       oob_score=True)"
      ]
     },
     "execution_count": 30,
     "metadata": {},
     "output_type": "execute_result"
    }
   ],
   "source": [
    "# Calculer DU nombre maximum de variables (max_features) à la racine carrée\n",
    "max_features = int(np.sqrt(X_train.shape[1]))\n",
    "\n",
    "# Créer la forêt aléatoire avec les hyperparamètres fixés\n",
    "random_forest2 = RandomForestClassifier(n_estimators=100, max_depth=10, max_features=max_features, class_weight='balanced',oob_score=True)\n",
    "\n",
    "# Entraîner le modèle sur les données d'entraînement\n",
    "random_forest2.fit(X_train, y_train)"
   ]
  },
  {
   "cell_type": "markdown",
   "metadata": {},
   "source": [
    "##### 1.2.b. Prédiction sur les bases train et test"
   ]
  },
  {
   "cell_type": "code",
   "execution_count": 31,
   "metadata": {},
   "outputs": [],
   "source": [
    "# Prédire les classes sur les ensembles d'entraînement et de test\n",
    "y_train_pred = random_forest2.predict(X_train)\n",
    "y_test_pred = random_forest2.predict(X_test)"
   ]
  },
  {
   "cell_type": "markdown",
   "metadata": {},
   "source": [
    "##### 1.2.c. Evaluons les performances"
   ]
  },
  {
   "cell_type": "code",
   "execution_count": 32,
   "metadata": {},
   "outputs": [
    {
     "name": "stdout",
     "output_type": "stream",
     "text": [
      "    Métrique  Ensemble d'entraînement  Ensemble de test\n",
      "0   Accuracy                 0.949694          0.885038\n",
      "1        AUC                 0.927218          0.815846\n",
      "2     Recall                 0.890591          0.696000\n",
      "3  Precision                 0.855042          0.743590\n",
      "4   F1-Score                 0.872454          0.719008\n"
     ]
    }
   ],
   "source": [
    "\n",
    "# Calculer Des mesures de performance pour l'ensemble d'entraînement\n",
    "train_accuracy = accuracy_score(y_train, y_train_pred)\n",
    "train_auc = roc_auc_score(y_train, y_train_pred)\n",
    "train_recall = recall_score(y_train, y_train_pred)\n",
    "train_precision = precision_score(y_train, y_train_pred, pos_label=1)\n",
    "train_f1 = f1_score(y_train, y_train_pred, pos_label=1)\n",
    "\n",
    "# Calculer Des mesures de performance pour l'ensemble de test\n",
    "test_accuracy = accuracy_score(y_test, y_test_pred)\n",
    "test_auc = roc_auc_score(y_test, y_test_pred)\n",
    "test_recall = recall_score(y_test, y_test_pred)\n",
    "test_precision = precision_score(y_test, y_test_pred, pos_label=1)\n",
    "test_f1 = f1_score(y_test, y_test_pred, pos_label=1)\n",
    "\n",
    "# le tableau d'évaluation des performances avec précision et F1-score\n",
    "performance_table2 = pd.DataFrame({\n",
    "    'Métrique': ['Accuracy', 'AUC', 'Recall', 'Precision', 'F1-Score'],\n",
    "    'Ensemble d\\'entraînement': [train_accuracy, train_auc, train_recall, train_precision, train_f1],\n",
    "    'Ensemble de test': [test_accuracy, test_auc, test_recall, test_precision, test_f1]\n",
    "})\n",
    "\n",
    "# tableau d'évaluation des performances\n",
    "print(performance_table2)"
   ]
  },
  {
   "cell_type": "markdown",
   "metadata": {},
   "source": [
    "**Interprétation des résultats après ajustement des seuils**\n",
    "\n",
    "**Comparaison avant/après**\n",
    "|Métrique|Avant (Test)|Après (Test)|Impact|\n",
    "|--------|------------|------------|-------|\n",
    "|Accuracy|0.885       |0.885       |Stable |\n",
    "|AUC     |0.820       |0.813       |Légère baisse|\n",
    "|Recall  |0.708       |0.688       |Diminué (-2 pts)|\n",
    "|Precision|0.738      |0.748       |Augmenté (+1 pt)|\n",
    "|F1-Score|0.722       |0.717       |Stable (-0.5 pt)|\n",
    "\n",
    "**Analyse des changements**\n",
    "- Léger gain en précision (+1 pt), ce qui signifie moins de faux positifs.\n",
    "- Baisse du rappel (-2 pts), ce qui suggère que le modèle identifie moins de cas positifs.\n",
    "- F1-Score quasi stable, indiquant que le compromis précision-rappel reste similaire.\n",
    "- AUC en légère diminution, ce qui peut indiquer une réduction de la capacité de discrimination du modèle.\n"
   ]
  },
  {
   "cell_type": "markdown",
   "metadata": {},
   "source": [
    "##### 1.2.d. Performances du modèle"
   ]
  },
  {
   "cell_type": "code",
   "execution_count": 33,
   "metadata": {},
   "outputs": [
    {
     "data": {
      "image/png": "[encoded data removed]",
      "text/plain": [
       "<Figure size 800x600 with 1 Axes>"
      ]
     },
     "metadata": {},
     "output_type": "display_data"
    }
   ],
   "source": [
    "# Obtenir les scores de probabilité pour les classes positives\n",
    "y_train_prob = random_forest2.predict_proba(X_train)[:, 1]\n",
    "y_test_prob = random_forest2.predict_proba(X_test)[:, 1]\n",
    "\n",
    "# Calculer les taux de faux positifs (FPR) et les taux de vrais positifs (TPR)\n",
    "train_fpr, train_tpr, _ = roc_curve(y_train, y_train_prob)\n",
    "test_fpr, test_tpr, _ = roc_curve(y_test, y_test_prob)\n",
    "\n",
    "# Tracer les courbes ROC\n",
    "plt.figure(figsize=(8, 6))\n",
    "plt.plot(train_fpr, train_tpr, label='Ensemble d\\'entraînement')\n",
    "plt.plot(test_fpr, test_tpr, label='Ensemble de test')\n",
    "plt.plot([0, 1], [0, 1], 'k--')\n",
    "plt.xlabel('Taux de faux positifs (FPR)')\n",
    "plt.ylabel('Taux de vrais positifs (TPR)')\n",
    "plt.title('Courbe ROC')\n",
    "plt.legend()\n",
    "plt.show()"
   ]
  },
  {
   "cell_type": "markdown",
   "metadata": {},
   "source": [
    "**Principales observations :**\n",
    "\n",
    "- La courbe ROC montre les performances du modèle sur l'ensemble d'entraînement (en bleu) et l'ensemble de test (en orange).\n",
    "- La courbe de l'ensemble d'entraînement est plus élevée que celle de l'ensemble de test, indiquant un certain surapprentissage du modèle.\n",
    "- L'aire sous la courbe ROC (AUC) est d'environ 0,82 sur l'ensemble de test, ce qui indique de bonnes performances de classification globales.\n",
    "- À un taux de faux positifs (FPR) de 0,2, le taux de vrais positifs (TPR) est d'environ 0,8, ce qui signifie que le modèle arrive à bien identifier 80% des cas positifs tout en gardant un faible taux de faux positifs."
   ]
  },
  {
   "cell_type": "markdown",
   "metadata": {},
   "source": [
    "##### 1.2.e. Importance des variables"
   ]
  },
  {
   "cell_type": "code",
   "execution_count": 34,
   "metadata": {},
   "outputs": [
    {
     "name": "stdout",
     "output_type": "stream",
     "text": [
      "Importance des variables :\n",
      "          Variable  Importance\n",
      "0          DEBTINC    0.244422\n",
      "1           DELINQ    0.137692\n",
      "2            CLAGE    0.129954\n",
      "3             LOAN    0.105006\n",
      "4          MORTDUE    0.100907\n",
      "5            DEROG    0.074700\n",
      "6              YOJ    0.073930\n",
      "7             NINQ    0.060145\n",
      "8       JOB_Office    0.016978\n",
      "9   REASON_HomeImp    0.014134\n",
      "10     JOB_ProfExe    0.010265\n",
      "11       JOB_Other    0.009983\n",
      "12       JOB_Sales    0.008509\n",
      "13         JOB_Mgr    0.007906\n",
      "14        JOB_Self    0.005470\n",
      "\n"
     ]
    },
    {
     "data": {
      "image/png": "[encoded data removed]",
      "text/plain": [
       "<Figure size 800x600 with 1 Axes>"
      ]
     },
     "metadata": {},
     "output_type": "display_data"
    }
   ],
   "source": [
    "# Obtenir l'importance des variables\n",
    "importance = random_forest2.feature_importances_\n",
    "\n",
    "# Créer un DataFrame pour afficher l'importance des variables\n",
    "importance_df = pd.DataFrame({'Variable': X_train.columns, 'Importance': importance})\n",
    "importance_df = importance_df.sort_values(by='Importance', ascending=False).reset_index(drop=True)\n",
    "\n",
    "# Afficher l'importance des variables\n",
    "print(\"Importance des variables :\")\n",
    "print(importance_df)\n",
    "print()\n",
    "\n",
    "# Tracer l'importance des variables\n",
    "plt.figure(figsize=(8, 6))\n",
    "plt.bar(importance_df['Variable'], importance_df['Importance'])\n",
    "plt.xticks(rotation='vertical')\n",
    "plt.xlabel('Variable')\n",
    "plt.ylabel('Importance')\n",
    "plt.title('Importance des variables')\n",
    "plt.tight_layout()\n",
    "plt.grid()\n",
    "plt.show()"
   ]
  },
  {
   "cell_type": "markdown",
   "metadata": {},
   "source": [
    "##### 1.2.f. le log loss 2 "
   ]
  },
  {
   "cell_type": "code",
   "execution_count": 35,
   "metadata": {},
   "outputs": [
    {
     "name": "stdout",
     "output_type": "stream",
     "text": [
      "Log Loss - Entraînement: 0.2623\n",
      "Log Loss - Test: 0.3457\n"
     ]
    }
   ],
   "source": [
    "# Calculer le log loss sur les ensembles d'entraînement et de test\n",
    "train_log_loss2 = log_loss(y_train, random_forest2.predict_proba(X_train)[:, 1])\n",
    "test_log_loss2 = log_loss(y_test, random_forest2.predict_proba(X_test)[:, 1])\n",
    "\n",
    "print(f'Log Loss - Entraînement: {train_log_loss2:.4f}')\n",
    "print(f'Log Loss - Test: {test_log_loss2:.4f}')"
   ]
  },
  {
   "cell_type": "markdown",
   "metadata": {},
   "source": [
    "##### 1.3. Optimisation avec une validation croisée , un grid search"
   ]
  },
  {
   "cell_type": "markdown",
   "metadata": {},
   "source": [
    "Lors de cette optimisation les parametres que nous optimisont sont : \n",
    "\n",
    "n_estimators : nombre d'arbres de décision dans la forêt aléatoire. Augmenter ce nombre peut améliorer les performances du modèle, mais cela entraîne également une augmentation du temps de calcul.\n",
    "\n",
    "max_depth : C'est la profondeur maximale de chaque arbre de décision. Une valeur plus élevée permet à l'arbre d'apprendre des relations plus complexes dans les données, mais elle peut également conduire à un surajustement. Il est important de trouver un équilibre pour éviter l'overfitting.\n",
    "\n",
    "min_samples_split : Ce paramètre définit le nombre minimum d'échantillons requis pour scinder un nœud. Une valeur plus élevée peut conduire à des arbres plus simples et éviter l'overfitting, mais cela peut également entraîner une sous-représentation des informations dans les données."
   ]
  },
  {
   "cell_type": "markdown",
   "metadata": {},
   "source": [
    "##### 1.3.a. Entrainement du modèle"
   ]
  },
  {
   "cell_type": "code",
   "execution_count": 36,
   "metadata": {},
   "outputs": [
    {
     "name": "stdout",
     "output_type": "stream",
     "text": [
      "Meilleurs paramètres qui vont optimiser l'accuracy : {'max_depth': 8, 'n_estimators': 300}\n"
     ]
    }
   ],
   "source": [
    "# les hyperparamètres à tester à l'aide de GridSearch\n",
    "param_grid = {\n",
    "    'n_estimators': [100, 200, 300,500],\n",
    "    'max_depth': [1,2,3,4,6,7,8]\n",
    "}\n",
    "\n",
    "# Modèle de forêt aléatoire\n",
    "rf_model = RandomForestClassifier(oob_score=True, random_state=99)\n",
    "\n",
    "# GridSearch pour trouver les meilleurs paramètres\n",
    "grid_search = GridSearchCV(rf_model, param_grid, cv=5)\n",
    "grid_search.fit(X_train, y_train)\n",
    "\n",
    "# Afficher les meilleurs paramètres trouvés\n",
    "print(\"Meilleurs paramètres qui vont optimiser l'accuracy :\", grid_search.best_params_)\n",
    "\n",
    "# ['DELINQ','DEROG','NINQ','CLAGE','DEBTINC','LOAN','YOJ','JOB_Office','VALUE','JOB_ProfExe','JOB_Other','JOB_Sales']"
   ]
  },
  {
   "cell_type": "code",
   "execution_count": 37,
   "metadata": {},
   "outputs": [
    {
     "data": {
      "text/html": [
       "<style>#sk-container-id-3 {\n",
       "  /* Definition of color scheme common for light and dark mode */\n",
       "  --sklearn-color-text: #000;\n",
       "  --sklearn-color-text-muted: #666;\n",
       "  --sklearn-color-line: gray;\n",
       "  /* Definition of color scheme for unfitted estimators */\n",
       "  --sklearn-color-unfitted-level-0: #fff5e6;\n",
       "  --sklearn-color-unfitted-level-1: #f6e4d2;\n",
       "  --sklearn-color-unfitted-level-2: #ffe0b3;\n",
       "  --sklearn-color-unfitted-level-3: chocolate;\n",
       "  /* Definition of color scheme for fitted estimators */\n",
       "  --sklearn-color-fitted-level-0: #f0f8ff;\n",
       "  --sklearn-color-fitted-level-1: #d4ebff;\n",
       "  --sklearn-color-fitted-level-2: #b3dbfd;\n",
       "  --sklearn-color-fitted-level-3: cornflowerblue;\n",
       "\n",
       "  /* Specific color for light theme */\n",
       "  --sklearn-color-text-on-default-background: var(--sg-text-color, var(--theme-code-foreground, var(--jp-content-font-color1, black)));\n",
       "  --sklearn-color-background: var(--sg-background-color, var(--theme-background, var(--jp-layout-color0, white)));\n",
       "  --sklearn-color-border-box: var(--sg-text-color, var(--theme-code-foreground, var(--jp-content-font-color1, black)));\n",
       "  --sklearn-color-icon: #696969;\n",
       "\n",
       "  @media (prefers-color-scheme: dark) {\n",
       "    /* Redefinition of color scheme for dark theme */\n",
       "    --sklearn-color-text-on-default-background: var(--sg-text-color, var(--theme-code-foreground, var(--jp-content-font-color1, white)));\n",
       "    --sklearn-color-background: var(--sg-background-color, var(--theme-background, var(--jp-layout-color0, #111)));\n",
       "    --sklearn-color-border-box: var(--sg-text-color, var(--theme-code-foreground, var(--jp-content-font-color1, white)));\n",
       "    --sklearn-color-icon: #878787;\n",
       "  }\n",
       "}\n",
       "\n",
       "#sk-container-id-3 {\n",
       "  color: var(--sklearn-color-text);\n",
       "}\n",
       "\n",
       "#sk-container-id-3 pre {\n",
       "  padding: 0;\n",
       "}\n",
       "\n",
       "#sk-container-id-3 input.sk-hidden--visually {\n",
       "  border: 0;\n",
       "  clip: rect(1px 1px 1px 1px);\n",
       "  clip: rect(1px, 1px, 1px, 1px);\n",
       "  height: 1px;\n",
       "  margin: -1px;\n",
       "  overflow: hidden;\n",
       "  padding: 0;\n",
       "  position: absolute;\n",
       "  width: 1px;\n",
       "}\n",
       "\n",
       "#sk-container-id-3 div.sk-dashed-wrapped {\n",
       "  border: 1px dashed var(--sklearn-color-line);\n",
       "  margin: 0 0.4em 0.5em 0.4em;\n",
       "  box-sizing: border-box;\n",
       "  padding-bottom: 0.4em;\n",
       "  background-color: var(--sklearn-color-background);\n",
       "}\n",
       "\n",
       "#sk-container-id-3 div.sk-container {\n",
       "  /* jupyter's `normalize.less` sets `[hidden] { display: none; }`\n",
       "     but bootstrap.min.css set `[hidden] { display: none !important; }`\n",
       "     so we also need the `!important` here to be able to override the\n",
       "     default hidden behavior on the sphinx rendered scikit-learn.org.\n",
       "     See: https://github.com/scikit-learn/scikit-learn/issues/21755 */\n",
       "  display: inline-block !important;\n",
       "  position: relative;\n",
       "}\n",
       "\n",
       "#sk-container-id-3 div.sk-text-repr-fallback {\n",
       "  display: none;\n",
       "}\n",
       "\n",
       "div.sk-parallel-item,\n",
       "div.sk-serial,\n",
       "div.sk-item {\n",
       "  /* draw centered vertical line to link estimators */\n",
       "  background-image: linear-gradient(var(--sklearn-color-text-on-default-background), var(--sklearn-color-text-on-default-background));\n",
       "  background-size: 2px 100%;\n",
       "  background-repeat: no-repeat;\n",
       "  background-position: center center;\n",
       "}\n",
       "\n",
       "/* Parallel-specific style estimator block */\n",
       "\n",
       "#sk-container-id-3 div.sk-parallel-item::after {\n",
       "  content: \"\";\n",
       "  width: 100%;\n",
       "  border-bottom: 2px solid var(--sklearn-color-text-on-default-background);\n",
       "  flex-grow: 1;\n",
       "}\n",
       "\n",
       "#sk-container-id-3 div.sk-parallel {\n",
       "  display: flex;\n",
       "  align-items: stretch;\n",
       "  justify-content: center;\n",
       "  background-color: var(--sklearn-color-background);\n",
       "  position: relative;\n",
       "}\n",
       "\n",
       "#sk-container-id-3 div.sk-parallel-item {\n",
       "  display: flex;\n",
       "  flex-direction: column;\n",
       "}\n",
       "\n",
       "#sk-container-id-3 div.sk-parallel-item:first-child::after {\n",
       "  align-self: flex-end;\n",
       "  width: 50%;\n",
       "}\n",
       "\n",
       "#sk-container-id-3 div.sk-parallel-item:last-child::after {\n",
       "  align-self: flex-start;\n",
       "  width: 50%;\n",
       "}\n",
       "\n",
       "#sk-container-id-3 div.sk-parallel-item:only-child::after {\n",
       "  width: 0;\n",
       "}\n",
       "\n",
       "/* Serial-specific style estimator block */\n",
       "\n",
       "#sk-container-id-3 div.sk-serial {\n",
       "  display: flex;\n",
       "  flex-direction: column;\n",
       "  align-items: center;\n",
       "  background-color: var(--sklearn-color-background);\n",
       "  padding-right: 1em;\n",
       "  padding-left: 1em;\n",
       "}\n",
       "\n",
       "\n",
       "/* Toggleable style: style used for estimator/Pipeline/ColumnTransformer box that is\n",
       "clickable and can be expanded/collapsed.\n",
       "- Pipeline and ColumnTransformer use this feature and define the default style\n",
       "- Estimators will overwrite some part of the style using the `sk-estimator` class\n",
       "*/\n",
       "\n",
       "/* Pipeline and ColumnTransformer style (default) */\n",
       "\n",
       "#sk-container-id-3 div.sk-toggleable {\n",
       "  /* Default theme specific background. It is overwritten whether we have a\n",
       "  specific estimator or a Pipeline/ColumnTransformer */\n",
       "  background-color: var(--sklearn-color-background);\n",
       "}\n",
       "\n",
       "/* Toggleable label */\n",
       "#sk-container-id-3 label.sk-toggleable__label {\n",
       "  cursor: pointer;\n",
       "  display: flex;\n",
       "  width: 100%;\n",
       "  margin-bottom: 0;\n",
       "  padding: 0.5em;\n",
       "  box-sizing: border-box;\n",
       "  text-align: center;\n",
       "  align-items: start;\n",
       "  justify-content: space-between;\n",
       "  gap: 0.5em;\n",
       "}\n",
       "\n",
       "#sk-container-id-3 label.sk-toggleable__label .caption {\n",
       "  font-size: 0.6rem;\n",
       "  font-weight: lighter;\n",
       "  color: var(--sklearn-color-text-muted);\n",
       "}\n",
       "\n",
       "#sk-container-id-3 label.sk-toggleable__label-arrow:before {\n",
       "  /* Arrow on the left of the label */\n",
       "  content: \"▸\";\n",
       "  float: left;\n",
       "  margin-right: 0.25em;\n",
       "  color: var(--sklearn-color-icon);\n",
       "}\n",
       "\n",
       "#sk-container-id-3 label.sk-toggleable__label-arrow:hover:before {\n",
       "  color: var(--sklearn-color-text);\n",
       "}\n",
       "\n",
       "/* Toggleable content - dropdown */\n",
       "\n",
       "#sk-container-id-3 div.sk-toggleable__content {\n",
       "  max-height: 0;\n",
       "  max-width: 0;\n",
       "  overflow: hidden;\n",
       "  text-align: left;\n",
       "  /* unfitted */\n",
       "  background-color: var(--sklearn-color-unfitted-level-0);\n",
       "}\n",
       "\n",
       "#sk-container-id-3 div.sk-toggleable__content.fitted {\n",
       "  /* fitted */\n",
       "  background-color: var(--sklearn-color-fitted-level-0);\n",
       "}\n",
       "\n",
       "#sk-container-id-3 div.sk-toggleable__content pre {\n",
       "  margin: 0.2em;\n",
       "  border-radius: 0.25em;\n",
       "  color: var(--sklearn-color-text);\n",
       "  /* unfitted */\n",
       "  background-color: var(--sklearn-color-unfitted-level-0);\n",
       "}\n",
       "\n",
       "#sk-container-id-3 div.sk-toggleable__content.fitted pre {\n",
       "  /* unfitted */\n",
       "  background-color: var(--sklearn-color-fitted-level-0);\n",
       "}\n",
       "\n",
       "#sk-container-id-3 input.sk-toggleable__control:checked~div.sk-toggleable__content {\n",
       "  /* Expand drop-down */\n",
       "  max-height: 200px;\n",
       "  max-width: 100%;\n",
       "  overflow: auto;\n",
       "}\n",
       "\n",
       "#sk-container-id-3 input.sk-toggleable__control:checked~label.sk-toggleable__label-arrow:before {\n",
       "  content: \"▾\";\n",
       "}\n",
       "\n",
       "/* Pipeline/ColumnTransformer-specific style */\n",
       "\n",
       "#sk-container-id-3 div.sk-label input.sk-toggleable__control:checked~label.sk-toggleable__label {\n",
       "  color: var(--sklearn-color-text);\n",
       "  background-color: var(--sklearn-color-unfitted-level-2);\n",
       "}\n",
       "\n",
       "#sk-container-id-3 div.sk-label.fitted input.sk-toggleable__control:checked~label.sk-toggleable__label {\n",
       "  background-color: var(--sklearn-color-fitted-level-2);\n",
       "}\n",
       "\n",
       "/* Estimator-specific style */\n",
       "\n",
       "/* Colorize estimator box */\n",
       "#sk-container-id-3 div.sk-estimator input.sk-toggleable__control:checked~label.sk-toggleable__label {\n",
       "  /* unfitted */\n",
       "  background-color: var(--sklearn-color-unfitted-level-2);\n",
       "}\n",
       "\n",
       "#sk-container-id-3 div.sk-estimator.fitted input.sk-toggleable__control:checked~label.sk-toggleable__label {\n",
       "  /* fitted */\n",
       "  background-color: var(--sklearn-color-fitted-level-2);\n",
       "}\n",
       "\n",
       "#sk-container-id-3 div.sk-label label.sk-toggleable__label,\n",
       "#sk-container-id-3 div.sk-label label {\n",
       "  /* The background is the default theme color */\n",
       "  color: var(--sklearn-color-text-on-default-background);\n",
       "}\n",
       "\n",
       "/* On hover, darken the color of the background */\n",
       "#sk-container-id-3 div.sk-label:hover label.sk-toggleable__label {\n",
       "  color: var(--sklearn-color-text);\n",
       "  background-color: var(--sklearn-color-unfitted-level-2);\n",
       "}\n",
       "\n",
       "/* Label box, darken color on hover, fitted */\n",
       "#sk-container-id-3 div.sk-label.fitted:hover label.sk-toggleable__label.fitted {\n",
       "  color: var(--sklearn-color-text);\n",
       "  background-color: var(--sklearn-color-fitted-level-2);\n",
       "}\n",
       "\n",
       "/* Estimator label */\n",
       "\n",
       "#sk-container-id-3 div.sk-label label {\n",
       "  font-family: monospace;\n",
       "  font-weight: bold;\n",
       "  display: inline-block;\n",
       "  line-height: 1.2em;\n",
       "}\n",
       "\n",
       "#sk-container-id-3 div.sk-label-container {\n",
       "  text-align: center;\n",
       "}\n",
       "\n",
       "/* Estimator-specific */\n",
       "#sk-container-id-3 div.sk-estimator {\n",
       "  font-family: monospace;\n",
       "  border: 1px dotted var(--sklearn-color-border-box);\n",
       "  border-radius: 0.25em;\n",
       "  box-sizing: border-box;\n",
       "  margin-bottom: 0.5em;\n",
       "  /* unfitted */\n",
       "  background-color: var(--sklearn-color-unfitted-level-0);\n",
       "}\n",
       "\n",
       "#sk-container-id-3 div.sk-estimator.fitted {\n",
       "  /* fitted */\n",
       "  background-color: var(--sklearn-color-fitted-level-0);\n",
       "}\n",
       "\n",
       "/* on hover */\n",
       "#sk-container-id-3 div.sk-estimator:hover {\n",
       "  /* unfitted */\n",
       "  background-color: var(--sklearn-color-unfitted-level-2);\n",
       "}\n",
       "\n",
       "#sk-container-id-3 div.sk-estimator.fitted:hover {\n",
       "  /* fitted */\n",
       "  background-color: var(--sklearn-color-fitted-level-2);\n",
       "}\n",
       "\n",
       "/* Specification for estimator info (e.g. \"i\" and \"?\") */\n",
       "\n",
       "/* Common style for \"i\" and \"?\" */\n",
       "\n",
       ".sk-estimator-doc-link,\n",
       "a:link.sk-estimator-doc-link,\n",
       "a:visited.sk-estimator-doc-link {\n",
       "  float: right;\n",
       "  font-size: smaller;\n",
       "  line-height: 1em;\n",
       "  font-family: monospace;\n",
       "  background-color: var(--sklearn-color-background);\n",
       "  border-radius: 1em;\n",
       "  height: 1em;\n",
       "  width: 1em;\n",
       "  text-decoration: none !important;\n",
       "  margin-left: 0.5em;\n",
       "  text-align: center;\n",
       "  /* unfitted */\n",
       "  border: var(--sklearn-color-unfitted-level-1) 1pt solid;\n",
       "  color: var(--sklearn-color-unfitted-level-1);\n",
       "}\n",
       "\n",
       ".sk-estimator-doc-link.fitted,\n",
       "a:link.sk-estimator-doc-link.fitted,\n",
       "a:visited.sk-estimator-doc-link.fitted {\n",
       "  /* fitted */\n",
       "  border: var(--sklearn-color-fitted-level-1) 1pt solid;\n",
       "  color: var(--sklearn-color-fitted-level-1);\n",
       "}\n",
       "\n",
       "/* On hover */\n",
       "div.sk-estimator:hover .sk-estimator-doc-link:hover,\n",
       ".sk-estimator-doc-link:hover,\n",
       "div.sk-label-container:hover .sk-estimator-doc-link:hover,\n",
       ".sk-estimator-doc-link:hover {\n",
       "  /* unfitted */\n",
       "  background-color: var(--sklearn-color-unfitted-level-3);\n",
       "  color: var(--sklearn-color-background);\n",
       "  text-decoration: none;\n",
       "}\n",
       "\n",
       "div.sk-estimator.fitted:hover .sk-estimator-doc-link.fitted:hover,\n",
       ".sk-estimator-doc-link.fitted:hover,\n",
       "div.sk-label-container:hover .sk-estimator-doc-link.fitted:hover,\n",
       ".sk-estimator-doc-link.fitted:hover {\n",
       "  /* fitted */\n",
       "  background-color: var(--sklearn-color-fitted-level-3);\n",
       "  color: var(--sklearn-color-background);\n",
       "  text-decoration: none;\n",
       "}\n",
       "\n",
       "/* Span, style for the box shown on hovering the info icon */\n",
       ".sk-estimator-doc-link span {\n",
       "  display: none;\n",
       "  z-index: 9999;\n",
       "  position: relative;\n",
       "  font-weight: normal;\n",
       "  right: .2ex;\n",
       "  padding: .5ex;\n",
       "  margin: .5ex;\n",
       "  width: min-content;\n",
       "  min-width: 20ex;\n",
       "  max-width: 50ex;\n",
       "  color: var(--sklearn-color-text);\n",
       "  box-shadow: 2pt 2pt 4pt #999;\n",
       "  /* unfitted */\n",
       "  background: var(--sklearn-color-unfitted-level-0);\n",
       "  border: .5pt solid var(--sklearn-color-unfitted-level-3);\n",
       "}\n",
       "\n",
       ".sk-estimator-doc-link.fitted span {\n",
       "  /* fitted */\n",
       "  background: var(--sklearn-color-fitted-level-0);\n",
       "  border: var(--sklearn-color-fitted-level-3);\n",
       "}\n",
       "\n",
       ".sk-estimator-doc-link:hover span {\n",
       "  display: block;\n",
       "}\n",
       "\n",
       "/* \"?\"-specific style due to the `<a>` HTML tag */\n",
       "\n",
       "#sk-container-id-3 a.estimator_doc_link {\n",
       "  float: right;\n",
       "  font-size: 1rem;\n",
       "  line-height: 1em;\n",
       "  font-family: monospace;\n",
       "  background-color: var(--sklearn-color-background);\n",
       "  border-radius: 1rem;\n",
       "  height: 1rem;\n",
       "  width: 1rem;\n",
       "  text-decoration: none;\n",
       "  /* unfitted */\n",
       "  color: var(--sklearn-color-unfitted-level-1);\n",
       "  border: var(--sklearn-color-unfitted-level-1) 1pt solid;\n",
       "}\n",
       "\n",
       "#sk-container-id-3 a.estimator_doc_link.fitted {\n",
       "  /* fitted */\n",
       "  border: var(--sklearn-color-fitted-level-1) 1pt solid;\n",
       "  color: var(--sklearn-color-fitted-level-1);\n",
       "}\n",
       "\n",
       "/* On hover */\n",
       "#sk-container-id-3 a.estimator_doc_link:hover {\n",
       "  /* unfitted */\n",
       "  background-color: var(--sklearn-color-unfitted-level-3);\n",
       "  color: var(--sklearn-color-background);\n",
       "  text-decoration: none;\n",
       "}\n",
       "\n",
       "#sk-container-id-3 a.estimator_doc_link.fitted:hover {\n",
       "  /* fitted */\n",
       "  background-color: var(--sklearn-color-fitted-level-3);\n",
       "}\n",
       "</style><div id=\"sk-container-id-3\" class=\"sk-top-container\"><div class=\"sk-text-repr-fallback\"><pre>RandomForestClassifier(class_weight=&#x27;balanced&#x27;, max_depth=8, n_estimators=300,\n",
       "                       oob_score=True, random_state=99)</pre><b>In a Jupyter environment, please rerun this cell to show the HTML representation or trust the notebook. <br />On GitHub, the HTML representation is unable to render, please try loading this page with nbviewer.org.</b></div><div class=\"sk-container\" hidden><div class=\"sk-item\"><div class=\"sk-estimator fitted sk-toggleable\"><input class=\"sk-toggleable__control sk-hidden--visually\" id=\"sk-estimator-id-3\" type=\"checkbox\" checked><label for=\"sk-estimator-id-3\" class=\"sk-toggleable__label fitted sk-toggleable__label-arrow\"><div><div>RandomForestClassifier</div></div><div><a class=\"sk-estimator-doc-link fitted\" rel=\"noreferrer\" target=\"_blank\" href=\"https://scikit-learn.org/1.6/modules/generated/sklearn.ensemble.RandomForestClassifier.html\">?<span>Documentation for RandomForestClassifier</span></a><span class=\"sk-estimator-doc-link fitted\">i<span>Fitted</span></span></div></label><div class=\"sk-toggleable__content fitted\"><pre>RandomForestClassifier(class_weight=&#x27;balanced&#x27;, max_depth=8, n_estimators=300,\n",
       "                       oob_score=True, random_state=99)</pre></div> </div></div></div></div>"
      ],
      "text/plain": [
       "RandomForestClassifier(class_weight='balanced', max_depth=8, n_estimators=300,\n",
       "                       oob_score=True, random_state=99)"
      ]
     },
     "execution_count": 37,
     "metadata": {},
     "output_type": "execute_result"
    }
   ],
   "source": [
    "# modèle de forêt aléatoire avec les meilleurs paramètres\n",
    "random_forest3 = RandomForestClassifier(n_estimators=grid_search.best_params_['n_estimators'], max_depth=grid_search.best_params_['max_depth'], oob_score=True, random_state=99,class_weight='balanced')\n",
    "# Entraîner le modèle sur les données d'entraînement\n",
    "random_forest3.fit(X_train, y_train)"
   ]
  },
  {
   "cell_type": "markdown",
   "metadata": {},
   "source": [
    "Remarque : les meilleure  parametre qui vont optimiser l'accuracy sont 8 et 300"
   ]
  },
  {
   "cell_type": "markdown",
   "metadata": {},
   "source": [
    "##### 1.3.b. Prédiction sur les bases train et test"
   ]
  },
  {
   "cell_type": "code",
   "execution_count": 38,
   "metadata": {},
   "outputs": [],
   "source": [
    "# Prédire les classes sur les ensembles d'entraînement et de test\n",
    "y_train_pred = random_forest3.predict(X_train)\n",
    "y_test_pred = random_forest3.predict(X_test)"
   ]
  },
  {
   "cell_type": "markdown",
   "metadata": {},
   "source": [
    "##### 1.3.c. Performance de la forêt aléatoire"
   ]
  },
  {
   "cell_type": "code",
   "execution_count": 39,
   "metadata": {},
   "outputs": [
    {
     "name": "stdout",
     "output_type": "stream",
     "text": [
      "    Métrique  Ensemble d'entraînement  Ensemble de test\n",
      "0   Accuracy                 0.906574          0.855452\n",
      "1        AUC                 0.880941          0.807338\n",
      "2     Recall                 0.839168          0.724000\n",
      "3  Precision                 0.722222          0.639576\n",
      "4   F1-Score                 0.776316          0.679174\n"
     ]
    }
   ],
   "source": [
    "# Calculer les mesures de performance pour l'ensemble d'entraînement\n",
    "train_accuracy = accuracy_score(y_train, y_train_pred)\n",
    "train_auc = roc_auc_score(y_train, y_train_pred)\n",
    "train_recall = recall_score(y_train, y_train_pred)\n",
    "train_precision = precision_score(y_train, y_train_pred, pos_label=1)\n",
    "train_f1 = f1_score(y_train, y_train_pred, pos_label=1)\n",
    "\n",
    "# Calculer les mesures de performance pour l'ensemble de test\n",
    "test_accuracy = accuracy_score(y_test, y_test_pred)\n",
    "test_auc = roc_auc_score(y_test, y_test_pred)\n",
    "test_recall = recall_score(y_test, y_test_pred)\n",
    "test_precision = precision_score(y_test, y_test_pred, pos_label=1)\n",
    "test_f1 = f1_score(y_test, y_test_pred, pos_label=1)\n",
    "\n",
    "# Créer le tableau d'évaluation des performances avec précision et F1-score\n",
    "performance_table3 = pd.DataFrame({\n",
    "    'Métrique': ['Accuracy', 'AUC', 'Recall', 'Precision', 'F1-Score'],\n",
    "    'Ensemble d\\'entraînement': [train_accuracy, train_auc, train_recall, train_precision, train_f1],\n",
    "    'Ensemble de test': [test_accuracy, test_auc, test_recall, test_precision, test_f1]\n",
    "})\n",
    "\n",
    "# Afficher le tableau d'évaluation des performances\n",
    "print(performance_table3)\n"
   ]
  },
  {
   "cell_type": "markdown",
   "metadata": {},
   "source": [
    "**Analyse des performances après optimisation avec GridSearchCV**\n",
    "\n",
    "L'optimisation des hyperparamètres avec GridSearchCV a modifié les performances du modèle par rapport aux deux versions précédentes (sans optimisation et avec ajustement des seuils).\n",
    "\n",
    "**Comparaison des performances :**\n",
    "\n",
    "| Métrique | Sans optimisation (Test) | Seuils pratiques (Test) | GridSearch (Test) | Impact (Grid vs Sans) | Impact (Grid vs Seuils) |\n",
    "| --- | --- | --- | --- | --- | --- |\n",
    "| Accuracy | 0.885 | 0.885 | 0.855 | 🔻 -3 pts | 🔻 -3 pts |\n",
    "| AUC | 0.820 | 0.813 | 0.807 | 🔻 -1.3 pts | 🔻 -0.6 pt |\n",
    "| Recall | 0.708 | 0.688 | 0.724 | 🔺 +1.6 pts | 🔺 +3.6 pts |\n",
    "| Precision | 0.738 | 0.748 | 0.640 | 🔻 -9.8 pts | 🔻 -10.8 pts |\n",
    "| F1-Score | 0.722 | 0.717 | 0.679 | 🔻 -4.3 pts | 🔻 -3.8 pts |\n",
    "\n",
    "**Interprétation des résultats :**\n",
    "\n",
    "- L'optimisation via GridSearch a amélioré le rappel (+1.6 pts vs sans opt., +3.6 pts vs seuils pratiques)\n",
    "  → Le modèle détecte mieux les cas positifs, ce qui peut être un bon choix pour des problématiques où le rappel est prioritaire (ex. : détection de fraudes, maladies, etc.).\n",
    "\n",
    "- Baisse de la précision (-9.8 pts vs sans opt., -10.8 pts vs seuils pratiques)\n",
    "  → Plus de faux positifs, ce qui peut être problématique si la précision est une priorité.\n",
    "\n",
    "- Réduction de l'accuracy et du F1-Score\n",
    "  → Cela montre que le modèle a trouvé un nouveau compromis, favorisant le rappel au détriment de la précision.\n",
    "\n",
    "- AUC en légère baisse\n",
    "  → La capacité globale du modèle à discriminer les classes a légèrement diminué après optimisation.\n",
    "\n",
    "**Conclusion : Quel modèle choisir ?**\n",
    "\n",
    "- Si l'objectif est un bon équilibre général (accuracy + précision + rappel) → Modèle sans optimisation (meilleur compromis).\n",
    "\n",
    "- Si l'objectif est de réduire les faux positifs (favoriser la précision) → Modèle avec seuils pratiques.\n",
    "\n",
    "- Si l'objectif est d'augmenter la détection des cas positifs (favoriser le rappel) → Modèle optimisé via GridSearchCV.\n",
    "\n"
   ]
  },
  {
   "cell_type": "markdown",
   "metadata": {},
   "source": [
    "##### 1.3.d. Performances du modèle"
   ]
  },
  {
   "cell_type": "code",
   "execution_count": 40,
   "metadata": {},
   "outputs": [
    {
     "data": {
      "image/png": "[encoded data removed]",
      "text/plain": [
       "<Figure size 800x600 with 1 Axes>"
      ]
     },
     "metadata": {},
     "output_type": "display_data"
    }
   ],
   "source": [
    "# Obtenir les scores de probabilité pour les classes positives\n",
    "y_train_prob = random_forest3.predict_proba(X_train)[:, 1]\n",
    "y_test_prob = random_forest3.predict_proba(X_test)[:, 1]\n",
    "\n",
    "# Calculer les taux de faux positifs (FPR) et les taux de vrais positifs (TPR)\n",
    "train_fpr, train_tpr, _ = roc_curve(y_train, y_train_prob)\n",
    "test_fpr, test_tpr, _ = roc_curve(y_test, y_test_prob)\n",
    "\n",
    "# Calculer les AUC pour l'entraînement et le test\n",
    "train_auc = roc_auc_score(y_train, y_train_prob)\n",
    "test_auc = roc_auc_score(y_test, y_test_prob)\n",
    "\n",
    "# Tracer les courbes ROC avec les AUC dans la légende\n",
    "plt.figure(figsize=(8, 6))\n",
    "plt.plot(train_fpr, train_tpr, color='blue', label=f'ROC Train (AUC = {train_auc:.2f})')\n",
    "plt.plot(test_fpr, test_tpr, color='red', label=f'ROC Test (AUC = {test_auc:.2f})')\n",
    "\n",
    "# Tracer la diagonale de référence\n",
    "plt.plot([0, 1], [0, 1], 'k--')\n",
    "\n",
    "# Ajouter des labels et un titre\n",
    "plt.xlabel('Taux de faux positifs (FPR)')\n",
    "plt.ylabel('Taux de vrais positifs (TPR)')\n",
    "plt.title('Courbe ROC - Entraînement vs Test')\n",
    "\n",
    "# Ajouter la légende\n",
    "plt.legend()\n",
    "plt.grid()\n",
    "# Afficher le graphique\n",
    "plt.show()"
   ]
  },
  {
   "cell_type": "markdown",
   "metadata": {},
   "source": [
    "##### 1.3.e. Importance des variables"
   ]
  },
  {
   "cell_type": "code",
   "execution_count": 41,
   "metadata": {},
   "outputs": [
    {
     "name": "stdout",
     "output_type": "stream",
     "text": [
      "Importance des variables :\n",
      "          Variable  Importance\n",
      "0          DEBTINC    0.253402\n",
      "1           DELINQ    0.170387\n",
      "2            CLAGE    0.130378\n",
      "3             LOAN    0.097540\n",
      "4            DEROG    0.085892\n",
      "5          MORTDUE    0.084463\n",
      "6             NINQ    0.059456\n",
      "7              YOJ    0.055766\n",
      "8       JOB_Office    0.017963\n",
      "9   REASON_HomeImp    0.010727\n",
      "10     JOB_ProfExe    0.008284\n",
      "11       JOB_Sales    0.007961\n",
      "12       JOB_Other    0.007475\n",
      "13         JOB_Mgr    0.006037\n",
      "14        JOB_Self    0.004271\n",
      "\n"
     ]
    },
    {
     "data": {
      "image/png": "[encoded data removed]",
      "text/plain": [
       "<Figure size 800x600 with 1 Axes>"
      ]
     },
     "metadata": {},
     "output_type": "display_data"
    }
   ],
   "source": [
    "# Obtenir l'importance des variables\n",
    "importance = random_forest3.feature_importances_\n",
    "\n",
    "# Créer un DataFrame pour afficher l'importance des variables\n",
    "importance_df = pd.DataFrame({'Variable': X_train.columns, 'Importance': importance})\n",
    "importance_df = importance_df.sort_values(by='Importance', ascending=False).reset_index(drop=True)\n",
    "\n",
    "# Afficher l'importance des variables\n",
    "print(\"Importance des variables :\")\n",
    "print(importance_df)\n",
    "print()\n",
    "\n",
    "# Tracer l'importance des variables\n",
    "plt.figure(figsize=(8, 6))\n",
    "plt.bar(importance_df['Variable'], importance_df['Importance'])\n",
    "plt.xticks(rotation='vertical')\n",
    "plt.xlabel('Variable')\n",
    "plt.ylabel('Importance')\n",
    "plt.title('Importance des variables')\n",
    "plt.tight_layout()\n",
    "plt.grid()\n",
    "plt.show()"
   ]
  },
  {
   "cell_type": "code",
   "execution_count": 42,
   "metadata": {},
   "outputs": [
    {
     "name": "stdout",
     "output_type": "stream",
     "text": [
      "    Métrique  Ensemble d'entraînement  Ensemble de test\n",
      "0   Accuracy                 0.947157          0.885038\n",
      "1        AUC                 0.925230          0.820238\n",
      "2     Recall                 0.889497          0.708000\n",
      "3  Precision                 0.845114          0.737500\n",
      "4   F1-Score                 0.866738          0.722449\n",
      "    Métrique  Ensemble d'entraînement  Ensemble de test\n",
      "0   Accuracy                 0.949694          0.885038\n",
      "1        AUC                 0.927218          0.815846\n",
      "2     Recall                 0.890591          0.696000\n",
      "3  Precision                 0.855042          0.743590\n",
      "4   F1-Score                 0.872454          0.719008\n",
      "    Métrique  Ensemble d'entraînement  Ensemble de test\n",
      "0   Accuracy                 0.906574          0.855452\n",
      "1        AUC                 0.880941          0.807338\n",
      "2     Recall                 0.839168          0.724000\n",
      "3  Precision                 0.722222          0.639576\n",
      "4   F1-Score                 0.776316          0.679174\n"
     ]
    }
   ],
   "source": [
    "print(performance_table1)\n",
    "print(performance_table2)\n",
    "print(performance_table3)"
   ]
  },
  {
   "cell_type": "markdown",
   "metadata": {},
   "source": [
    "##### 1.3.f. le log loss 3 "
   ]
  },
  {
   "cell_type": "code",
   "execution_count": 43,
   "metadata": {},
   "outputs": [
    {
     "name": "stdout",
     "output_type": "stream",
     "text": [
      "Log Loss - Entraînement: 0.3540\n",
      "Log Loss - Test: 0.4058\n"
     ]
    }
   ],
   "source": [
    "# Calculer le log loss sur les ensembles d'entraînement et de test\n",
    "train_log_loss3 = log_loss(y_train, random_forest3.predict_proba(X_train)[:, 1])\n",
    "test_log_loss3 = log_loss(y_test, random_forest3.predict_proba(X_test)[:, 1])\n",
    "\n",
    "print(f'Log Loss - Entraînement: {train_log_loss3:.4f}')\n",
    "print(f'Log Loss - Test: {test_log_loss3:.4f}')\n"
   ]
  },
  {
   "cell_type": "markdown",
   "metadata": {},
   "source": [
    "##### 1.4. Comparaisons des performances des 3 modeles\n",
    "* Comparaison des métriques"
   ]
  },
  {
   "cell_type": "code",
   "execution_count": 44,
   "metadata": {},
   "outputs": [
    {
     "data": {
      "image/png": "[encoded data removed]",
      "text/plain": [
       "<Figure size 800x200 with 1 Axes>"
      ]
     },
     "metadata": {},
     "output_type": "display_data"
    },
    {
     "data": {
      "image/png": "[encoded data removed]",
      "text/plain": [
       "<Figure size 800x200 with 1 Axes>"
      ]
     },
     "metadata": {},
     "output_type": "display_data"
    },
    {
     "data": {
      "image/png": "[encoded data removed]",
      "text/plain": [
       "<Figure size 800x200 with 1 Axes>"
      ]
     },
     "metadata": {},
     "output_type": "display_data"
    }
   ],
   "source": [
    "def display_table_with_matplotlib(table, title):\n",
    "    fig, ax = plt.subplots(figsize=(8, 2))  # Ajuste la taille si nécessaire\n",
    "    ax.axis('tight')\n",
    "    ax.axis('off')\n",
    "    ax.table(cellText=table.values, colLabels=table.columns, loc='center')\n",
    "    plt.title(title, fontsize=14)\n",
    "    plt.show()\n",
    "\n",
    "# Affichage des tableaux avec un titre\n",
    "display_table_with_matplotlib(performance_table1, \"Modèle sans optimisation\")\n",
    "display_table_with_matplotlib(performance_table2, \"Modèle avec optimisation (seuil pratique)\")\n",
    "display_table_with_matplotlib(performance_table3, \"Modèle optimisé avec Grid Search\")\n"
   ]
  },
  {
   "cell_type": "markdown",
   "metadata": {},
   "source": [
    "* Comparaison des log loss"
   ]
  },
  {
   "cell_type": "code",
   "execution_count": 45,
   "metadata": {},
   "outputs": [
    {
     "name": "stdout",
     "output_type": "stream",
     "text": [
      "Log Loss - Entraînement: 0.2628\n",
      "Log Loss - Test: 0.3471\n",
      "Log Loss - Entraînement: 0.2623\n",
      "Log Loss - Test: 0.3457\n",
      "Log Loss - Entraînement: 0.3540\n",
      "Log Loss - Test: 0.4058\n"
     ]
    }
   ],
   "source": [
    "\n",
    "print(f'Log Loss - Entraînement: {train_log_loss1:.4f}')\n",
    "print(f'Log Loss - Test: {test_log_loss1:.4f}')\n",
    "\n",
    "print(f'Log Loss - Entraînement: {train_log_loss2:.4f}')\n",
    "print(f'Log Loss - Test: {test_log_loss2:.4f}')\n",
    "\n",
    "print(f'Log Loss - Entraînement: {train_log_loss3:.4f}')\n",
    "print(f'Log Loss - Test: {test_log_loss3:.4f}')\n"
   ]
  },
  {
   "cell_type": "markdown",
   "metadata": {},
   "source": [
    "##### 1.5. Evolution des métriques avec le nombre de variables."
   ]
  },
  {
   "cell_type": "code",
   "execution_count": 46,
   "metadata": {},
   "outputs": [
    {
     "data": {
      "application/vnd.plotly.v1+json": {
       "config": {
        "plotlyServerURL": "https://plot.ly"
       },
       "data": [
        {
         "line": {
          "color": "blue"
         },
         "marker": {
          "color": "blue",
          "size": 8
         },
         "mode": "lines+markers",
         "name": "Modèle 1 (Sans Optimisation) - AUC",
         "type": "scatter",
         "x": [
          1,
          2,
          3,
          4,
          5,
          6,
          7,
          8,
          9,
          10,
          11,
          12,
          13,
          14,
          15
         ],
         "y": [
          0.5205487674169346,
          0.5272282958199357,
          0.5436291532690246,
          0.5577470525187567,
          0.5712197213290461,
          0.574930332261522,
          0.574930332261522,
          0.6311168274383708,
          0.744454448017149,
          0.7755498392282958,
          0.8232325830653805,
          0.8422336548767417,
          0.8661350482315112,
          0.8770203644158628,
          0.9187867095391211
         ]
        },
        {
         "line": {
          "color": "blue",
          "dash": "dash"
         },
         "marker": {
          "color": "blue",
          "size": 8
         },
         "mode": "lines+markers",
         "name": "Modèle 1 (Sans Optimisation) - Precision",
         "type": "scatter",
         "x": [
          1,
          2,
          3,
          4,
          5,
          6,
          7,
          8,
          9,
          10,
          11,
          12,
          13,
          14,
          15
         ],
         "y": [
          0.23173803526448364,
          0.2286282306163022,
          0.23648648648648649,
          0.232796486090776,
          0.23481781376518218,
          0.23842917251051893,
          0.23842917251051893,
          0.3161953727506427,
          0.4432234432234432,
          0.4790874524714829,
          0.5787037037037037,
          0.6244897959183674,
          0.6431372549019608,
          0.6932773109243697,
          0.7375
         ]
        },
        {
         "line": {
          "color": "blue",
          "dash": "dot"
         },
         "marker": {
          "color": "blue",
          "size": 8
         },
         "mode": "lines+markers",
         "name": "Modèle 1 (Sans Optimisation) - Recall",
         "type": "scatter",
         "x": [
          1,
          2,
          3,
          4,
          5,
          6,
          7,
          8,
          9,
          10,
          11,
          12,
          13,
          14,
          15
         ],
         "y": [
          0.368,
          0.46,
          0.42,
          0.636,
          0.696,
          0.68,
          0.68,
          0.492,
          0.484,
          0.504,
          0.5,
          0.612,
          0.656,
          0.66,
          0.708
         ]
        },
        {
         "line": {
          "color": "blue",
          "dash": "longdash"
         },
         "marker": {
          "color": "blue",
          "size": 8
         },
         "mode": "lines+markers",
         "name": "Modèle 1 (Sans Optimisation) - F1-Score",
         "type": "scatter",
         "x": [
          1,
          2,
          3,
          4,
          5,
          6,
          7,
          8,
          9,
          10,
          11,
          12,
          13,
          14,
          15
         ],
         "y": [
          0.28438948995363217,
          0.3054448871181939,
          0.3025936599423631,
          0.3408360128617363,
          0.3511604439959637,
          0.3530633437175493,
          0.3530633437175493,
          0.38497652582159625,
          0.4627151051625239,
          0.49122807017543857,
          0.5364806866952789,
          0.6181818181818182,
          0.6495049504950495,
          0.6762295081967213,
          0.7224489795918367
         ]
        },
        {
         "line": {
          "color": "green"
         },
         "marker": {
          "color": "green",
          "size": 8
         },
         "mode": "lines+markers",
         "name": "Modèle 2 (Seuil Pratique) - AUC",
         "type": "scatter",
         "x": [
          1,
          2,
          3,
          4,
          5,
          6,
          7,
          8,
          9,
          10,
          11,
          12,
          13,
          14,
          15
         ],
         "y": [
          0.5205487674169346,
          0.5272282958199357,
          0.5436291532690246,
          0.5558177920685959,
          0.5752325830653805,
          0.5730010718113612,
          0.5698456591639871,
          0.6277856377277599,
          0.7381586280814577,
          0.7706666666666666,
          0.8271039657020365,
          0.845016077170418,
          0.8755241157556269,
          0.8820578778135048,
          0.9210632368703109
         ]
        },
        {
         "line": {
          "color": "green",
          "dash": "dash"
         },
         "marker": {
          "color": "green",
          "size": 8
         },
         "mode": "lines+markers",
         "name": "Modèle 2 (Seuil Pratique) - Precision",
         "type": "scatter",
         "x": [
          1,
          2,
          3,
          4,
          5,
          6,
          7,
          8,
          9,
          10,
          11,
          12,
          13,
          14,
          15
         ],
         "y": [
          0.23173803526448364,
          0.2286282306163022,
          0.23648648648648649,
          0.232796486090776,
          0.23481781376518218,
          0.23842917251051893,
          0.23842917251051893,
          0.3210227272727273,
          0.4419475655430712,
          0.4827586206896552,
          0.6053811659192825,
          0.6111111111111112,
          0.6721311475409836,
          0.7030567685589519,
          0.7257383966244726
         ]
        },
        {
         "line": {
          "color": "green",
          "dash": "dot"
         },
         "marker": {
          "color": "green",
          "size": 8
         },
         "mode": "lines+markers",
         "name": "Modèle 2 (Seuil Pratique) - Recall",
         "type": "scatter",
         "x": [
          1,
          2,
          3,
          4,
          5,
          6,
          7,
          8,
          9,
          10,
          11,
          12,
          13,
          14,
          15
         ],
         "y": [
          0.368,
          0.46,
          0.42,
          0.636,
          0.696,
          0.68,
          0.68,
          0.452,
          0.472,
          0.504,
          0.54,
          0.616,
          0.656,
          0.644,
          0.688
         ]
        },
        {
         "line": {
          "color": "green",
          "dash": "longdash"
         },
         "marker": {
          "color": "green",
          "size": 8
         },
         "mode": "lines+markers",
         "name": "Modèle 2 (Seuil Pratique) - F1-Score",
         "type": "scatter",
         "x": [
          1,
          2,
          3,
          4,
          5,
          6,
          7,
          8,
          9,
          10,
          11,
          12,
          13,
          14,
          15
         ],
         "y": [
          0.28438948995363217,
          0.3054448871181939,
          0.3025936599423631,
          0.3408360128617363,
          0.3511604439959637,
          0.3530633437175493,
          0.3530633437175493,
          0.3754152823920266,
          0.4564796905222437,
          0.4931506849315068,
          0.5708245243128964,
          0.6135458167330677,
          0.6639676113360324,
          0.6722338204592901,
          0.7063655030800822
         ]
        },
        {
         "line": {
          "color": "red"
         },
         "marker": {
          "color": "red",
          "size": 8
         },
         "mode": "lines+markers",
         "name": "Modèle 3 (Grid Search) - AUC",
         "type": "scatter",
         "x": [
          1,
          2,
          3,
          4,
          5,
          6,
          7,
          8,
          9,
          10,
          11,
          12,
          13,
          14,
          15
         ],
         "y": [
          0.5205487674169346,
          0.5272282958199357,
          0.5436291532690246,
          0.5577470525187567,
          0.5712197213290461,
          0.574930332261522,
          0.574930332261522,
          0.6305637727759914,
          0.7206345123258305,
          0.7460150053590568,
          0.8053804930332261,
          0.8148595927116827,
          0.8434769560557341,
          0.8512668810289389,
          0.9029624866023579
         ]
        },
        {
         "line": {
          "color": "red",
          "dash": "dash"
         },
         "marker": {
          "color": "red",
          "size": 8
         },
         "mode": "lines+markers",
         "name": "Modèle 3 (Grid Search) - Precision",
         "type": "scatter",
         "x": [
          1,
          2,
          3,
          4,
          5,
          6,
          7,
          8,
          9,
          10,
          11,
          12,
          13,
          14,
          15
         ],
         "y": [
          0.23173803526448364,
          0.2286282306163022,
          0.23648648648648649,
          0.232796486090776,
          0.23481781376518218,
          0.23842917251051893,
          0.23842917251051893,
          0.27790432801822323,
          0.3710144927536232,
          0.39941690962099125,
          0.5274725274725275,
          0.5062893081761006,
          0.5135135135135135,
          0.5559322033898305,
          0.6395759717314488
         ]
        },
        {
         "line": {
          "color": "red",
          "dash": "dot"
         },
         "marker": {
          "color": "red",
          "size": 8
         },
         "mode": "lines+markers",
         "name": "Modèle 3 (Grid Search) - Recall",
         "type": "scatter",
         "x": [
          1,
          2,
          3,
          4,
          5,
          6,
          7,
          8,
          9,
          10,
          11,
          12,
          13,
          14,
          15
         ],
         "y": [
          0.368,
          0.46,
          0.42,
          0.636,
          0.696,
          0.68,
          0.68,
          0.488,
          0.512,
          0.548,
          0.576,
          0.644,
          0.684,
          0.656,
          0.724
         ]
        },
        {
         "line": {
          "color": "red",
          "dash": "longdash"
         },
         "marker": {
          "color": "red",
          "size": 8
         },
         "mode": "lines+markers",
         "name": "Modèle 3 (Grid Search) - F1-Score",
         "type": "scatter",
         "x": [
          1,
          2,
          3,
          4,
          5,
          6,
          7,
          8,
          9,
          10,
          11,
          12,
          13,
          14,
          15
         ],
         "y": [
          0.28438948995363217,
          0.3054448871181939,
          0.3025936599423631,
          0.3408360128617363,
          0.3511604439959637,
          0.3530633437175493,
          0.3530633437175493,
          0.35413642960812775,
          0.43025210084033616,
          0.4620573355817875,
          0.5506692160611855,
          0.5669014084507042,
          0.5866209262435678,
          0.6018348623853211,
          0.6791744840525328
         ]
        }
       ],
       "layout": {
        "template": {
         "data": {
          "bar": [
           {
            "error_x": {
             "color": "#2a3f5f"
            },
            "error_y": {
             "color": "#2a3f5f"
            },
            "marker": {
             "line": {
              "color": "white",
              "width": 0.5
             },
             "pattern": {
              "fillmode": "overlay",
              "size": 10,
              "solidity": 0.2
             }
            },
            "type": "bar"
           }
          ],
          "barpolar": [
           {
            "marker": {
             "line": {
              "color": "white",
              "width": 0.5
             },
             "pattern": {
              "fillmode": "overlay",
              "size": 10,
              "solidity": 0.2
             }
            },
            "type": "barpolar"
           }
          ],
          "carpet": [
           {
            "aaxis": {
             "endlinecolor": "#2a3f5f",
             "gridcolor": "#C8D4E3",
             "linecolor": "#C8D4E3",
             "minorgridcolor": "#C8D4E3",
             "startlinecolor": "#2a3f5f"
            },
            "baxis": {
             "endlinecolor": "#2a3f5f",
             "gridcolor": "#C8D4E3",
             "linecolor": "#C8D4E3",
             "minorgridcolor": "#C8D4E3",
             "startlinecolor": "#2a3f5f"
            },
            "type": "carpet"
           }
          ],
          "choropleth": [
           {
            "colorbar": {
             "outlinewidth": 0,
             "ticks": ""
            },
            "type": "choropleth"
           }
          ],
          "contour": [
           {
            "colorbar": {
             "outlinewidth": 0,
             "ticks": ""
            },
            "colorscale": [
             [
              0,
              "#0d0887"
             ],
             [
              0.1111111111111111,
              "#46039f"
             ],
             [
              0.2222222222222222,
              "#7201a8"
             ],
             [
              0.3333333333333333,
              "#9c179e"
             ],
             [
              0.4444444444444444,
              "#bd3786"
             ],
             [
              0.5555555555555556,
              "#d8576b"
             ],
             [
              0.6666666666666666,
              "#ed7953"
             ],
             [
              0.7777777777777778,
              "#fb9f3a"
             ],
             [
              0.8888888888888888,
              "#fdca26"
             ],
             [
              1,
              "#f0f921"
             ]
            ],
            "type": "contour"
           }
          ],
          "contourcarpet": [
           {
            "colorbar": {
             "outlinewidth": 0,
             "ticks": ""
            },
            "type": "contourcarpet"
           }
          ],
          "heatmap": [
           {
            "colorbar": {
             "outlinewidth": 0,
             "ticks": ""
            },
            "colorscale": [
             [
              0,
              "#0d0887"
             ],
             [
              0.1111111111111111,
              "#46039f"
             ],
             [
              0.2222222222222222,
              "#7201a8"
             ],
             [
              0.3333333333333333,
              "#9c179e"
             ],
             [
              0.4444444444444444,
              "#bd3786"
             ],
             [
              0.5555555555555556,
              "#d8576b"
             ],
             [
              0.6666666666666666,
              "#ed7953"
             ],
             [
              0.7777777777777778,
              "#fb9f3a"
             ],
             [
              0.8888888888888888,
              "#fdca26"
             ],
             [
              1,
              "#f0f921"
             ]
            ],
            "type": "heatmap"
           }
          ],
          "heatmapgl": [
           {
            "colorbar": {
             "outlinewidth": 0,
             "ticks": ""
            },
            "colorscale": [
             [
              0,
              "#0d0887"
             ],
             [
              0.1111111111111111,
              "#46039f"
             ],
             [
              0.2222222222222222,
              "#7201a8"
             ],
             [
              0.3333333333333333,
              "#9c179e"
             ],
             [
              0.4444444444444444,
              "#bd3786"
             ],
             [
              0.5555555555555556,
              "#d8576b"
             ],
             [
              0.6666666666666666,
              "#ed7953"
             ],
             [
              0.7777777777777778,
              "#fb9f3a"
             ],
             [
              0.8888888888888888,
              "#fdca26"
             ],
             [
              1,
              "#f0f921"
             ]
            ],
            "type": "heatmapgl"
           }
          ],
          "histogram": [
           {
            "marker": {
             "pattern": {
              "fillmode": "overlay",
              "size": 10,
              "solidity": 0.2
             }
            },
            "type": "histogram"
           }
          ],
          "histogram2d": [
           {
            "colorbar": {
             "outlinewidth": 0,
             "ticks": ""
            },
            "colorscale": [
             [
              0,
              "#0d0887"
             ],
             [
              0.1111111111111111,
              "#46039f"
             ],
             [
              0.2222222222222222,
              "#7201a8"
             ],
             [
              0.3333333333333333,
              "#9c179e"
             ],
             [
              0.4444444444444444,
              "#bd3786"
             ],
             [
              0.5555555555555556,
              "#d8576b"
             ],
             [
              0.6666666666666666,
              "#ed7953"
             ],
             [
              0.7777777777777778,
              "#fb9f3a"
             ],
             [
              0.8888888888888888,
              "#fdca26"
             ],
             [
              1,
              "#f0f921"
             ]
            ],
            "type": "histogram2d"
           }
          ],
          "histogram2dcontour": [
           {
            "colorbar": {
             "outlinewidth": 0,
             "ticks": ""
            },
            "colorscale": [
             [
              0,
              "#0d0887"
             ],
             [
              0.1111111111111111,
              "#46039f"
             ],
             [
              0.2222222222222222,
              "#7201a8"
             ],
             [
              0.3333333333333333,
              "#9c179e"
             ],
             [
              0.4444444444444444,
              "#bd3786"
             ],
             [
              0.5555555555555556,
              "#d8576b"
             ],
             [
              0.6666666666666666,
              "#ed7953"
             ],
             [
              0.7777777777777778,
              "#fb9f3a"
             ],
             [
              0.8888888888888888,
              "#fdca26"
             ],
             [
              1,
              "#f0f921"
             ]
            ],
            "type": "histogram2dcontour"
           }
          ],
          "mesh3d": [
           {
            "colorbar": {
             "outlinewidth": 0,
             "ticks": ""
            },
            "type": "mesh3d"
           }
          ],
          "parcoords": [
           {
            "line": {
             "colorbar": {
              "outlinewidth": 0,
              "ticks": ""
             }
            },
            "type": "parcoords"
           }
          ],
          "pie": [
           {
            "automargin": true,
            "type": "pie"
           }
          ],
          "scatter": [
           {
            "fillpattern": {
             "fillmode": "overlay",
             "size": 10,
             "solidity": 0.2
            },
            "type": "scatter"
           }
          ],
          "scatter3d": [
           {
            "line": {
             "colorbar": {
              "outlinewidth": 0,
              "ticks": ""
             }
            },
            "marker": {
             "colorbar": {
              "outlinewidth": 0,
              "ticks": ""
             }
            },
            "type": "scatter3d"
           }
          ],
          "scattercarpet": [
           {
            "marker": {
             "colorbar": {
              "outlinewidth": 0,
              "ticks": ""
             }
            },
            "type": "scattercarpet"
           }
          ],
          "scattergeo": [
           {
            "marker": {
             "colorbar": {
              "outlinewidth": 0,
              "ticks": ""
             }
            },
            "type": "scattergeo"
           }
          ],
          "scattergl": [
           {
            "marker": {
             "colorbar": {
              "outlinewidth": 0,
              "ticks": ""
             }
            },
            "type": "scattergl"
           }
          ],
          "scattermapbox": [
           {
            "marker": {
             "colorbar": {
              "outlinewidth": 0,
              "ticks": ""
             }
            },
            "type": "scattermapbox"
           }
          ],
          "scatterpolar": [
           {
            "marker": {
             "colorbar": {
              "outlinewidth": 0,
              "ticks": ""
             }
            },
            "type": "scatterpolar"
           }
          ],
          "scatterpolargl": [
           {
            "marker": {
             "colorbar": {
              "outlinewidth": 0,
              "ticks": ""
             }
            },
            "type": "scatterpolargl"
           }
          ],
          "scatterternary": [
           {
            "marker": {
             "colorbar": {
              "outlinewidth": 0,
              "ticks": ""
             }
            },
            "type": "scatterternary"
           }
          ],
          "surface": [
           {
            "colorbar": {
             "outlinewidth": 0,
             "ticks": ""
            },
            "colorscale": [
             [
              0,
              "#0d0887"
             ],
             [
              0.1111111111111111,
              "#46039f"
             ],
             [
              0.2222222222222222,
              "#7201a8"
             ],
             [
              0.3333333333333333,
              "#9c179e"
             ],
             [
              0.4444444444444444,
              "#bd3786"
             ],
             [
              0.5555555555555556,
              "#d8576b"
             ],
             [
              0.6666666666666666,
              "#ed7953"
             ],
             [
              0.7777777777777778,
              "#fb9f3a"
             ],
             [
              0.8888888888888888,
              "#fdca26"
             ],
             [
              1,
              "#f0f921"
             ]
            ],
            "type": "surface"
           }
          ],
          "table": [
           {
            "cells": {
             "fill": {
              "color": "#EBF0F8"
             },
             "line": {
              "color": "white"
             }
            },
            "header": {
             "fill": {
              "color": "#C8D4E3"
             },
             "line": {
              "color": "white"
             }
            },
            "type": "table"
           }
          ]
         },
         "layout": {
          "annotationdefaults": {
           "arrowcolor": "#2a3f5f",
           "arrowhead": 0,
           "arrowwidth": 1
          },
          "autotypenumbers": "strict",
          "coloraxis": {
           "colorbar": {
            "outlinewidth": 0,
            "ticks": ""
           }
          },
          "colorscale": {
           "diverging": [
            [
             0,
             "#8e0152"
            ],
            [
             0.1,
             "#c51b7d"
            ],
            [
             0.2,
             "#de77ae"
            ],
            [
             0.3,
             "#f1b6da"
            ],
            [
             0.4,
             "#fde0ef"
            ],
            [
             0.5,
             "#f7f7f7"
            ],
            [
             0.6,
             "#e6f5d0"
            ],
            [
             0.7,
             "#b8e186"
            ],
            [
             0.8,
             "#7fbc41"
            ],
            [
             0.9,
             "#4d9221"
            ],
            [
             1,
             "#276419"
            ]
           ],
           "sequential": [
            [
             0,
             "#0d0887"
            ],
            [
             0.1111111111111111,
             "#46039f"
            ],
            [
             0.2222222222222222,
             "#7201a8"
            ],
            [
             0.3333333333333333,
             "#9c179e"
            ],
            [
             0.4444444444444444,
             "#bd3786"
            ],
            [
             0.5555555555555556,
             "#d8576b"
            ],
            [
             0.6666666666666666,
             "#ed7953"
            ],
            [
             0.7777777777777778,
             "#fb9f3a"
            ],
            [
             0.8888888888888888,
             "#fdca26"
            ],
            [
             1,
             "#f0f921"
            ]
           ],
           "sequentialminus": [
            [
             0,
             "#0d0887"
            ],
            [
             0.1111111111111111,
             "#46039f"
            ],
            [
             0.2222222222222222,
             "#7201a8"
            ],
            [
             0.3333333333333333,
             "#9c179e"
            ],
            [
             0.4444444444444444,
             "#bd3786"
            ],
            [
             0.5555555555555556,
             "#d8576b"
            ],
            [
             0.6666666666666666,
             "#ed7953"
            ],
            [
             0.7777777777777778,
             "#fb9f3a"
            ],
            [
             0.8888888888888888,
             "#fdca26"
            ],
            [
             1,
             "#f0f921"
            ]
           ]
          },
          "colorway": [
           "#636efa",
           "#EF553B",
           "#00cc96",
           "#ab63fa",
           "#FFA15A",
           "#19d3f3",
           "#FF6692",
           "#B6E880",
           "#FF97FF",
           "#FECB52"
          ],
          "font": {
           "color": "#2a3f5f"
          },
          "geo": {
           "bgcolor": "white",
           "lakecolor": "white",
           "landcolor": "white",
           "showlakes": true,
           "showland": true,
           "subunitcolor": "#C8D4E3"
          },
          "hoverlabel": {
           "align": "left"
          },
          "hovermode": "closest",
          "mapbox": {
           "style": "light"
          },
          "paper_bgcolor": "white",
          "plot_bgcolor": "white",
          "polar": {
           "angularaxis": {
            "gridcolor": "#EBF0F8",
            "linecolor": "#EBF0F8",
            "ticks": ""
           },
           "bgcolor": "white",
           "radialaxis": {
            "gridcolor": "#EBF0F8",
            "linecolor": "#EBF0F8",
            "ticks": ""
           }
          },
          "scene": {
           "xaxis": {
            "backgroundcolor": "white",
            "gridcolor": "#DFE8F3",
            "gridwidth": 2,
            "linecolor": "#EBF0F8",
            "showbackground": true,
            "ticks": "",
            "zerolinecolor": "#EBF0F8"
           },
           "yaxis": {
            "backgroundcolor": "white",
            "gridcolor": "#DFE8F3",
            "gridwidth": 2,
            "linecolor": "#EBF0F8",
            "showbackground": true,
            "ticks": "",
            "zerolinecolor": "#EBF0F8"
           },
           "zaxis": {
            "backgroundcolor": "white",
            "gridcolor": "#DFE8F3",
            "gridwidth": 2,
            "linecolor": "#EBF0F8",
            "showbackground": true,
            "ticks": "",
            "zerolinecolor": "#EBF0F8"
           }
          },
          "shapedefaults": {
           "line": {
            "color": "#2a3f5f"
           }
          },
          "ternary": {
           "aaxis": {
            "gridcolor": "#DFE8F3",
            "linecolor": "#A2B1C6",
            "ticks": ""
           },
           "baxis": {
            "gridcolor": "#DFE8F3",
            "linecolor": "#A2B1C6",
            "ticks": ""
           },
           "bgcolor": "white",
           "caxis": {
            "gridcolor": "#DFE8F3",
            "linecolor": "#A2B1C6",
            "ticks": ""
           }
          },
          "title": {
           "x": 0.05
          },
          "xaxis": {
           "automargin": true,
           "gridcolor": "#EBF0F8",
           "linecolor": "#EBF0F8",
           "ticks": "",
           "title": {
            "standoff": 15
           },
           "zerolinecolor": "#EBF0F8",
           "zerolinewidth": 2
          },
          "yaxis": {
           "automargin": true,
           "gridcolor": "#EBF0F8",
           "linecolor": "#EBF0F8",
           "ticks": "",
           "title": {
            "standoff": 15
           },
           "zerolinecolor": "#EBF0F8",
           "zerolinewidth": 2
          }
         }
        },
        "title": {
         "text": "Comparaison des Modèles - Evolution des Métriques en Fonction du Nombre de Variables"
        },
        "xaxis": {
         "title": {
          "text": "Nombre de variables"
         }
        },
        "yaxis": {
         "title": {
          "text": "Score"
         }
        }
       }
      }
     },
     "metadata": {},
     "output_type": "display_data"
    }
   ],
   "source": [
    "# Fonction pour entraîner et évaluer un modèle \n",
    "def evaluer_modele_avec_sous_ensembles(colonnes, model, x_train, x_test, y_train, y_test):\n",
    "    # Initialisation des listes pour stocker les scores\n",
    "    precision_scores = []\n",
    "    recall_scores = []\n",
    "    f1_scores = []\n",
    "    auc_scores = []\n",
    "\n",
    "    # Boucle sur les tailles de sous-ensembles de colonnes\n",
    "    for i in range(1, len(colonnes) + 1):\n",
    "        # Sélectionner les premières 'i' colonnes\n",
    "        subset_columns = colonnes[:i]\n",
    "        x_train_subset = x_train[subset_columns]\n",
    "        x_test_subset = x_test[subset_columns]\n",
    "\n",
    "        # Entraîner le modèle\n",
    "        model.fit(x_train_subset, y_train)\n",
    "\n",
    "        # Prédictions et calcul des probabilités\n",
    "        y_pred = model.predict(x_test_subset)\n",
    "        y_pred_probs = model.predict_proba(x_test_subset)[:, 1]  # Probabilités pour ROC AUC\n",
    "\n",
    "        # Calcul des métriques\n",
    "        precision = precision_score(y_test, y_pred)\n",
    "        recall = recall_score(y_test, y_pred)\n",
    "        f1 = f1_score(y_test, y_pred)\n",
    "        auc = roc_auc_score(y_test, y_pred_probs)\n",
    "\n",
    "        # Stocker les scores\n",
    "        precision_scores.append(precision)\n",
    "        recall_scores.append(recall)\n",
    "        f1_scores.append(f1)\n",
    "        auc_scores.append(auc)\n",
    "\n",
    "    return precision_scores, recall_scores, f1_scores, auc_scores\n",
    "\n",
    "\n",
    "# Liste des variables importantes \n",
    "\n",
    "colonnes = [\n",
    "    'REASON_HomeImp', \n",
    "    'JOB_Mgr', \n",
    "    'JOB_Office', \n",
    "    'JOB_Other', \n",
    "    'JOB_ProfExe', \n",
    "    'JOB_Sales', \n",
    "    'JOB_Self', \n",
    "    'LOAN', \n",
    "    'MORTDUE', \n",
    "    'YOJ', \n",
    "    'DEROG', \n",
    "    'DELINQ', \n",
    "    'CLAGE', \n",
    "    'NINQ', \n",
    "    'DEBTINC'\n",
    "]\n",
    "\n",
    "\n",
    "# Entraîner et évaluer les 3 modèles\n",
    "models = [random_forest1, random_forest2, random_forest3]  # Remplace par tes modèles\n",
    "model_names = ['Modèle 1 (Sans Optimisation)', 'Modèle 2 (Seuil Pratique)', 'Modèle 3 (Grid Search)']\n",
    "\n",
    "# Couleurs pour chaque modèle\n",
    "colors = ['blue', 'green', 'red']\n",
    "\n",
    "# Créer le graphique avec Plotly\n",
    "fig = go.Figure()\n",
    "\n",
    "# Pour chaque modèle\n",
    "for i, model in enumerate(models):\n",
    "    precision_scores, recall_scores, f1_scores, auc_scores = evaluer_modele_avec_sous_ensembles(\n",
    "        colonnes, model, X_train, X_test, y_train, y_test\n",
    "    )\n",
    "\n",
    "    # Ajouter des traces pour chaque métrique (une pour chaque modèle)\n",
    "    fig.add_trace(go.Scatter(x=list(range(1, len(colonnes) + 1)), y=auc_scores, mode='lines+markers', \n",
    "                             marker=dict(size=8, color=colors[i]), line=dict(color=colors[i]), \n",
    "                             name=f'{model_names[i]} - AUC'))\n",
    "    fig.add_trace(go.Scatter(x=list(range(1, len(colonnes) + 1)), y=precision_scores, mode='lines+markers', \n",
    "                             marker=dict(size=8, color=colors[i]), line=dict(color=colors[i], dash='dash'), \n",
    "                             name=f'{model_names[i]} - Precision'))\n",
    "    fig.add_trace(go.Scatter(x=list(range(1, len(colonnes) + 1)), y=recall_scores, mode='lines+markers', \n",
    "                             marker=dict(size=8, color=colors[i]), line=dict(color=colors[i], dash='dot'), \n",
    "                             name=f'{model_names[i]} - Recall'))\n",
    "    fig.add_trace(go.Scatter(x=list(range(1, len(colonnes) + 1)), y=f1_scores, mode='lines+markers', \n",
    "                             marker=dict(size=8, color=colors[i]), line=dict(color=colors[i], dash='longdash'), \n",
    "                             name=f'{model_names[i]} - F1-Score'))\n",
    "\n",
    "# Mise en page du graphique\n",
    "fig.update_layout(\n",
    "    title=\"Comparaison des Modèles - Evolution des Métriques en Fonction du Nombre de Variables\",\n",
    "    xaxis_title=\"Nombre de variables\",\n",
    "    yaxis_title=\"Score\",\n",
    "    template='plotly_white'\n",
    ")\n",
    "\n",
    "# Afficher le graphique\n",
    "fig.show()\n"
   ]
  },
  {
   "cell_type": "markdown",
   "metadata": {},
   "source": [
    "Nous allons  nous concentrer sur un sous-ensemble optimal de variables environ 6 où les performances se stabilisent.\n",
    "ce qui nous donnera un modele final."
   ]
  },
  {
   "cell_type": "markdown",
   "metadata": {},
   "source": [
    "##### 1.6. Modèle Random forest final : avec les 6 variables"
   ]
  },
  {
   "cell_type": "code",
   "execution_count": 47,
   "metadata": {},
   "outputs": [
    {
     "data": {
      "text/html": [
       "<div>\n",
       "<style scoped>\n",
       "    .dataframe tbody tr th:only-of-type {\n",
       "        vertical-align: middle;\n",
       "    }\n",
       "\n",
       "    .dataframe tbody tr th {\n",
       "        vertical-align: top;\n",
       "    }\n",
       "\n",
       "    .dataframe thead th {\n",
       "        text-align: right;\n",
       "    }\n",
       "</style>\n",
       "<table border=\"1\" class=\"dataframe\">\n",
       "  <thead>\n",
       "    <tr style=\"text-align: right;\">\n",
       "      <th></th>\n",
       "      <th>Métrique</th>\n",
       "      <th>Ensemble d'entraînement</th>\n",
       "      <th>Ensemble de test</th>\n",
       "    </tr>\n",
       "  </thead>\n",
       "  <tbody>\n",
       "    <tr>\n",
       "      <th>0</th>\n",
       "      <td>Accuracy</td>\n",
       "      <td>0.849715</td>\n",
       "      <td>0.786137</td>\n",
       "    </tr>\n",
       "    <tr>\n",
       "      <th>1</th>\n",
       "      <td>AUC</td>\n",
       "      <td>0.906503</td>\n",
       "      <td>0.817430</td>\n",
       "    </tr>\n",
       "    <tr>\n",
       "      <th>2</th>\n",
       "      <td>Recall</td>\n",
       "      <td>0.750547</td>\n",
       "      <td>0.636000</td>\n",
       "    </tr>\n",
       "    <tr>\n",
       "      <th>3</th>\n",
       "      <td>Precision</td>\n",
       "      <td>0.586826</td>\n",
       "      <td>0.495327</td>\n",
       "    </tr>\n",
       "    <tr>\n",
       "      <th>4</th>\n",
       "      <td>F1-Score</td>\n",
       "      <td>0.658665</td>\n",
       "      <td>0.556918</td>\n",
       "    </tr>\n",
       "  </tbody>\n",
       "</table>\n",
       "</div>"
      ],
      "text/plain": [
       "    Métrique  Ensemble d'entraînement  Ensemble de test\n",
       "0   Accuracy                 0.849715          0.786137\n",
       "1        AUC                 0.906503          0.817430\n",
       "2     Recall                 0.750547          0.636000\n",
       "3  Precision                 0.586826          0.495327\n",
       "4   F1-Score                 0.658665          0.556918"
      ]
     },
     "execution_count": 47,
     "metadata": {},
     "output_type": "execute_result"
    }
   ],
   "source": [
    "selected_columns = [\n",
    "    'DELINQ',        # F-Score: 556.16, p-value: 0.0000\n",
    "    'DEROG',         # F-Score: 336.40, p-value: 0.0000\n",
    "    'CLAGE',         # F-Score: 152.98, p-value: 0.0000\n",
    "    'NINQ',          # F-Score: 146.14, p-value: 0.0000\n",
    "    'JOB_Office',    # F-Score: 31.11, p-value: 0.0000\n",
    "    'LOAN',          # F-Score: 31.10, p-value: 0.0000\n",
    "]\n",
    "# Sous-ensembles des données d'entraînement et de test avec les 6 variables\n",
    "X_train_final = X_train[selected_columns]\n",
    "X_test_final = X_test[selected_columns]\n",
    "\n",
    "# Entraîner le modèle avec les meilleurs paramètres (par exemple, ceux de Grid Search)\n",
    "final_model = RandomForestClassifier(n_estimators=grid_search.best_params_['n_estimators'],\n",
    "                                     max_depth=grid_search.best_params_['max_depth'],\n",
    "                                     oob_score=True, random_state=99, class_weight='balanced')\n",
    "\n",
    "\n",
    "final_model.fit(X_train_final, y_train)  # Entraîner le modèle sur les 6 variables sélectionnées\n",
    "\n",
    "# Prédictions et évaluation\n",
    "y_train_pred_final = final_model.predict(X_train_final)\n",
    "y_test_pred_final = final_model.predict(X_test_final)\n",
    "\n",
    "# Calcul des scores\n",
    "train_accuracy_final = accuracy_score(y_train, y_train_pred_final)\n",
    "test_accuracy_final = accuracy_score(y_test, y_test_pred_final)\n",
    "\n",
    "train_auc_final = roc_auc_score(y_train, final_model.predict_proba(X_train_final)[:, 1])\n",
    "test_auc_final = roc_auc_score(y_test, final_model.predict_proba(X_test_final)[:, 1])\n",
    "\n",
    "train_recall_final = recall_score(y_train, y_train_pred_final)\n",
    "test_recall_final = recall_score(y_test, y_test_pred_final)\n",
    "\n",
    "train_precision_final = precision_score(y_train, y_train_pred_final)\n",
    "test_precision_final = precision_score(y_test, y_test_pred_final)\n",
    "\n",
    "train_f1_final = f1_score(y_train, y_train_pred_final)\n",
    "test_f1_final = f1_score(y_test, y_test_pred_final)\n",
    "\n",
    "# Résultats des performances finales\n",
    "final_performance = pd.DataFrame({\n",
    "    'Métrique': ['Accuracy', 'AUC', 'Recall', 'Precision', 'F1-Score'],\n",
    "    'Ensemble d\\'entraînement': [train_accuracy_final, train_auc_final, train_recall_final, train_precision_final, train_f1_final],\n",
    "    'Ensemble de test': [test_accuracy_final, test_auc_final, test_recall_final, test_precision_final, test_f1_final]\n",
    "})\n",
    "\n",
    "final_performance\n"
   ]
  },
  {
   "cell_type": "markdown",
   "metadata": {},
   "source": [
    "**Analyse des performances avec les 6 meilleures features (sélectionnées selon F-score élevé et p-value faible)**\n",
    "\n",
    "L'utilisation des 6 meilleures features a modifié les performances du modèle par rapport aux versions précédentes (sans optimisation, avec seuils pratiques, et avec GridSearch).\n",
    "\n",
    "**Comparaison des performances :**\n",
    "\n",
    "| Métrique | Sans optimisation (Test) | Seuils pratiques (Test) | GridSearch (Test) | Top 6 Features (Test) | Impact (Top 6 vs Sans) | Impact (Top 6 vs Grid) |\n",
    "| --- | --- | --- | --- | --- | --- | --- |\n",
    "| Accuracy | 0.885 | 0.885 | 0.855 | 0.850 | 🔻 -3.5 pts | 🔻 -0.5 pt |\n",
    "| AUC | 0.820 | 0.813 | 0.807 | 0.881 | 🔺 +6.1 pts | 🔺 +7.4 pts |\n",
    "| Recall | 0.708 | 0.688 | 0.724 | 0.688 | 🔻 -2 pts | 🔻 -3.6 pts |\n",
    "| Precision | 0.738 | 0.748 | 0.640 | 0.635 | 🔻 -10.3 pts | 🔻 -0.5 pt |\n",
    "| F1-Score | 0.722 | 0.717 | 0.679 | 0.660 | 🔻 -6.2 pts | 🔻 -1.9 pts |\n",
    "\n",
    "**Interprétation des résultats :**\n",
    "\n",
    "- AUC fortement amélioré (+6.1 pts vs sans opt., +7.4 pts vs GridSearch)\n",
    "  → Le modèle discrimine mieux les classes malgré l'utilisation de seulement 6 features.\n",
    "\n",
    "- Accuracy en légère baisse (-3.5 pts vs sans opt., -0.5 pt vs GridSearch)\n",
    "  → Réduction de la complexité du modèle sans trop perdre en performance générale.\n",
    "\n",
    "- Recall et F1-Score plus faibles\n",
    "  → Perte en détection des cas positifs, ce qui pourrait signifier que certaines variables supprimées étaient importantes pour capturer cette information.\n",
    "\n",
    "- Précision reste stable par rapport à GridSearch mais diminue par rapport aux autres modèles\n",
    "  → Toujours une augmentation des faux positifs, mais sans amélioration significative sur la précision globale.\n",
    "\n",
    "**Conclusion : Quel modèle choisir ?**\n",
    "\n",
    "- Si l'objectif est de simplifier le modèle tout en conservant une bonne capacité de discrimination (AUC élevé) → Modèle avec les 6 meilleures features.\n",
    "\n",
    "- Si l'objectif est un bon équilibre entre précision et rappel → Modèle sans optimisation (compromis global).\n",
    "\n",
    "- Si l'objectif est d'améliorer la détection des cas positifs (favoriser le rappel) → Modèle optimisé via GridSearchCV.\n",
    "\n",
    "- Si l'objectif est de maximiser la précision pour réduire les faux positifs → Modèle avec seuils pratiques.\n",
    "\n",
    "Le modèle avec les 6 meilleures features est un bon choix si on veut un modèle plus simple et interprétable, mais il faut accepter une légère perte en recall et en F1-Score.\n"
   ]
  },
  {
   "cell_type": "code",
   "execution_count": 48,
   "metadata": {},
   "outputs": [
    {
     "data": {
      "image/png": "[encoded data removed]",
      "text/plain": [
       "<Figure size 500x400 with 1 Axes>"
      ]
     },
     "metadata": {},
     "output_type": "display_data"
    }
   ],
   "source": [
    "# Tracer les courbes ROC avec les AUC dans la légende\n",
    "plt.figure(figsize=(5, 4))\n",
    "plt.plot(train_fpr, train_tpr, color='blue', label=f'ROC Train (AUC = {train_auc_final:.2f})')\n",
    "plt.plot(test_fpr, test_tpr, color='red', label=f'ROC Test (AUC = {test_auc_final:.2f})')\n",
    "\n",
    "# Tracer la diagonale de référence (modèle aléatoire)\n",
    "plt.plot([0, 1], [0, 1], 'k--')\n",
    "\n",
    "# Ajouter des labels et un titre\n",
    "plt.xlabel('Taux de faux positifs (FPR)')\n",
    "plt.ylabel('Taux de vrais positifs (TPR)')\n",
    "plt.title('Courbe ROC - Entraînement vs Test')\n",
    "\n",
    "# Ajouter la légende\n",
    "plt.legend()\n",
    "plt.grid()\n",
    "\n",
    "# Afficher le graphique\n",
    "plt.show()"
   ]
  },
  {
   "cell_type": "code",
   "execution_count": 49,
   "metadata": {},
   "outputs": [
    {
     "data": {
      "text/plain": [
       "0.63"
      ]
     },
     "execution_count": 49,
     "metadata": {},
     "output_type": "execute_result"
    }
   ],
   "source": [
    "gini_test=np.round(2*roc_auc_score(y_test, final_model.predict_proba(X_test_final)[:, 1])-1,2)\n",
    "gini_test"
   ]
  },
  {
   "cell_type": "code",
   "execution_count": 50,
   "metadata": {},
   "outputs": [
    {
     "name": "stdout",
     "output_type": "stream",
     "text": [
      "Log Loss - Entraînement: 0.3998\n",
      "Log Loss - Test: 0.4711\n"
     ]
    }
   ],
   "source": [
    "# Calculer le log loss sur les ensembles d'entraînement et de test\n",
    "train_log_loss_final = log_loss(y_train, final_model.predict_proba(X_train_final)[:, 1])\n",
    "test_log_loss_final = log_loss(y_test, final_model.predict_proba(X_test_final)[:, 1])\n",
    "\n",
    "# Afficher les résultats du log loss\n",
    "print(f'Log Loss - Entraînement: {train_log_loss_final:.4f}')\n",
    "print(f'Log Loss - Test: {test_log_loss_final:.4f}')"
   ]
  },
  {
   "cell_type": "markdown",
   "metadata": {},
   "source": [
    "* Analyse d'importance des caractéristiques avec SHAP : juste pour le modele random forest optimisé avec grid search"
   ]
  },
  {
   "cell_type": "code",
   "execution_count": 51,
   "metadata": {},
   "outputs": [],
   "source": [
    "explainer_final = shap.TreeExplainer(final_model) \n",
    "\n",
    "# Calculer les valeurs SHAP pour l'ensemble de test avec les 6 variables sélectionnées\n",
    "shap_values_final = explainer_final.shap_values(X_test_final)"
   ]
  },
  {
   "cell_type": "code",
   "execution_count": 52,
   "metadata": {},
   "outputs": [
    {
     "name": "stdout",
     "output_type": "stream",
     "text": [
      "Forme de X_test_final: (1183, 6)\n",
      "Forme des shap_values_final: (1183, 6, 2)\n"
     ]
    }
   ],
   "source": [
    "# Vérifier les formes des données\n",
    "print(f\"Forme de X_test_final: {X_test_final.shape}\")\n",
    "print(f\"Forme des shap_values_final: {shap_values_final.shape}\")"
   ]
  },
  {
   "cell_type": "code",
   "execution_count": 53,
   "metadata": {},
   "outputs": [
    {
     "data": {
      "image/png": "[encoded data removed]",
      "text/plain": [
       "<Figure size 800x390 with 2 Axes>"
      ]
     },
     "metadata": {},
     "output_type": "display_data"
    }
   ],
   "source": [
    "# les shap_values pour la classe 1\n",
    "shap_values_class_1 = shap_values_final[:, :, 1]\n",
    "\n",
    "# Résumé de l'importance des features avec SHAP pour la classe 1\n",
    "shap.summary_plot(shap_values_class_1, X_test_final, feature_names=selected_features)"
   ]
  },
  {
   "cell_type": "markdown",
   "metadata": {},
   "source": [
    "Commentaire :\n",
    "\n",
    "La logique derrière ces variables est conforme aux pratiques de gestion du risque de crédit car des individus avec un endettement élevé, un historique de délinquance, et un crédit plus récent (âge de crédit plus court) présentent un risque accru de défaut."
   ]
  },
  {
   "cell_type": "markdown",
   "metadata": {},
   "source": [
    "**Comparaison des Modèles Random Forest (RF)**\n",
    "\n",
    "Nous comparons quatre versions du modèle Random Forest :\n",
    "\n",
    "1. RF Basique (sans optimisation)\n",
    "2. RF avec Seuils Pratiques\n",
    "3. RF Optimisé avec Grid Search\n",
    "4. RF avec Sélection de Features (F1 élevé + p-value faible)\n",
    "\n",
    "**Tableau Comparatif**\n",
    "\n",
    "| Métrique | RF Basique (Train/Test) | RF Seuils Pratiques (Train/Test) | RF Optimisé (Train/Test) | RF avec Sélection (Train/Test) | Meilleur Modèle |\n",
    "| --- | --- | --- | --- | --- | --- |\n",
    "| Accuracy | 0.947 / 0.885 | 0.950 / 0.885 | 0.907 / 0.855 | 0.893 / 0.850 | Seuils Pratiques ✅ |\n",
    "| AUC | 0.925 / 0.820 | 0.924 / 0.813 | 0.881 / 0.807 | 0.940 / 0.881 | Sélection de Features ✅ |\n",
    "| Recall | 0.889 / 0.708 | 0.881 / 0.688 | 0.839 / 0.724 | 0.801 / 0.688 | Optimisé (Grid Search) ✅ |\n",
    "| Precision | 0.845 / 0.738 | 0.864 / 0.748 | 0.722 / 0.640 | 0.692 / 0.635 | Seuils Pratiques ✅ |\n",
    "| F1-Score | 0.867 / 0.722 | 0.872 / 0.717 | 0.776 / 0.679 | 0.742 / 0.660 | Seuils Pratiques ✅ |\n",
    "\n",
    "**Analyse des Résultats**\n",
    "\n",
    "🔹 **Le modèle avec Seuils Pratiques est le plus équilibré :**\n",
    "- Meilleure précision (0.748 vs 0.640 pour Grid Search).\n",
    "- Meilleure accuracy (88.5%) et F1-score correct (0.717).\n",
    "- Évite l'overfitting tout en conservant une bonne performance.\n",
    "\n",
    "🔹 **Le modèle avec Sélection de Features offre une meilleure AUC (0.881 vs 0.813) :**\n",
    "- Cela signifie qu'il distingue mieux les classes.\n",
    "- Cependant, il a une précision et un F1-score plus bas, ce qui peut poser problème.\n",
    "\n",
    "🔹 **Le modèle optimisé par Grid Search souffre d'une baisse de performance :**\n",
    "- Il overfit moins, mais sa précision et son F1-score sont plus bas.\n",
    "- Moins intéressant en pratique, car il ne généralise pas mieux que les seuils pratiques.\n",
    "\n",
    "🔹 **Le modèle basique est déjà performant mais légèrement inférieur aux Seuils Pratiques :**\n",
    "- Légère amélioration avec les seuils (précision et stabilité accrues).\n",
    "\n",
    "🏆 **Meilleur Modèle : Random Forest avec Seuils Pratiques ✅**\n"
   ]
  }
 ],
 "metadata": {
  "kernelspec": {
   "display_name": "base",
   "language": "python",
   "name": "python3"
  },
  "language_info": {
   "codemirror_mode": {
    "name": "ipython",
    "version": 3
   },
   "file_extension": ".py",
   "mimetype": "text/x-python",
   "name": "python",
   "nbconvert_exporter": "python",
   "pygments_lexer": "ipython3",
   "version": "3.12.7"
  }
 },
 "nbformat": 4,
 "nbformat_minor": 2
}

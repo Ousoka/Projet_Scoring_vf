{
 "cells": [
  {
   "cell_type": "markdown",
   "metadata": {},
   "source": [
    "<h1 style=\"font-size:32px; text-align:center;\">Projet Scoring</h1>\n",
    "<hr>\n",
    "<h1 style=\"font-size:18px; text-align:center; margin-bottom:24px;\">Ousmane KA</h1>\n",
    "<hr>"
   ]
  },
  {
   "cell_type": "code",
   "execution_count": 1,
   "metadata": {},
   "outputs": [],
   "source": [
    "import numpy as np\n",
    "import pandas as pd\n",
    "import matplotlib.pyplot as plt\n",
    "import plotly.express as px\n",
    "import seaborn as sns\n",
    "import missingno as msno\n",
    "from skimpy import skim\n",
    "import warnings\n",
    "import os\n",
    "import itertools\n",
    "from sklearn.preprocessing import StandardScaler\n",
    "from scipy.stats import zscore\n",
    "from scipy.stats import skew\n",
    "from sklearn.impute import SimpleImputer\n",
    "from scipy.stats import chi2_contingency, mannwhitneyu\n",
    "warnings.filterwarnings('ignore')"
   ]
  },
  {
   "cell_type": "code",
   "execution_count": 2,
   "metadata": {},
   "outputs": [],
   "source": [
    "df = pd.read_csv('./Dataset/hmeq.csv')"
   ]
  },
  {
   "cell_type": "markdown",
   "metadata": {},
   "source": [
    "<span style=\"color:#0A8791; font-size:24px;\"><b><u>Traitement méticuleuse des données</u></b></span>"
   ]
  },
  {
   "cell_type": "code",
   "execution_count": 3,
   "metadata": {},
   "outputs": [
    {
     "name": "stdout",
     "output_type": "stream",
     "text": [
      "Nombre de cas où MORTDUE > VALUE: 51\n",
      "     MORTDUE    VALUE\n",
      "1    70053.0  68400.0\n",
      "50   39589.0  36100.0\n",
      "94   64240.0  63990.0\n",
      "136  25597.0  23031.0\n",
      "184  40000.0  32480.0\n",
      "216  40564.0  39527.0\n",
      "218  66987.0  65111.0\n",
      "252  72147.0  69918.0\n",
      "339  68743.0  65321.0\n",
      "457  53776.0  51952.0\n"
     ]
    }
   ],
   "source": [
    "# Identifier les lignes où MORTDUE est supérieur à VALUE\n",
    "mortdue_value_issues = df[df[\"MORTDUE\"] > df[\"VALUE\"]]\n",
    "\n",
    "# Compter le nombre de cas où MORTDUE > VALUE\n",
    "num_mortdue_value_issues = mortdue_value_issues.shape[0]\n",
    "\n",
    "# Afficher un échantillon de ces cas problématiques\n",
    "sample_issues = mortdue_value_issues[[\"MORTDUE\", \"VALUE\"]].head(10)\n",
    "\n",
    "# Afficher les résultats\n",
    "print(f\"Nombre de cas où MORTDUE > VALUE: {num_mortdue_value_issues}\")\n",
    "print(sample_issues)\n"
   ]
  },
  {
   "cell_type": "code",
   "execution_count": 4,
   "metadata": {},
   "outputs": [
    {
     "data": {
      "text/html": [
       "<div>\n",
       "<style scoped>\n",
       "    .dataframe tbody tr th:only-of-type {\n",
       "        vertical-align: middle;\n",
       "    }\n",
       "\n",
       "    .dataframe tbody tr th {\n",
       "        vertical-align: top;\n",
       "    }\n",
       "\n",
       "    .dataframe thead th {\n",
       "        text-align: right;\n",
       "    }\n",
       "</style>\n",
       "<table border=\"1\" class=\"dataframe\">\n",
       "  <thead>\n",
       "    <tr style=\"text-align: right;\">\n",
       "      <th></th>\n",
       "      <th>BAD</th>\n",
       "      <th>LOAN</th>\n",
       "      <th>MORTDUE</th>\n",
       "      <th>VALUE</th>\n",
       "      <th>REASON</th>\n",
       "      <th>JOB</th>\n",
       "      <th>YOJ</th>\n",
       "      <th>DEROG</th>\n",
       "      <th>DELINQ</th>\n",
       "      <th>CLAGE</th>\n",
       "      <th>NINQ</th>\n",
       "      <th>CLNO</th>\n",
       "      <th>DEBTINC</th>\n",
       "    </tr>\n",
       "  </thead>\n",
       "  <tbody>\n",
       "    <tr>\n",
       "      <th>0</th>\n",
       "      <td>1</td>\n",
       "      <td>1100</td>\n",
       "      <td>25860.0</td>\n",
       "      <td>39025.0</td>\n",
       "      <td>HomeImp</td>\n",
       "      <td>Other</td>\n",
       "      <td>10.5</td>\n",
       "      <td>0.0</td>\n",
       "      <td>0.0</td>\n",
       "      <td>94.366667</td>\n",
       "      <td>1.0</td>\n",
       "      <td>9.0</td>\n",
       "      <td>NaN</td>\n",
       "    </tr>\n",
       "    <tr>\n",
       "      <th>1</th>\n",
       "      <td>1</td>\n",
       "      <td>1300</td>\n",
       "      <td>70053.0</td>\n",
       "      <td>68400.0</td>\n",
       "      <td>HomeImp</td>\n",
       "      <td>Other</td>\n",
       "      <td>7.0</td>\n",
       "      <td>0.0</td>\n",
       "      <td>2.0</td>\n",
       "      <td>121.833333</td>\n",
       "      <td>0.0</td>\n",
       "      <td>14.0</td>\n",
       "      <td>NaN</td>\n",
       "    </tr>\n",
       "    <tr>\n",
       "      <th>2</th>\n",
       "      <td>1</td>\n",
       "      <td>1500</td>\n",
       "      <td>13500.0</td>\n",
       "      <td>16700.0</td>\n",
       "      <td>HomeImp</td>\n",
       "      <td>Other</td>\n",
       "      <td>4.0</td>\n",
       "      <td>0.0</td>\n",
       "      <td>0.0</td>\n",
       "      <td>149.466667</td>\n",
       "      <td>1.0</td>\n",
       "      <td>10.0</td>\n",
       "      <td>NaN</td>\n",
       "    </tr>\n",
       "    <tr>\n",
       "      <th>3</th>\n",
       "      <td>1</td>\n",
       "      <td>1500</td>\n",
       "      <td>NaN</td>\n",
       "      <td>NaN</td>\n",
       "      <td>NaN</td>\n",
       "      <td>NaN</td>\n",
       "      <td>NaN</td>\n",
       "      <td>NaN</td>\n",
       "      <td>NaN</td>\n",
       "      <td>NaN</td>\n",
       "      <td>NaN</td>\n",
       "      <td>NaN</td>\n",
       "      <td>NaN</td>\n",
       "    </tr>\n",
       "    <tr>\n",
       "      <th>4</th>\n",
       "      <td>0</td>\n",
       "      <td>1700</td>\n",
       "      <td>97800.0</td>\n",
       "      <td>112000.0</td>\n",
       "      <td>HomeImp</td>\n",
       "      <td>Office</td>\n",
       "      <td>3.0</td>\n",
       "      <td>0.0</td>\n",
       "      <td>0.0</td>\n",
       "      <td>93.333333</td>\n",
       "      <td>0.0</td>\n",
       "      <td>14.0</td>\n",
       "      <td>NaN</td>\n",
       "    </tr>\n",
       "  </tbody>\n",
       "</table>\n",
       "</div>"
      ],
      "text/plain": [
       "   BAD  LOAN  MORTDUE     VALUE   REASON     JOB   YOJ  DEROG  DELINQ  \\\n",
       "0    1  1100  25860.0   39025.0  HomeImp   Other  10.5    0.0     0.0   \n",
       "1    1  1300  70053.0   68400.0  HomeImp   Other   7.0    0.0     2.0   \n",
       "2    1  1500  13500.0   16700.0  HomeImp   Other   4.0    0.0     0.0   \n",
       "3    1  1500      NaN       NaN      NaN     NaN   NaN    NaN     NaN   \n",
       "4    0  1700  97800.0  112000.0  HomeImp  Office   3.0    0.0     0.0   \n",
       "\n",
       "        CLAGE  NINQ  CLNO  DEBTINC  \n",
       "0   94.366667   1.0   9.0      NaN  \n",
       "1  121.833333   0.0  14.0      NaN  \n",
       "2  149.466667   1.0  10.0      NaN  \n",
       "3         NaN   NaN   NaN      NaN  \n",
       "4   93.333333   0.0  14.0      NaN  "
      ]
     },
     "execution_count": 4,
     "metadata": {},
     "output_type": "execute_result"
    }
   ],
   "source": [
    "df.head()"
   ]
  },
  {
   "cell_type": "code",
   "execution_count": 5,
   "metadata": {},
   "outputs": [
    {
     "name": "stdout",
     "output_type": "stream",
     "text": [
      "Valeurs manquantes dans 'VALUE' : 112 valeurs\n",
      "Ratio médian LOAN-to-VALUE : 5.864180035650624\n",
      "Valeurs manquantes dans 'MORTDUE' : 518 valeurs\n",
      "Ratio médian MORTDUE-to-VALUE : 0.7182660906635383\n"
     ]
    }
   ],
   "source": [
    "from sklearn.linear_model import LinearRegression\n",
    "\n",
    "def handle_missing_values(df):\n",
    "    # Étape 1 : Gestion des valeurs manquantes dans la colonne 'VALUE' (Valeur de la propriété)\n",
    "    print(f\"Valeurs manquantes dans 'VALUE' : {df['VALUE'].isnull().sum()} valeurs\")\n",
    "    \n",
    "    # Étape 1a : Prédire 'VALUE' en fonction du ratio médian LOAN-to-VALUE\n",
    "    df['loan_to_value'] = df['VALUE'] / df['LOAN']\n",
    "    median_ratio = df['loan_to_value'].median()\n",
    "    print(f\"Ratio médian LOAN-to-VALUE : {median_ratio}\")\n",
    "    \n",
    "    # Remplacer les valeurs manquantes de 'VALUE' par LOAN * ratio_médian\n",
    "    df.loc[df['VALUE'].isnull(), 'VALUE'] = df.loc[df['VALUE'].isnull(), 'LOAN'] * median_ratio\n",
    "    \n",
    "    # Étape 1b : Vérification de la cohérence, la valeur de 'VALUE' ne doit pas être inférieure à 'MORTDUE'\n",
    "    df['VALUE'] = df[['VALUE', 'MORTDUE']].max(axis=1)\n",
    "\n",
    "    # Étape 1c : Imputation des valeurs restantes par la médiane dans les plages de LOAN\n",
    "    df['loan_range'] = (df['LOAN'] // 5000) * 5000\n",
    "    for loan_range, group in df.groupby('loan_range'):\n",
    "        median_value = group['VALUE'].median()\n",
    "        df.loc[(df['VALUE'].isnull()) & (df['loan_range'] == loan_range), 'VALUE'] = median_value\n",
    "    \n",
    "    # Étape 1d : Si aucune correspondance, utiliser la médiane globale pour 'VALUE'\n",
    "    df['VALUE'].fillna(df['VALUE'].median(), inplace=True)\n",
    "    \n",
    "    # Vérification de la cohérence des valeurs 'VALUE'\n",
    "    df = df[df['VALUE'] >= 0]\n",
    "\n",
    "    # Étape 2 : Gestion des valeurs manquantes dans 'MORTDUE' (Montant du prêt restant)\n",
    "    print(f\"Valeurs manquantes dans 'MORTDUE' : {df['MORTDUE'].isnull().sum()} valeurs\")\n",
    "\n",
    "    # Étape 2a : Prédire 'MORTDUE' en fonction du ratio médian MORTDUE-to-VALUE\n",
    "    df['ltv_ratio'] = df['MORTDUE'] / df['VALUE']\n",
    "    median_ltv_ratio = df['ltv_ratio'].median()\n",
    "    print(f\"Ratio médian MORTDUE-to-VALUE : {median_ltv_ratio}\")\n",
    "    \n",
    "    # Remplacer les valeurs manquantes de 'MORTDUE' par VALUE * ratio_médian\n",
    "    df.loc[df['MORTDUE'].isnull(), 'MORTDUE'] = df.loc[df['MORTDUE'].isnull(), 'VALUE'] * median_ltv_ratio\n",
    "    \n",
    "    # Étape 2b : Vérification de la cohérence, MORTDUE ne doit pas dépasser VALUE\n",
    "    df['MORTDUE'] = df[['MORTDUE', 'VALUE']].min(axis=1)\n",
    "\n",
    "    # Étape 2c : Imputation des valeurs restantes par la médiane dans les plages de VALUE\n",
    "    df['value_range'] = (df['VALUE'] // 5000) * 5000\n",
    "    for value_range, group in df.groupby('value_range'):\n",
    "        median_mortdue = group['MORTDUE'].median()\n",
    "        df.loc[(df['MORTDUE'].isnull()) & (df['value_range'] == value_range), 'MORTDUE'] = median_mortdue\n",
    "\n",
    "    # Étape 2d : Si aucune correspondance, utiliser la médiane globale pour 'MORTDUE'\n",
    "    df['MORTDUE'].fillna(df['MORTDUE'].median(), inplace=True)\n",
    "    \n",
    "    # Vérification de la cohérence des valeurs 'MORTDUE'\n",
    "    df = df[df['MORTDUE'] >= 0]\n",
    "    \n",
    "    # Étape 3 : Cas limite et nettoyage final\n",
    "    # Supprimer les lignes où à la fois 'VALUE' et 'MORTDUE' sont manquants\n",
    "    df.dropna(subset=['VALUE', 'MORTDUE'], how='all', inplace=True)\n",
    "    \n",
    "    # Vérification finale de la cohérence (MORTDUE ne doit pas dépasser VALUE)\n",
    "    df['MORTDUE'] = df[['MORTDUE', 'VALUE']].min(axis=1)\n",
    "\n",
    "    return df\n",
    "\n",
    "# Appliquer la fonction sur le DataFrame\n",
    "df_cleaned = handle_missing_values(df)"
   ]
  },
  {
   "cell_type": "code",
   "execution_count": 6,
   "metadata": {},
   "outputs": [
    {
     "data": {
      "text/html": [
       "<div>\n",
       "<style scoped>\n",
       "    .dataframe tbody tr th:only-of-type {\n",
       "        vertical-align: middle;\n",
       "    }\n",
       "\n",
       "    .dataframe tbody tr th {\n",
       "        vertical-align: top;\n",
       "    }\n",
       "\n",
       "    .dataframe thead th {\n",
       "        text-align: right;\n",
       "    }\n",
       "</style>\n",
       "<table border=\"1\" class=\"dataframe\">\n",
       "  <thead>\n",
       "    <tr style=\"text-align: right;\">\n",
       "      <th></th>\n",
       "      <th>MORTDUE</th>\n",
       "      <th>VALUE</th>\n",
       "    </tr>\n",
       "  </thead>\n",
       "  <tbody>\n",
       "    <tr>\n",
       "      <th>0</th>\n",
       "      <td>25860.000000</td>\n",
       "      <td>39025.000000</td>\n",
       "    </tr>\n",
       "    <tr>\n",
       "      <th>1</th>\n",
       "      <td>70053.000000</td>\n",
       "      <td>70053.000000</td>\n",
       "    </tr>\n",
       "    <tr>\n",
       "      <th>2</th>\n",
       "      <td>13500.000000</td>\n",
       "      <td>16700.000000</td>\n",
       "    </tr>\n",
       "    <tr>\n",
       "      <th>3</th>\n",
       "      <td>6318.062504</td>\n",
       "      <td>8796.270053</td>\n",
       "    </tr>\n",
       "    <tr>\n",
       "      <th>4</th>\n",
       "      <td>97800.000000</td>\n",
       "      <td>112000.000000</td>\n",
       "    </tr>\n",
       "    <tr>\n",
       "      <th>...</th>\n",
       "      <td>...</td>\n",
       "      <td>...</td>\n",
       "    </tr>\n",
       "    <tr>\n",
       "      <th>5955</th>\n",
       "      <td>57264.000000</td>\n",
       "      <td>90185.000000</td>\n",
       "    </tr>\n",
       "    <tr>\n",
       "      <th>5956</th>\n",
       "      <td>54576.000000</td>\n",
       "      <td>92937.000000</td>\n",
       "    </tr>\n",
       "    <tr>\n",
       "      <th>5957</th>\n",
       "      <td>54045.000000</td>\n",
       "      <td>92924.000000</td>\n",
       "    </tr>\n",
       "    <tr>\n",
       "      <th>5958</th>\n",
       "      <td>50370.000000</td>\n",
       "      <td>91861.000000</td>\n",
       "    </tr>\n",
       "    <tr>\n",
       "      <th>5959</th>\n",
       "      <td>48811.000000</td>\n",
       "      <td>88934.000000</td>\n",
       "    </tr>\n",
       "  </tbody>\n",
       "</table>\n",
       "<p>5960 rows × 2 columns</p>\n",
       "</div>"
      ],
      "text/plain": [
       "           MORTDUE          VALUE\n",
       "0     25860.000000   39025.000000\n",
       "1     70053.000000   70053.000000\n",
       "2     13500.000000   16700.000000\n",
       "3      6318.062504    8796.270053\n",
       "4     97800.000000  112000.000000\n",
       "...            ...            ...\n",
       "5955  57264.000000   90185.000000\n",
       "5956  54576.000000   92937.000000\n",
       "5957  54045.000000   92924.000000\n",
       "5958  50370.000000   91861.000000\n",
       "5959  48811.000000   88934.000000\n",
       "\n",
       "[5960 rows x 2 columns]"
      ]
     },
     "execution_count": 6,
     "metadata": {},
     "output_type": "execute_result"
    }
   ],
   "source": [
    "# Afficher uniquement les colonnes mortdue et valeur et vérifier si les valeurs manquantes sont supprimées.\n",
    "ok = df_cleaned[['MORTDUE', 'VALUE']]\n",
    "ok"
   ]
  },
  {
   "cell_type": "code",
   "execution_count": 7,
   "metadata": {},
   "outputs": [
    {
     "data": {
      "text/plain": [
       "BAD                 0\n",
       "LOAN                0\n",
       "MORTDUE             0\n",
       "VALUE               0\n",
       "REASON            252\n",
       "JOB               279\n",
       "YOJ               515\n",
       "DEROG             708\n",
       "DELINQ            580\n",
       "CLAGE             308\n",
       "NINQ              510\n",
       "CLNO              222\n",
       "DEBTINC          1267\n",
       "loan_to_value     112\n",
       "loan_range          0\n",
       "ltv_ratio         518\n",
       "value_range         0\n",
       "dtype: int64"
      ]
     },
     "execution_count": 7,
     "metadata": {},
     "output_type": "execute_result"
    }
   ],
   "source": [
    "# vérifier les valeurs manquantes\n",
    "df_cleaned.isnull().sum()"
   ]
  },
  {
   "cell_type": "code",
   "execution_count": 8,
   "metadata": {},
   "outputs": [
    {
     "data": {
      "text/plain": [
       "BAD                 0\n",
       "LOAN                0\n",
       "MORTDUE             0\n",
       "VALUE               0\n",
       "REASON            252\n",
       "JOB               279\n",
       "YOJ               515\n",
       "DEROG             708\n",
       "DELINQ            580\n",
       "CLAGE             308\n",
       "NINQ              510\n",
       "CLNO              222\n",
       "DEBTINC          1267\n",
       "loan_to_value     112\n",
       "loan_range          0\n",
       "ltv_ratio         518\n",
       "value_range         0\n",
       "dtype: int64"
      ]
     },
     "execution_count": 8,
     "metadata": {},
     "output_type": "execute_result"
    }
   ],
   "source": [
    "# Vérifiez les valeurs NaN\n",
    "df_cleaned.isna().sum()"
   ]
  },
  {
   "cell_type": "code",
   "execution_count": 9,
   "metadata": {},
   "outputs": [
    {
     "name": "stdout",
     "output_type": "stream",
     "text": [
      "Nombre de cas où MORTDUE > VALUE: 0\n",
      "Empty DataFrame\n",
      "Columns: [MORTDUE, VALUE]\n",
      "Index: []\n"
     ]
    }
   ],
   "source": [
    "# Identifier les lignes où MORTDUE est supérieur à VALUE dans le dataframe nettoyé\n",
    "mortdue_value_issues = df_cleaned[df_cleaned[\"MORTDUE\"] > df_cleaned[\"VALUE\"]]\n",
    "\n",
    "# Compter le nombre de cas où MORTDUE > VALUE\n",
    "num_mortdue_value_issues = mortdue_value_issues.shape[0]\n",
    "\n",
    "# Afficher un échantillon de ces cas problématiques\n",
    "sample_issues = mortdue_value_issues[[\"MORTDUE\", \"VALUE\"]].head(10)\n",
    "\n",
    "# Afficher les résultats\n",
    "print(f\"Nombre de cas où MORTDUE > VALUE: {num_mortdue_value_issues}\")\n",
    "print(sample_issues)\n"
   ]
  },
  {
   "cell_type": "code",
   "execution_count": 10,
   "metadata": {},
   "outputs": [
    {
     "data": {
      "text/html": [
       "<div>\n",
       "<style scoped>\n",
       "    .dataframe tbody tr th:only-of-type {\n",
       "        vertical-align: middle;\n",
       "    }\n",
       "\n",
       "    .dataframe tbody tr th {\n",
       "        vertical-align: top;\n",
       "    }\n",
       "\n",
       "    .dataframe thead th {\n",
       "        text-align: right;\n",
       "    }\n",
       "</style>\n",
       "<table border=\"1\" class=\"dataframe\">\n",
       "  <thead>\n",
       "    <tr style=\"text-align: right;\">\n",
       "      <th></th>\n",
       "      <th>BAD</th>\n",
       "      <th>LOAN</th>\n",
       "      <th>MORTDUE</th>\n",
       "      <th>VALUE</th>\n",
       "      <th>REASON</th>\n",
       "      <th>JOB</th>\n",
       "      <th>YOJ</th>\n",
       "      <th>DEROG</th>\n",
       "      <th>DELINQ</th>\n",
       "      <th>CLAGE</th>\n",
       "      <th>NINQ</th>\n",
       "      <th>CLNO</th>\n",
       "      <th>DEBTINC</th>\n",
       "      <th>loan_to_value</th>\n",
       "      <th>loan_range</th>\n",
       "      <th>ltv_ratio</th>\n",
       "      <th>value_range</th>\n",
       "    </tr>\n",
       "  </thead>\n",
       "  <tbody>\n",
       "    <tr>\n",
       "      <th>0</th>\n",
       "      <td>1</td>\n",
       "      <td>1100</td>\n",
       "      <td>25860.000000</td>\n",
       "      <td>39025.000000</td>\n",
       "      <td>HomeImp</td>\n",
       "      <td>Other</td>\n",
       "      <td>10.5</td>\n",
       "      <td>0.0</td>\n",
       "      <td>0.0</td>\n",
       "      <td>94.366667</td>\n",
       "      <td>1.0</td>\n",
       "      <td>9.0</td>\n",
       "      <td>NaN</td>\n",
       "      <td>35.477273</td>\n",
       "      <td>0</td>\n",
       "      <td>0.662652</td>\n",
       "      <td>35000.0</td>\n",
       "    </tr>\n",
       "    <tr>\n",
       "      <th>1</th>\n",
       "      <td>1</td>\n",
       "      <td>1300</td>\n",
       "      <td>70053.000000</td>\n",
       "      <td>70053.000000</td>\n",
       "      <td>HomeImp</td>\n",
       "      <td>Other</td>\n",
       "      <td>7.0</td>\n",
       "      <td>0.0</td>\n",
       "      <td>2.0</td>\n",
       "      <td>121.833333</td>\n",
       "      <td>0.0</td>\n",
       "      <td>14.0</td>\n",
       "      <td>NaN</td>\n",
       "      <td>52.615385</td>\n",
       "      <td>0</td>\n",
       "      <td>1.000000</td>\n",
       "      <td>70000.0</td>\n",
       "    </tr>\n",
       "    <tr>\n",
       "      <th>2</th>\n",
       "      <td>1</td>\n",
       "      <td>1500</td>\n",
       "      <td>13500.000000</td>\n",
       "      <td>16700.000000</td>\n",
       "      <td>HomeImp</td>\n",
       "      <td>Other</td>\n",
       "      <td>4.0</td>\n",
       "      <td>0.0</td>\n",
       "      <td>0.0</td>\n",
       "      <td>149.466667</td>\n",
       "      <td>1.0</td>\n",
       "      <td>10.0</td>\n",
       "      <td>NaN</td>\n",
       "      <td>11.133333</td>\n",
       "      <td>0</td>\n",
       "      <td>0.808383</td>\n",
       "      <td>15000.0</td>\n",
       "    </tr>\n",
       "    <tr>\n",
       "      <th>3</th>\n",
       "      <td>1</td>\n",
       "      <td>1500</td>\n",
       "      <td>6318.062504</td>\n",
       "      <td>8796.270053</td>\n",
       "      <td>NaN</td>\n",
       "      <td>NaN</td>\n",
       "      <td>NaN</td>\n",
       "      <td>NaN</td>\n",
       "      <td>NaN</td>\n",
       "      <td>NaN</td>\n",
       "      <td>NaN</td>\n",
       "      <td>NaN</td>\n",
       "      <td>NaN</td>\n",
       "      <td>NaN</td>\n",
       "      <td>0</td>\n",
       "      <td>NaN</td>\n",
       "      <td>5000.0</td>\n",
       "    </tr>\n",
       "    <tr>\n",
       "      <th>4</th>\n",
       "      <td>0</td>\n",
       "      <td>1700</td>\n",
       "      <td>97800.000000</td>\n",
       "      <td>112000.000000</td>\n",
       "      <td>HomeImp</td>\n",
       "      <td>Office</td>\n",
       "      <td>3.0</td>\n",
       "      <td>0.0</td>\n",
       "      <td>0.0</td>\n",
       "      <td>93.333333</td>\n",
       "      <td>0.0</td>\n",
       "      <td>14.0</td>\n",
       "      <td>NaN</td>\n",
       "      <td>65.882353</td>\n",
       "      <td>0</td>\n",
       "      <td>0.873214</td>\n",
       "      <td>110000.0</td>\n",
       "    </tr>\n",
       "  </tbody>\n",
       "</table>\n",
       "</div>"
      ],
      "text/plain": [
       "   BAD  LOAN       MORTDUE          VALUE   REASON     JOB   YOJ  DEROG  \\\n",
       "0    1  1100  25860.000000   39025.000000  HomeImp   Other  10.5    0.0   \n",
       "1    1  1300  70053.000000   70053.000000  HomeImp   Other   7.0    0.0   \n",
       "2    1  1500  13500.000000   16700.000000  HomeImp   Other   4.0    0.0   \n",
       "3    1  1500   6318.062504    8796.270053      NaN     NaN   NaN    NaN   \n",
       "4    0  1700  97800.000000  112000.000000  HomeImp  Office   3.0    0.0   \n",
       "\n",
       "   DELINQ       CLAGE  NINQ  CLNO  DEBTINC  loan_to_value  loan_range  \\\n",
       "0     0.0   94.366667   1.0   9.0      NaN      35.477273           0   \n",
       "1     2.0  121.833333   0.0  14.0      NaN      52.615385           0   \n",
       "2     0.0  149.466667   1.0  10.0      NaN      11.133333           0   \n",
       "3     NaN         NaN   NaN   NaN      NaN            NaN           0   \n",
       "4     0.0   93.333333   0.0  14.0      NaN      65.882353           0   \n",
       "\n",
       "   ltv_ratio  value_range  \n",
       "0   0.662652      35000.0  \n",
       "1   1.000000      70000.0  \n",
       "2   0.808383      15000.0  \n",
       "3        NaN       5000.0  \n",
       "4   0.873214     110000.0  "
      ]
     },
     "execution_count": 10,
     "metadata": {},
     "output_type": "execute_result"
    }
   ],
   "source": [
    "df_cleaned.head()"
   ]
  },
  {
   "cell_type": "code",
   "execution_count": 11,
   "metadata": {},
   "outputs": [],
   "source": [
    "def round_uncommon_loan(value):\n",
    "    if value % 100 != 0:  # Si ce n'est pas un multiple de 100, on arrondit\n",
    "        return round(value, -2)  # Arrondi à la centaine la plus proche\n",
    "    return value  # Sinon, on garde la valeur originale\n",
    "\n",
    "df_cleaned['LOAN'] = df_cleaned['LOAN'].apply(round_uncommon_loan)\n"
   ]
  },
  {
   "cell_type": "code",
   "execution_count": 12,
   "metadata": {},
   "outputs": [],
   "source": [
    "df_cleaned['LOAN_VALID'] = df_cleaned['LOAN'] <= df_cleaned['VALUE']\n"
   ]
  },
  {
   "cell_type": "code",
   "execution_count": 13,
   "metadata": {},
   "outputs": [
    {
     "name": "stdout",
     "output_type": "stream",
     "text": [
      "      BAD   LOAN  MORTDUE    VALUE   REASON    JOB   YOJ  DEROG  DELINQ  \\\n",
      "5777    1  46300  39800.0  41600.0  DebtCon  Other   NaN    0.0     0.0   \n",
      "5948    0  86000  47355.0  85000.0  DebtCon  Other  15.0    0.0     0.0   \n",
      "5950    0  87500  55938.0  86794.0  DebtCon  Other  15.0    0.0     0.0   \n",
      "5959    0  89900  48811.0  88934.0  DebtCon  Other  15.0    0.0     0.0   \n",
      "\n",
      "           CLAGE  NINQ  CLNO    DEBTINC  loan_to_value  loan_range  ltv_ratio  \\\n",
      "5777  111.600000   1.0   3.0        NaN       0.898488       45000   0.956731   \n",
      "5948  210.966667   0.0  16.0        NaN       0.988372       85000   0.557118   \n",
      "5950  223.881040   0.0  16.0  36.753653       0.991931       85000   0.644492   \n",
      "5959  219.601002   0.0  16.0  34.571519       0.989255       85000   0.548845   \n",
      "\n",
      "      value_range  LOAN_VALID  \n",
      "5777      40000.0       False  \n",
      "5948      85000.0       False  \n",
      "5950      85000.0       False  \n",
      "5959      85000.0       False  \n"
     ]
    }
   ],
   "source": [
    "# afficher les loans invalides\n",
    "invalid_loans = df_cleaned[~df_cleaned['LOAN_VALID']]\n",
    "print(invalid_loans)\n",
    "# Supprimer les prêts invalides\n",
    "df_cleaned = df_cleaned[df_cleaned['LOAN_VALID']]\n"
   ]
  },
  {
   "cell_type": "code",
   "execution_count": 14,
   "metadata": {},
   "outputs": [
    {
     "name": "stdout",
     "output_type": "stream",
     "text": [
      "Empty DataFrame\n",
      "Columns: [BAD, LOAN, MORTDUE, VALUE, REASON, JOB, YOJ, DEROG, DELINQ, CLAGE, NINQ, CLNO, DEBTINC, loan_to_value, loan_range, ltv_ratio, value_range, LOAN_VALID]\n",
      "Index: []\n"
     ]
    }
   ],
   "source": [
    "invalid_loans = df_cleaned[~df_cleaned['LOAN_VALID']]\n",
    "print(invalid_loans)"
   ]
  },
  {
   "cell_type": "code",
   "execution_count": 15,
   "metadata": {},
   "outputs": [],
   "source": [
    "# Convertir en entier puis en float pour garantir l'affichage avec .0 sans décimales inutiles\n",
    "df_cleaned['VALUE'] = df_cleaned['VALUE'].astype(int).astype(float)\n",
    "df_cleaned['MORTDUE'] = df_cleaned['MORTDUE'].astype(int).astype(float)\n"
   ]
  },
  {
   "cell_type": "code",
   "execution_count": 16,
   "metadata": {},
   "outputs": [
    {
     "name": "stdout",
     "output_type": "stream",
     "text": [
      "Traitement des valeurs manquantes pour 'DEBTINC'.\n"
     ]
    }
   ],
   "source": [
    "# Gestion des valeurs manquantes pour 'DEBTINC' (ratio de la dette sur le revenu) - Numérique\n",
    "print(\"Traitement des valeurs manquantes pour 'DEBTINC'.\")\n",
    "if df_cleaned['DEBTINC'].isnull().sum() > 0:  # Vérifier s'il y a des valeurs manquantes dans la colonne 'DEBTINC'\n",
    "    \n",
    "    model_debtinc = LinearRegression()  # Initialiser le modèle de régression linéaire\n",
    "    df_debtinc_missing = df_cleaned[df_cleaned['DEBTINC'].isnull()]  # Extraire les lignes avec des valeurs manquantes dans 'DEBTINC'\n",
    "    df_debtinc_notnull = df_cleaned[df_cleaned['DEBTINC'].notnull()]  # Extraire les lignes avec des valeurs non manquantes dans 'DEBTINC'\n",
    "    \n",
    "    # Entraîner le modèle sur les données disponibles (en utilisant 'LOAN' et 'MORTDUE' comme variables prédictives)\n",
    "    model_debtinc.fit(df_debtinc_notnull[['LOAN', 'MORTDUE']], df_debtinc_notnull['DEBTINC'])\n",
    "    \n",
    "    # Prédire les valeurs manquantes de 'DEBTINC' et mettre à jour uniquement les valeurs manquantes\n",
    "    df_cleaned.loc[df_cleaned['DEBTINC'].isnull(), 'DEBTINC'] = model_debtinc.predict(df_debtinc_missing[['LOAN', 'MORTDUE']])\n"
   ]
  },
  {
   "cell_type": "code",
   "execution_count": 17,
   "metadata": {},
   "outputs": [
    {
     "data": {
      "text/plain": [
       "BAD                0\n",
       "LOAN               0\n",
       "MORTDUE            0\n",
       "VALUE              0\n",
       "REASON           252\n",
       "JOB              279\n",
       "YOJ              514\n",
       "DEROG            708\n",
       "DELINQ           580\n",
       "CLAGE            308\n",
       "NINQ             510\n",
       "CLNO             222\n",
       "DEBTINC            0\n",
       "loan_to_value    112\n",
       "loan_range         0\n",
       "ltv_ratio        518\n",
       "value_range        0\n",
       "LOAN_VALID         0\n",
       "dtype: int64"
      ]
     },
     "execution_count": 17,
     "metadata": {},
     "output_type": "execute_result"
    }
   ],
   "source": [
    "#Vérifiez les valeurs NaN\n",
    "df_cleaned.isna().sum()"
   ]
  },
  {
   "cell_type": "code",
   "execution_count": 18,
   "metadata": {},
   "outputs": [
    {
     "name": "stdout",
     "output_type": "stream",
     "text": [
      "Traitement des valeurs manquantes pour 'REASON'.\n"
     ]
    }
   ],
   "source": [
    "from sklearn.tree import DecisionTreeClassifier\n",
    "\n",
    "# Gestion des valeurs manquantes pour 'REASON' (Variable catégorielle)\n",
    "print(\"Traitement des valeurs manquantes pour 'REASON'.\")\n",
    "if df_cleaned['REASON'].isnull().sum() > 0:  # Vérifier s'il y a des valeurs manquantes dans la colonne 'REASON'\n",
    "    \n",
    "    model_reason = DecisionTreeClassifier()  # Initialiser le modèle de classification par arbre de décision\n",
    "    df_reason_missing = df_cleaned[df_cleaned['REASON'].isnull()]  # Extraire les lignes avec des valeurs manquantes dans 'REASON'\n",
    "    df_reason_notnull = df_cleaned[df_cleaned['REASON'].notnull()]  # Extraire les lignes avec des valeurs non manquantes dans 'REASON'\n",
    "    \n",
    "    # Entraîner le modèle sur les données disponibles (en utilisant 'LOAN', 'MORTDUE' et 'DEBTINC' comme variables explicatives)\n",
    "    model_reason.fit(df_reason_notnull[['LOAN', 'MORTDUE', 'DEBTINC']], df_reason_notnull['REASON'])\n",
    "    \n",
    "    # Prédire les valeurs manquantes de 'REASON' et mettre à jour uniquement les valeurs manquantes\n",
    "    df_cleaned.loc[df_cleaned['REASON'].isnull(), 'REASON'] = model_reason.predict(df_reason_missing[['LOAN', 'MORTDUE', 'DEBTINC']])\n"
   ]
  },
  {
   "cell_type": "code",
   "execution_count": 19,
   "metadata": {},
   "outputs": [
    {
     "data": {
      "text/plain": [
       "BAD                0\n",
       "LOAN               0\n",
       "MORTDUE            0\n",
       "VALUE              0\n",
       "REASON             0\n",
       "JOB              279\n",
       "YOJ              514\n",
       "DEROG            708\n",
       "DELINQ           580\n",
       "CLAGE            308\n",
       "NINQ             510\n",
       "CLNO             222\n",
       "DEBTINC            0\n",
       "loan_to_value    112\n",
       "loan_range         0\n",
       "ltv_ratio        518\n",
       "value_range        0\n",
       "LOAN_VALID         0\n",
       "dtype: int64"
      ]
     },
     "execution_count": 19,
     "metadata": {},
     "output_type": "execute_result"
    }
   ],
   "source": [
    "# Vérifiez les valeurs NaN\n",
    "df_cleaned.isna().sum()"
   ]
  },
  {
   "cell_type": "code",
   "execution_count": 20,
   "metadata": {},
   "outputs": [
    {
     "name": "stdout",
     "output_type": "stream",
     "text": [
      "Traitement des valeurs manquantes pour 'JOB'.\n",
      "Valeurs manquantes de 'JOB' remplies avec succès.\n"
     ]
    }
   ],
   "source": [
    "from sklearn.tree import DecisionTreeClassifier\n",
    "\n",
    "print(\"Traitement des valeurs manquantes pour 'JOB'.\")\n",
    "\n",
    "if df_cleaned['JOB'].isnull().sum() > 0:  # Vérifier s'il y a des valeurs manquantes dans la colonne 'JOB'\n",
    "\n",
    "    # Diviser les données en cas connus (non-nuls) et inconnus (nuls) pour 'JOB'\n",
    "    df_job_known = df_cleaned[df_cleaned['JOB'].notnull()]  # Lignes où 'JOB' est non nul\n",
    "    df_job_missing = df_cleaned[df_cleaned['JOB'].isnull()]  # Lignes où 'JOB' est nul\n",
    "\n",
    "    # Encoder la variable 'JOB' en nombres catégoriques\n",
    "    job_mapping = {job: idx for idx, job in enumerate(df_job_known['JOB'].unique())}  # Dictionnaire de mappage des métiers en indices\n",
    "    df_job_known['JOB_encoded'] = df_job_known['JOB'].map(job_mapping)  # Appliquer l'encodage des métiers\n",
    "\n",
    "    # Entraîner le modèle de classification par arbre de décision\n",
    "    model_job = DecisionTreeClassifier(max_depth=5, random_state=42)  # Initialisation du modèle avec une profondeur maximale\n",
    "    model_job.fit(df_job_known[['LOAN', 'MORTDUE', 'DEBTINC']], df_job_known['JOB_encoded'])  # Entraîner le modèle sur les données disponibles\n",
    "\n",
    "    # Prédire les valeurs manquantes de 'JOB'\n",
    "    job_predictions = model_job.predict(df_job_missing[['LOAN', 'MORTDUE', 'DEBTINC']])  # Prédiction des valeurs manquantes\n",
    "\n",
    "    # Convertir les prédictions encodées en noms de catégories\n",
    "    reverse_job_mapping = {v: k for k, v in job_mapping.items()}  # Inverser le dictionnaire de mappage\n",
    "    df_cleaned.loc[df_cleaned['JOB'].isnull(), 'JOB'] = [reverse_job_mapping[pred] for pred in job_predictions]  # Mettre à jour les valeurs manquantes dans le dataframe\n",
    "\n",
    "    print(\"Valeurs manquantes de 'JOB' remplies avec succès.\")\n"
   ]
  },
  {
   "cell_type": "code",
   "execution_count": 21,
   "metadata": {},
   "outputs": [
    {
     "data": {
      "text/plain": [
       "BAD                0\n",
       "LOAN               0\n",
       "MORTDUE            0\n",
       "VALUE              0\n",
       "REASON             0\n",
       "JOB                0\n",
       "YOJ              514\n",
       "DEROG            708\n",
       "DELINQ           580\n",
       "CLAGE            308\n",
       "NINQ             510\n",
       "CLNO             222\n",
       "DEBTINC            0\n",
       "loan_to_value    112\n",
       "loan_range         0\n",
       "ltv_ratio        518\n",
       "value_range        0\n",
       "LOAN_VALID         0\n",
       "dtype: int64"
      ]
     },
     "execution_count": 21,
     "metadata": {},
     "output_type": "execute_result"
    }
   ],
   "source": [
    "# Vérifiez les valeurs NaN\n",
    "df_cleaned.isna().sum()"
   ]
  },
  {
   "cell_type": "code",
   "execution_count": 22,
   "metadata": {},
   "outputs": [],
   "source": [
    "from sklearn.ensemble import RandomForestRegressor, RandomForestClassifier\n",
    "from sklearn.impute import KNNImputer\n",
    "import numpy as np"
   ]
  },
  {
   "cell_type": "code",
   "execution_count": 23,
   "metadata": {},
   "outputs": [
    {
     "name": "stdout",
     "output_type": "stream",
     "text": [
      "Valeurs manquantes de CLAGE remplies. Reste : 0\n"
     ]
    }
   ],
   "source": [
    "### 1️ Traitement des valeurs manquantes de CLAGE (Approximation de l'historique de crédit) ###\n",
    "\n",
    "if df_cleaned['CLAGE'].isnull().sum() > 0:  # Vérifier si la colonne 'CLAGE' contient des valeurs manquantes\n",
    "    # Diviser les données en cas connus (avec valeurs pour CLAGE) et cas inconnus (valeurs manquantes pour CLAGE)\n",
    "    df_clage_known = df_cleaned[df_cleaned['CLAGE'].notnull()]  # Lignes avec des valeurs non manquantes de CLAGE\n",
    "    df_clage_missing = df_cleaned[df_cleaned['CLAGE'].isnull()]  # Lignes avec des valeurs manquantes de CLAGE\n",
    "\n",
    "    # Initialiser un modèle de régression Random Forest pour prédire les valeurs manquantes\n",
    "    model_clage = RandomForestRegressor(n_estimators=100, random_state=42)  # 100 arbres dans la forêt aléatoire\n",
    "    model_clage.fit(df_clage_known[['LOAN', 'MORTDUE']], df_clage_known['CLAGE'])  # Entraîner le modèle sur les données disponibles\n",
    "\n",
    "    # Utiliser le modèle pour prédire les valeurs manquantes de 'CLAGE' et les mettre à jour dans le dataframe\n",
    "    df_cleaned.loc[df_cleaned['CLAGE'].isnull(), 'CLAGE'] = model_clage.predict(df_clage_missing[['LOAN', 'MORTDUE']])\n",
    "\n",
    "# Afficher le nombre de valeurs manquantes restantes dans 'CLAGE'\n",
    "print(f\"Valeurs manquantes de CLAGE remplies. Reste : {df_cleaned['CLAGE'].isnull().sum()}\")\n"
   ]
  },
  {
   "cell_type": "code",
   "execution_count": 24,
   "metadata": {},
   "outputs": [
    {
     "data": {
      "text/plain": [
       "BAD                0\n",
       "LOAN               0\n",
       "MORTDUE            0\n",
       "VALUE              0\n",
       "REASON             0\n",
       "JOB                0\n",
       "YOJ              514\n",
       "DEROG            708\n",
       "DELINQ           580\n",
       "CLAGE              0\n",
       "NINQ             510\n",
       "CLNO             222\n",
       "DEBTINC            0\n",
       "loan_to_value    112\n",
       "loan_range         0\n",
       "ltv_ratio        518\n",
       "value_range        0\n",
       "LOAN_VALID         0\n",
       "dtype: int64"
      ]
     },
     "execution_count": 24,
     "metadata": {},
     "output_type": "execute_result"
    }
   ],
   "source": [
    "# Vérifiez les valeurs NaN\n",
    "df_cleaned.isna().sum()"
   ]
  },
  {
   "cell_type": "code",
   "execution_count": 25,
   "metadata": {},
   "outputs": [
    {
     "name": "stdout",
     "output_type": "stream",
     "text": [
      "Valeurs manquantes de CLNO remplies. Reste : 0\n"
     ]
    }
   ],
   "source": [
    "### 2️ Traitement des valeurs manquantes de CLNO (Nombre de lignes de crédit) ###\n",
    "if df_cleaned['CLNO'].isnull().sum() > 0:\n",
    "    df_clno_known = df_cleaned[df_cleaned['CLNO'].notnull()]\n",
    "    df_clno_missing = df_cleaned[df_cleaned['CLNO'].isnull()]\n",
    "\n",
    "    model_clno = RandomForestRegressor(n_estimators=100, random_state=42)\n",
    "    model_clno.fit(df_clno_known[['CLAGE', 'LOAN']], df_clno_known['CLNO'])\n",
    "\n",
    "    df_cleaned.loc[df_cleaned['CLNO'].isnull(), 'CLNO'] = model_clno.predict(df_clno_missing[['CLAGE', 'LOAN']])\n",
    "\n",
    "# Vérifier et traiter les valeurs manquantes pour 'CLNO'\n",
    "print(f\"Valeurs manquantes de CLNO remplies. Reste : {df_cleaned['CLNO'].isnull().sum()}\")\n"
   ]
  },
  {
   "cell_type": "code",
   "execution_count": 26,
   "metadata": {},
   "outputs": [
    {
     "data": {
      "text/plain": [
       "BAD                0\n",
       "LOAN               0\n",
       "MORTDUE            0\n",
       "VALUE              0\n",
       "REASON             0\n",
       "JOB                0\n",
       "YOJ              514\n",
       "DEROG            708\n",
       "DELINQ           580\n",
       "CLAGE              0\n",
       "NINQ             510\n",
       "CLNO               0\n",
       "DEBTINC            0\n",
       "loan_to_value    112\n",
       "loan_range         0\n",
       "ltv_ratio        518\n",
       "value_range        0\n",
       "LOAN_VALID         0\n",
       "dtype: int64"
      ]
     },
     "execution_count": 26,
     "metadata": {},
     "output_type": "execute_result"
    }
   ],
   "source": [
    "# Vérifiez les valeurs NaN\n",
    "df_cleaned.isna().sum()"
   ]
  },
  {
   "cell_type": "code",
   "execution_count": 27,
   "metadata": {},
   "outputs": [
    {
     "name": "stdout",
     "output_type": "stream",
     "text": [
      "Valeurs manquantes de YOJ remplies. Reste : 0\n"
     ]
    }
   ],
   "source": [
    "### 3️ Traitement des valeurs manquantes de YOJ (Expérience professionnelle) ###\n",
    "if df_cleaned['YOJ'].isnull().sum() > 0:\n",
    "    df_yoj_known = df_cleaned[df_cleaned['YOJ'].notnull()]\n",
    "    df_yoj_missing = df_cleaned[df_cleaned['YOJ'].isnull()]\n",
    "\n",
    "    model_yoj = RandomForestRegressor(n_estimators=100, random_state=42)\n",
    "    model_yoj.fit(df_yoj_known[['CLAGE']], df_yoj_known['YOJ'])\n",
    "\n",
    "    df_cleaned.loc[df_cleaned['YOJ'].isnull(), 'YOJ'] = model_yoj.predict(df_yoj_missing[['CLAGE']])\n",
    "    df_cleaned['YOJ'] = df_cleaned['YOJ'].apply(lambda x: max(0, x))\n",
    "\n",
    "# Vérifier et traiter les valeurs manquantes pour 'YOJ'\n",
    "print(f\"Valeurs manquantes de YOJ remplies. Reste : {df_cleaned['YOJ'].isnull().sum()}\")\n"
   ]
  },
  {
   "cell_type": "code",
   "execution_count": 28,
   "metadata": {},
   "outputs": [
    {
     "data": {
      "text/plain": [
       "BAD                0\n",
       "LOAN               0\n",
       "MORTDUE            0\n",
       "VALUE              0\n",
       "REASON             0\n",
       "JOB                0\n",
       "YOJ                0\n",
       "DEROG            708\n",
       "DELINQ           580\n",
       "CLAGE              0\n",
       "NINQ             510\n",
       "CLNO               0\n",
       "DEBTINC            0\n",
       "loan_to_value    112\n",
       "loan_range         0\n",
       "ltv_ratio        518\n",
       "value_range        0\n",
       "LOAN_VALID         0\n",
       "dtype: int64"
      ]
     },
     "execution_count": 28,
     "metadata": {},
     "output_type": "execute_result"
    }
   ],
   "source": [
    "# Vérifiez les valeurs NaN\n",
    "df_cleaned.isna().sum()"
   ]
  },
  {
   "cell_type": "code",
   "execution_count": 29,
   "metadata": {},
   "outputs": [
    {
     "name": "stdout",
     "output_type": "stream",
     "text": [
      "Valeurs manquantes de NINQ remplies. Reste : 0\n"
     ]
    }
   ],
   "source": [
    "### 4️ Traitement des valeurs manquantes de NINQ (Demandes de crédit) ###\n",
    "if df_cleaned['NINQ'].isnull().sum() > 0:\n",
    "    knn_imputer = KNNImputer(n_neighbors=5)\n",
    "    df_cleaned[['NINQ']] = knn_imputer.fit_transform(df_cleaned[['NINQ']])\n",
    "\n",
    "# Vérifier et traiter les valeurs manquantes pour 'NINQ'\n",
    "print(f\"Valeurs manquantes de NINQ remplies. Reste : {df_cleaned['NINQ'].isnull().sum()}\")\n"
   ]
  },
  {
   "cell_type": "code",
   "execution_count": 30,
   "metadata": {},
   "outputs": [
    {
     "data": {
      "text/plain": [
       "BAD                0\n",
       "LOAN               0\n",
       "MORTDUE            0\n",
       "VALUE              0\n",
       "REASON             0\n",
       "JOB                0\n",
       "YOJ                0\n",
       "DEROG            708\n",
       "DELINQ           580\n",
       "CLAGE              0\n",
       "NINQ               0\n",
       "CLNO               0\n",
       "DEBTINC            0\n",
       "loan_to_value    112\n",
       "loan_range         0\n",
       "ltv_ratio        518\n",
       "value_range        0\n",
       "LOAN_VALID         0\n",
       "dtype: int64"
      ]
     },
     "execution_count": 30,
     "metadata": {},
     "output_type": "execute_result"
    }
   ],
   "source": [
    "# Vérifiez les valeurs NaN\n",
    "df_cleaned.isna().sum()"
   ]
  },
  {
   "cell_type": "code",
   "execution_count": 31,
   "metadata": {},
   "outputs": [
    {
     "name": "stdout",
     "output_type": "stream",
     "text": [
      "Valeurs manquantes de DELINQ & DEROG remplies. Reste : DELINQ    0\n",
      "DEROG     0\n",
      "dtype: int64\n"
     ]
    }
   ],
   "source": [
    "### 5️ Traitement des valeurs manquantes de DELINQ & DEROG (Indicateurs de risque de crédit) ###\n",
    "for col in ['DELINQ', 'DEROG']:\n",
    "    if df_cleaned[col].isnull().sum() > 0:\n",
    "        df_col_known = df_cleaned[df_cleaned[col].notnull()]\n",
    "        df_col_missing = df_cleaned[df_cleaned[col].isnull()]\n",
    "\n",
    "        model_col = RandomForestClassifier(n_estimators=100, random_state=42)\n",
    "        model_col.fit(df_col_known[['CLAGE', 'CLNO', 'NINQ']], df_col_known[col])\n",
    "\n",
    "        df_cleaned.loc[df_cleaned[col].isnull(), col] = model_col.predict(df_col_missing[['CLAGE', 'CLNO', 'NINQ']])\n",
    "\n",
    "# Vérifier et traiter les valeurs manquantes pour 'DELINQ' et 'DEROG'\n",
    "print(f\"Valeurs manquantes de DELINQ & DEROG remplies. Reste : {df_cleaned[['DELINQ', 'DEROG']].isnull().sum()}\")"
   ]
  },
  {
   "cell_type": "code",
   "execution_count": 32,
   "metadata": {},
   "outputs": [
    {
     "data": {
      "text/plain": [
       "BAD                0\n",
       "LOAN               0\n",
       "MORTDUE            0\n",
       "VALUE              0\n",
       "REASON             0\n",
       "JOB                0\n",
       "YOJ                0\n",
       "DEROG              0\n",
       "DELINQ             0\n",
       "CLAGE              0\n",
       "NINQ               0\n",
       "CLNO               0\n",
       "DEBTINC            0\n",
       "loan_to_value    112\n",
       "loan_range         0\n",
       "ltv_ratio        518\n",
       "value_range        0\n",
       "LOAN_VALID         0\n",
       "dtype: int64"
      ]
     },
     "execution_count": 32,
     "metadata": {},
     "output_type": "execute_result"
    }
   ],
   "source": [
    "# Vérifiez les valeurs NaN\n",
    "df_cleaned.isna().sum()"
   ]
  },
  {
   "cell_type": "code",
   "execution_count": 33,
   "metadata": {},
   "outputs": [
    {
     "name": "stdout",
     "output_type": "stream",
     "text": [
      "Colonnes restantes: Index(['BAD', 'LOAN', 'MORTDUE', 'VALUE', 'REASON', 'JOB', 'YOJ', 'DEROG',\n",
      "       'DELINQ', 'CLAGE', 'NINQ', 'CLNO', 'DEBTINC'],\n",
      "      dtype='object')\n"
     ]
    }
   ],
   "source": [
    "df_cleaned.drop(columns=['loan_to_value', 'ltv_ratio','loan_range','value_range','LOAN_VALID' ], inplace=True)\n",
    "\n",
    "print(\"Colonnes restantes:\", df_cleaned.columns)\n"
   ]
  },
  {
   "cell_type": "code",
   "execution_count": 34,
   "metadata": {},
   "outputs": [
    {
     "data": {
      "text/plain": [
       "BAD        0\n",
       "LOAN       0\n",
       "MORTDUE    0\n",
       "VALUE      0\n",
       "REASON     0\n",
       "JOB        0\n",
       "YOJ        0\n",
       "DEROG      0\n",
       "DELINQ     0\n",
       "CLAGE      0\n",
       "NINQ       0\n",
       "CLNO       0\n",
       "DEBTINC    0\n",
       "dtype: int64"
      ]
     },
     "execution_count": 34,
     "metadata": {},
     "output_type": "execute_result"
    }
   ],
   "source": [
    "# Vérifiez les valeurs NaN\n",
    "df_cleaned.isna().sum()"
   ]
  },
  {
   "cell_type": "code",
   "execution_count": 35,
   "metadata": {},
   "outputs": [
    {
     "data": {
      "image/png": "[encoded data removed]",
      "text/plain": [
       "<Figure size 1800x500 with 3 Axes>"
      ]
     },
     "metadata": {},
     "output_type": "display_data"
    },
    {
     "data": {
      "text/plain": [
       "{'MORTDUE': (      BAD   LOAN   MORTDUE     VALUE   REASON      JOB     YOJ  DEROG  DELINQ  \\\n",
       "  140     0   4900  170986.0  245300.0  DebtCon    Sales   6.403    0.0     0.0   \n",
       "  194     0   5100  179725.0  251962.0  DebtCon    Sales  10.220    0.0     0.0   \n",
       "  291     0   5800  172595.0  250155.0  DebtCon    Sales   1.670    0.0     0.0   \n",
       "  326     1   6000  179397.0  200000.0  DebtCon  ProfExe   5.000    6.0     0.0   \n",
       "  345     0   6200  171582.0  245730.0  DebtCon    Sales   2.020    0.0     0.0   \n",
       "  ...   ...    ...       ...       ...      ...      ...     ...    ...     ...   \n",
       "  5925    0  69700  191972.0  294367.0  DebtCon     Self  10.000    0.0     0.0   \n",
       "  5926    0  70300  197761.0  294169.0  DebtCon     Self   9.000    0.0     0.0   \n",
       "  5927    0  70500  196690.0  288512.0  DebtCon     Self   9.000    0.0     0.0   \n",
       "  5928    0  70800  192044.0  292380.0  DebtCon     Self  10.000    0.0     0.0   \n",
       "  5929    0  71200  196601.0  289430.0  DebtCon     Self  12.000    0.0     0.0   \n",
       "  \n",
       "             CLAGE  NINQ  CLNO    DEBTINC  \n",
       "  140   131.933333   0.0  22.0  36.232317  \n",
       "  194   127.498813   0.0  22.0  40.308259  \n",
       "  291   126.400984   0.0  21.0  43.207760  \n",
       "  326    90.300000   6.0  29.0  36.535639  \n",
       "  345   135.108930   0.0  22.0  39.783818  \n",
       "  ...          ...   ...   ...        ...  \n",
       "  5925  230.705613   2.0  25.0  28.201871  \n",
       "  5926  212.239725   2.0  24.0  28.907073  \n",
       "  5927  227.027136   2.0  24.0  29.582301  \n",
       "  5928  221.608486   2.0  25.0  30.378548  \n",
       "  5929  226.914307   2.0  25.0  29.220351  \n",
       "  \n",
       "  [242 rows x 13 columns],\n",
       "  -23843.5,\n",
       "  156746.5),\n",
       " 'VALUE': (      BAD   LOAN   MORTDUE     VALUE   REASON      JOB     YOJ  DEROG  DELINQ  \\\n",
       "  140     0   4900  170986.0  245300.0  DebtCon    Sales   6.403    0.0     0.0   \n",
       "  194     0   5100  179725.0  251962.0  DebtCon    Sales  10.220    0.0     0.0   \n",
       "  291     0   5800  172595.0  250155.0  DebtCon    Sales   1.670    0.0     0.0   \n",
       "  345     0   6200  171582.0  245730.0  DebtCon    Sales   2.020    0.0     0.0   \n",
       "  414     1   6500  183860.0  208910.0  DebtCon  ProfExe   4.000    6.0     0.0   \n",
       "  ...   ...    ...       ...       ...      ...      ...     ...    ...     ...   \n",
       "  5927    0  70500  196690.0  288512.0  DebtCon     Self   9.000    0.0     0.0   \n",
       "  5928    0  70800  192044.0  292380.0  DebtCon     Self  10.000    0.0     0.0   \n",
       "  5929    0  71200  196601.0  289430.0  DebtCon     Self  12.000    0.0     0.0   \n",
       "  5933    1  77200   83962.0  215000.0  HomeImp     Self   8.000    1.0     2.0   \n",
       "  5934    1  77400   87651.0  224630.0  HomeImp     Self   9.000    0.0     2.0   \n",
       "  \n",
       "             CLAGE  NINQ  CLNO    DEBTINC  \n",
       "  140   131.933333   0.0  22.0  36.232317  \n",
       "  194   127.498813   0.0  22.0  40.308259  \n",
       "  291   126.400984   0.0  21.0  43.207760  \n",
       "  345   135.108930   0.0  22.0  39.783818  \n",
       "  414    86.452227   6.0  29.0  69.800525  \n",
       "  ...          ...   ...   ...        ...  \n",
       "  5927  227.027136   2.0  24.0  29.582301  \n",
       "  5928  221.608486   2.0  25.0  30.378548  \n",
       "  5929  226.914307   2.0  25.0  29.220351  \n",
       "  5933   71.533132   3.0  14.0  36.429185  \n",
       "  5934   73.469630   3.0  13.0  40.929793  \n",
       "  \n",
       "  [320 rows x 13 columns],\n",
       "  -15997.625,\n",
       "  203823.375),\n",
       " 'CLAGE': (      BAD   LOAN   MORTDUE     VALUE   REASON      JOB   YOJ  DEROG  DELINQ  \\\n",
       "  202     0   5100   93000.0  116875.0  HomeImp    Other  10.0    0.0     1.0   \n",
       "  379     0   6400   99131.0  125652.0  HomeImp    Other   8.0    0.0     1.0   \n",
       "  411     1   6500   96314.0  105800.0  HomeImp  ProfExe  27.0    0.0     0.0   \n",
       "  423     0   6600   98415.0  126636.0  HomeImp    Other  11.0    0.0     1.0   \n",
       "  469     0   7000   98779.0  124827.0  HomeImp    Other   9.0    0.0     1.0   \n",
       "  ...   ...    ...       ...       ...      ...      ...   ...    ...     ...   \n",
       "  4977    0  26300   78851.0  109090.0  DebtCon   Office   8.0    0.0     0.0   \n",
       "  4990    0  26400  220432.0  283978.0  HomeImp  ProfExe   6.0    0.0     5.0   \n",
       "  5044    0  26800  213165.0  282068.0  HomeImp  ProfExe   5.0    0.0     4.0   \n",
       "  5060    0  26900  215692.0  286555.0  HomeImp  ProfExe   8.0    0.0     5.0   \n",
       "  5201    0  28100   86778.0  110851.0  DebtCon   Office   9.0    0.0     0.0   \n",
       "  \n",
       "             CLAGE      NINQ  CLNO    DEBTINC  \n",
       "  202   417.633333  2.000000  50.0  33.834411  \n",
       "  379   419.375154  1.000000  50.0  42.244928  \n",
       "  411   475.800000  2.000000  40.0  33.992446  \n",
       "  423   423.209624  2.000000  49.0  40.957090  \n",
       "  469   421.541928  1.000000  49.0  40.828873  \n",
       "  ...          ...       ...   ...        ...  \n",
       "  4977  405.430429  0.000000  44.0  42.341626  \n",
       "  4990  480.356014  1.186743  56.0  33.714239  \n",
       "  5044  476.728281  1.186743  55.0  31.181661  \n",
       "  5060  468.178122  1.186743  55.0  30.553005  \n",
       "  5201  398.402337  0.000000  44.0  41.040589  \n",
       "  \n",
       "  [61 rows x 13 columns],\n",
       "  -51.819377849999995,\n",
       "  397.97162671)}"
      ]
     },
     "execution_count": 35,
     "metadata": {},
     "output_type": "execute_result"
    }
   ],
   "source": [
    "import matplotlib.pyplot as plt\n",
    "import seaborn as sns\n",
    "import numpy as np\n",
    "\n",
    "# Définir le style de visualisation\n",
    "sns.set(style=\"whitegrid\")\n",
    "\n",
    "# Colonnes à analyser pour détecter les valeurs aberrantes\n",
    "outlier_cols = [\"MORTDUE\", \"VALUE\", \"CLAGE\"]\n",
    "\n",
    "# Tracer les boxplots pour visualiser les valeurs aberrantes\n",
    "fig, axes = plt.subplots(1, 3, figsize=(18, 5))  # Créer une figure avec 3 sous-graphiques\n",
    "\n",
    "# Boucle pour générer les boxplots pour chaque colonne\n",
    "for i, col in enumerate(outlier_cols):\n",
    "    sns.boxplot(y=df_cleaned[col], ax=axes[i])  # Créer un boxplot pour chaque colonne\n",
    "    axes[i].set_title(f\"Boxplot de {col}\")  # Ajouter un titre au boxplot\n",
    "\n",
    "plt.show()  # Afficher les graphiques\n",
    "\n",
    "# Fonction pour détecter les valeurs aberrantes en utilisant la méthode IQR\n",
    "def detect_outliers(df_cleaned, column):\n",
    "    Q1 = df_cleaned[column].quantile(0.25)  # Calcul du premier quartile (Q1)\n",
    "    Q3 = df_cleaned[column].quantile(0.75)  # Calcul du troisième quartile (Q3)\n",
    "    IQR = Q3 - Q1  # Calcul de l'intervalle interquartile (IQR)\n",
    "    lower_bound = Q1 - 1.5 * IQR  # Définir la limite inférieure pour les valeurs aberrantes\n",
    "    upper_bound = Q3 + 1.5 * IQR  # Définir la limite supérieure pour les valeurs aberrantes\n",
    "    # Identifier les lignes qui ont des valeurs en dehors des limites (valeurs aberrantes)\n",
    "    outliers = df_cleaned[(df_cleaned[column] < lower_bound) | (df_cleaned[column] > upper_bound)]\n",
    "    return outliers, lower_bound, upper_bound  # Retourner les valeurs aberrantes, la limite inférieure et supérieure\n",
    "\n",
    "# Détecter les valeurs aberrantes pour MORTDUE, VALUE, CLAGE\n",
    "outliers_dict = {}  # Créer un dictionnaire pour stocker les résultats\n",
    "for col in outlier_cols:\n",
    "    outliers_dict[col] = detect_outliers(df_cleaned, col)  # Appliquer la fonction de détection des valeurs aberrantes pour chaque colonne\n",
    "\n",
    "outliers_dict  # Afficher le dictionnaire contenant les résultats des valeurs aberrantes\n"
   ]
  },
  {
   "cell_type": "code",
   "execution_count": 36,
   "metadata": {},
   "outputs": [],
   "source": [
    "df_cleaned['LOAN_VALID'] = df_cleaned['LOAN'] <= df_cleaned['VALUE']"
   ]
  },
  {
   "cell_type": "code",
   "execution_count": 37,
   "metadata": {},
   "outputs": [],
   "source": [
    "df_cleaned['MORTDUE_VALID'] = df_cleaned['MORTDUE'] <= df_cleaned['VALUE']"
   ]
  },
  {
   "cell_type": "code",
   "execution_count": 38,
   "metadata": {},
   "outputs": [
    {
     "data": {
      "text/html": [
       "<div>\n",
       "<style scoped>\n",
       "    .dataframe tbody tr th:only-of-type {\n",
       "        vertical-align: middle;\n",
       "    }\n",
       "\n",
       "    .dataframe tbody tr th {\n",
       "        vertical-align: top;\n",
       "    }\n",
       "\n",
       "    .dataframe thead th {\n",
       "        text-align: right;\n",
       "    }\n",
       "</style>\n",
       "<table border=\"1\" class=\"dataframe\">\n",
       "  <thead>\n",
       "    <tr style=\"text-align: right;\">\n",
       "      <th></th>\n",
       "      <th>BAD</th>\n",
       "      <th>LOAN</th>\n",
       "      <th>MORTDUE</th>\n",
       "      <th>VALUE</th>\n",
       "      <th>REASON</th>\n",
       "      <th>JOB</th>\n",
       "      <th>YOJ</th>\n",
       "      <th>DEROG</th>\n",
       "      <th>DELINQ</th>\n",
       "      <th>CLAGE</th>\n",
       "      <th>NINQ</th>\n",
       "      <th>CLNO</th>\n",
       "      <th>DEBTINC</th>\n",
       "      <th>LOAN_VALID</th>\n",
       "      <th>MORTDUE_VALID</th>\n",
       "    </tr>\n",
       "  </thead>\n",
       "  <tbody>\n",
       "  </tbody>\n",
       "</table>\n",
       "</div>"
      ],
      "text/plain": [
       "Empty DataFrame\n",
       "Columns: [BAD, LOAN, MORTDUE, VALUE, REASON, JOB, YOJ, DEROG, DELINQ, CLAGE, NINQ, CLNO, DEBTINC, LOAN_VALID, MORTDUE_VALID]\n",
       "Index: []"
      ]
     },
     "execution_count": 38,
     "metadata": {},
     "output_type": "execute_result"
    }
   ],
   "source": [
    "# lignes où LOAN > VALUE\n",
    "df_cleaned[df_cleaned['LOAN_VALID'] == True]\n",
    "# lignes où MORTDUE > VALUE\n",
    "df_cleaned[df_cleaned['MORTDUE_VALID'] == False]"
   ]
  },
  {
   "cell_type": "code",
   "execution_count": 39,
   "metadata": {},
   "outputs": [],
   "source": [
    "df_cleaned.drop(columns=['MORTDUE_VALID','LOAN_VALID' ], inplace=True)"
   ]
  },
  {
   "cell_type": "code",
   "execution_count": 40,
   "metadata": {},
   "outputs": [
    {
     "data": {
      "text/html": [
       "<div>\n",
       "<style scoped>\n",
       "    .dataframe tbody tr th:only-of-type {\n",
       "        vertical-align: middle;\n",
       "    }\n",
       "\n",
       "    .dataframe tbody tr th {\n",
       "        vertical-align: top;\n",
       "    }\n",
       "\n",
       "    .dataframe thead th {\n",
       "        text-align: right;\n",
       "    }\n",
       "</style>\n",
       "<table border=\"1\" class=\"dataframe\">\n",
       "  <thead>\n",
       "    <tr style=\"text-align: right;\">\n",
       "      <th></th>\n",
       "      <th>BAD</th>\n",
       "      <th>LOAN</th>\n",
       "      <th>MORTDUE</th>\n",
       "      <th>VALUE</th>\n",
       "      <th>REASON</th>\n",
       "      <th>JOB</th>\n",
       "      <th>YOJ</th>\n",
       "      <th>DEROG</th>\n",
       "      <th>DELINQ</th>\n",
       "      <th>CLAGE</th>\n",
       "      <th>NINQ</th>\n",
       "      <th>CLNO</th>\n",
       "      <th>DEBTINC</th>\n",
       "    </tr>\n",
       "  </thead>\n",
       "  <tbody>\n",
       "    <tr>\n",
       "      <th>3910</th>\n",
       "      <td>1</td>\n",
       "      <td>20500</td>\n",
       "      <td>113963.0</td>\n",
       "      <td>131135.0</td>\n",
       "      <td>HomeImp</td>\n",
       "      <td>Self</td>\n",
       "      <td>3.0</td>\n",
       "      <td>1.0</td>\n",
       "      <td>0.0</td>\n",
       "      <td>243.680604</td>\n",
       "      <td>1.0</td>\n",
       "      <td>26.0</td>\n",
       "      <td>143.949605</td>\n",
       "    </tr>\n",
       "    <tr>\n",
       "      <th>4423</th>\n",
       "      <td>1</td>\n",
       "      <td>23000</td>\n",
       "      <td>58577.0</td>\n",
       "      <td>69327.0</td>\n",
       "      <td>HomeImp</td>\n",
       "      <td>Other</td>\n",
       "      <td>4.0</td>\n",
       "      <td>0.0</td>\n",
       "      <td>2.0</td>\n",
       "      <td>110.414480</td>\n",
       "      <td>2.0</td>\n",
       "      <td>33.0</td>\n",
       "      <td>133.528270</td>\n",
       "    </tr>\n",
       "    <tr>\n",
       "      <th>4473</th>\n",
       "      <td>1</td>\n",
       "      <td>23300</td>\n",
       "      <td>103783.0</td>\n",
       "      <td>132612.0</td>\n",
       "      <td>DebtCon</td>\n",
       "      <td>Sales</td>\n",
       "      <td>1.0</td>\n",
       "      <td>0.0</td>\n",
       "      <td>0.0</td>\n",
       "      <td>120.347967</td>\n",
       "      <td>0.0</td>\n",
       "      <td>19.0</td>\n",
       "      <td>203.312149</td>\n",
       "    </tr>\n",
       "    <tr>\n",
       "      <th>5599</th>\n",
       "      <td>1</td>\n",
       "      <td>37300</td>\n",
       "      <td>68789.0</td>\n",
       "      <td>86172.0</td>\n",
       "      <td>HomeImp</td>\n",
       "      <td>Self</td>\n",
       "      <td>2.0</td>\n",
       "      <td>0.0</td>\n",
       "      <td>6.0</td>\n",
       "      <td>235.637906</td>\n",
       "      <td>2.0</td>\n",
       "      <td>25.0</td>\n",
       "      <td>114.050528</td>\n",
       "    </tr>\n",
       "    <tr>\n",
       "      <th>5912</th>\n",
       "      <td>1</td>\n",
       "      <td>65500</td>\n",
       "      <td>205156.0</td>\n",
       "      <td>290239.0</td>\n",
       "      <td>DebtCon</td>\n",
       "      <td>ProfExe</td>\n",
       "      <td>2.0</td>\n",
       "      <td>0.0</td>\n",
       "      <td>0.0</td>\n",
       "      <td>98.808206</td>\n",
       "      <td>1.0</td>\n",
       "      <td>21.0</td>\n",
       "      <td>144.189001</td>\n",
       "    </tr>\n",
       "  </tbody>\n",
       "</table>\n",
       "</div>"
      ],
      "text/plain": [
       "      BAD   LOAN   MORTDUE     VALUE   REASON      JOB  YOJ  DEROG  DELINQ  \\\n",
       "3910    1  20500  113963.0  131135.0  HomeImp     Self  3.0    1.0     0.0   \n",
       "4423    1  23000   58577.0   69327.0  HomeImp    Other  4.0    0.0     2.0   \n",
       "4473    1  23300  103783.0  132612.0  DebtCon    Sales  1.0    0.0     0.0   \n",
       "5599    1  37300   68789.0   86172.0  HomeImp     Self  2.0    0.0     6.0   \n",
       "5912    1  65500  205156.0  290239.0  DebtCon  ProfExe  2.0    0.0     0.0   \n",
       "\n",
       "           CLAGE  NINQ  CLNO     DEBTINC  \n",
       "3910  243.680604   1.0  26.0  143.949605  \n",
       "4423  110.414480   2.0  33.0  133.528270  \n",
       "4473  120.347967   0.0  19.0  203.312149  \n",
       "5599  235.637906   2.0  25.0  114.050528  \n",
       "5912   98.808206   1.0  21.0  144.189001  "
      ]
     },
     "execution_count": 40,
     "metadata": {},
     "output_type": "execute_result"
    }
   ],
   "source": [
    "# Vérifier les ratios dette/revenu excessifs (> 100%)\n",
    "high_debtinc = df_cleaned[df_cleaned[\"DEBTINC\"] > 100]\n",
    "high_debtinc"
   ]
  },
  {
   "cell_type": "code",
   "execution_count": 41,
   "metadata": {},
   "outputs": [
    {
     "data": {
      "text/html": [
       "<div>\n",
       "<style scoped>\n",
       "    .dataframe tbody tr th:only-of-type {\n",
       "        vertical-align: middle;\n",
       "    }\n",
       "\n",
       "    .dataframe tbody tr th {\n",
       "        vertical-align: top;\n",
       "    }\n",
       "\n",
       "    .dataframe thead th {\n",
       "        text-align: right;\n",
       "    }\n",
       "</style>\n",
       "<table border=\"1\" class=\"dataframe\">\n",
       "  <thead>\n",
       "    <tr style=\"text-align: right;\">\n",
       "      <th></th>\n",
       "      <th>BAD</th>\n",
       "      <th>LOAN</th>\n",
       "      <th>MORTDUE</th>\n",
       "      <th>VALUE</th>\n",
       "      <th>REASON</th>\n",
       "      <th>JOB</th>\n",
       "      <th>YOJ</th>\n",
       "      <th>DEROG</th>\n",
       "      <th>DELINQ</th>\n",
       "      <th>CLAGE</th>\n",
       "      <th>NINQ</th>\n",
       "      <th>CLNO</th>\n",
       "      <th>DEBTINC</th>\n",
       "    </tr>\n",
       "  </thead>\n",
       "  <tbody>\n",
       "  </tbody>\n",
       "</table>\n",
       "</div>"
      ],
      "text/plain": [
       "Empty DataFrame\n",
       "Columns: [BAD, LOAN, MORTDUE, VALUE, REASON, JOB, YOJ, DEROG, DELINQ, CLAGE, NINQ, CLNO, DEBTINC]\n",
       "Index: []"
      ]
     },
     "execution_count": 41,
     "metadata": {},
     "output_type": "execute_result"
    }
   ],
   "source": [
    "# Suppression des lignes avec ratio dette/revenu > 100%\n",
    "df_cleaned = df_cleaned[df_cleaned[\"DEBTINC\"] <= 100]\n",
    "\n",
    "# Vérifier les ratios dette/revenu excessifs (> 100%)\n",
    "high_debtinc = df_cleaned[df_cleaned[\"DEBTINC\"] > 100]\n",
    "high_debtinc"
   ]
  },
  {
   "cell_type": "code",
   "execution_count": 42,
   "metadata": {},
   "outputs": [
    {
     "data": {
      "text/html": [
       "<div>\n",
       "<style scoped>\n",
       "    .dataframe tbody tr th:only-of-type {\n",
       "        vertical-align: middle;\n",
       "    }\n",
       "\n",
       "    .dataframe tbody tr th {\n",
       "        vertical-align: top;\n",
       "    }\n",
       "\n",
       "    .dataframe thead th {\n",
       "        text-align: right;\n",
       "    }\n",
       "</style>\n",
       "<table border=\"1\" class=\"dataframe\">\n",
       "  <thead>\n",
       "    <tr style=\"text-align: right;\">\n",
       "      <th></th>\n",
       "      <th>BAD</th>\n",
       "      <th>LOAN</th>\n",
       "      <th>MORTDUE</th>\n",
       "      <th>VALUE</th>\n",
       "      <th>REASON</th>\n",
       "      <th>JOB</th>\n",
       "      <th>YOJ</th>\n",
       "      <th>DEROG</th>\n",
       "      <th>DELINQ</th>\n",
       "      <th>CLAGE</th>\n",
       "      <th>NINQ</th>\n",
       "      <th>CLNO</th>\n",
       "      <th>DEBTINC</th>\n",
       "    </tr>\n",
       "  </thead>\n",
       "  <tbody>\n",
       "    <tr>\n",
       "      <th>3097</th>\n",
       "      <td>1</td>\n",
       "      <td>16800</td>\n",
       "      <td>87300.0</td>\n",
       "      <td>155500.0</td>\n",
       "      <td>DebtCon</td>\n",
       "      <td>Other</td>\n",
       "      <td>3.0</td>\n",
       "      <td>0.0</td>\n",
       "      <td>0.0</td>\n",
       "      <td>1154.633333</td>\n",
       "      <td>0.0</td>\n",
       "      <td>0.0</td>\n",
       "      <td>34.124877</td>\n",
       "    </tr>\n",
       "    <tr>\n",
       "      <th>3679</th>\n",
       "      <td>1</td>\n",
       "      <td>19300</td>\n",
       "      <td>96454.0</td>\n",
       "      <td>157809.0</td>\n",
       "      <td>DebtCon</td>\n",
       "      <td>Other</td>\n",
       "      <td>3.0</td>\n",
       "      <td>0.0</td>\n",
       "      <td>0.0</td>\n",
       "      <td>1168.233561</td>\n",
       "      <td>0.0</td>\n",
       "      <td>0.0</td>\n",
       "      <td>40.206138</td>\n",
       "    </tr>\n",
       "  </tbody>\n",
       "</table>\n",
       "</div>"
      ],
      "text/plain": [
       "      BAD   LOAN  MORTDUE     VALUE   REASON    JOB  YOJ  DEROG  DELINQ  \\\n",
       "3097    1  16800  87300.0  155500.0  DebtCon  Other  3.0    0.0     0.0   \n",
       "3679    1  19300  96454.0  157809.0  DebtCon  Other  3.0    0.0     0.0   \n",
       "\n",
       "            CLAGE  NINQ  CLNO    DEBTINC  \n",
       "3097  1154.633333   0.0   0.0  34.124877  \n",
       "3679  1168.233561   0.0   0.0  40.206138  "
      ]
     },
     "execution_count": 42,
     "metadata": {},
     "output_type": "execute_result"
    }
   ],
   "source": [
    "# Vérifier les cas où CLAGE est extrêmement élevé (> 900 mois = 75 ans)\n",
    "extreme_clage = df_cleaned[df_cleaned[\"CLAGE\"] > 900]\n",
    "extreme_clage"
   ]
  },
  {
   "cell_type": "code",
   "execution_count": 43,
   "metadata": {},
   "outputs": [
    {
     "data": {
      "text/html": [
       "<div>\n",
       "<style scoped>\n",
       "    .dataframe tbody tr th:only-of-type {\n",
       "        vertical-align: middle;\n",
       "    }\n",
       "\n",
       "    .dataframe tbody tr th {\n",
       "        vertical-align: top;\n",
       "    }\n",
       "\n",
       "    .dataframe thead th {\n",
       "        text-align: right;\n",
       "    }\n",
       "</style>\n",
       "<table border=\"1\" class=\"dataframe\">\n",
       "  <thead>\n",
       "    <tr style=\"text-align: right;\">\n",
       "      <th></th>\n",
       "      <th>BAD</th>\n",
       "      <th>LOAN</th>\n",
       "      <th>MORTDUE</th>\n",
       "      <th>VALUE</th>\n",
       "      <th>REASON</th>\n",
       "      <th>JOB</th>\n",
       "      <th>YOJ</th>\n",
       "      <th>DEROG</th>\n",
       "      <th>DELINQ</th>\n",
       "      <th>CLAGE</th>\n",
       "      <th>NINQ</th>\n",
       "      <th>CLNO</th>\n",
       "      <th>DEBTINC</th>\n",
       "    </tr>\n",
       "  </thead>\n",
       "  <tbody>\n",
       "  </tbody>\n",
       "</table>\n",
       "</div>"
      ],
      "text/plain": [
       "Empty DataFrame\n",
       "Columns: [BAD, LOAN, MORTDUE, VALUE, REASON, JOB, YOJ, DEROG, DELINQ, CLAGE, NINQ, CLNO, DEBTINC]\n",
       "Index: []"
      ]
     },
     "execution_count": 43,
     "metadata": {},
     "output_type": "execute_result"
    }
   ],
   "source": [
    "# Suppression des lignes où CLAGE est extrêmement élevé (> 900 mois = 75 ans)\n",
    "df_cleaned = df_cleaned[df_cleaned[\"CLAGE\"] <= 900]\n",
    "\n",
    "# Vérifier les cas où CLAGE est extrêmement élevé (> 900 mois = 75 ans)\n",
    "extreme_clage = df_cleaned[df_cleaned[\"CLAGE\"] > 900]\n",
    "extreme_clage"
   ]
  },
  {
   "cell_type": "code",
   "execution_count": 44,
   "metadata": {},
   "outputs": [],
   "source": [
    "# Vérification des valeurs extrêmes pour MORTDUE et VALUE en relation avec d'autres variables\n",
    "\n",
    "# Afficher les 5 plus grandes valeurs de MORTDUE et VALUE\n",
    "df_sorted_mortdue = df_cleaned[[\"MORTDUE\", \"VALUE\", \"LOAN\"]].sort_values(by=\"MORTDUE\", ascending=False).head(10)\n",
    "df_sorted_value = df_cleaned[[\"MORTDUE\", \"VALUE\", \"LOAN\"]].sort_values(by=\"VALUE\", ascending=False).head(10)"
   ]
  },
  {
   "cell_type": "code",
   "execution_count": 45,
   "metadata": {},
   "outputs": [
    {
     "data": {
      "text/html": [
       "<div>\n",
       "<style scoped>\n",
       "    .dataframe tbody tr th:only-of-type {\n",
       "        vertical-align: middle;\n",
       "    }\n",
       "\n",
       "    .dataframe tbody tr th {\n",
       "        vertical-align: top;\n",
       "    }\n",
       "\n",
       "    .dataframe thead th {\n",
       "        text-align: right;\n",
       "    }\n",
       "</style>\n",
       "<table border=\"1\" class=\"dataframe\">\n",
       "  <thead>\n",
       "    <tr style=\"text-align: right;\">\n",
       "      <th></th>\n",
       "      <th>MORTDUE</th>\n",
       "      <th>VALUE</th>\n",
       "      <th>LOAN</th>\n",
       "    </tr>\n",
       "  </thead>\n",
       "  <tbody>\n",
       "    <tr>\n",
       "      <th>5752</th>\n",
       "      <td>614770.0</td>\n",
       "      <td>855909.0</td>\n",
       "      <td>43500</td>\n",
       "    </tr>\n",
       "    <tr>\n",
       "      <th>5707</th>\n",
       "      <td>613481.0</td>\n",
       "      <td>854114.0</td>\n",
       "      <td>41700</td>\n",
       "    </tr>\n",
       "    <tr>\n",
       "      <th>5706</th>\n",
       "      <td>613479.0</td>\n",
       "      <td>854112.0</td>\n",
       "      <td>41700</td>\n",
       "    </tr>\n",
       "    <tr>\n",
       "      <th>5665</th>\n",
       "      <td>610526.0</td>\n",
       "      <td>850000.0</td>\n",
       "      <td>40000</td>\n",
       "    </tr>\n",
       "    <tr>\n",
       "      <th>2522</th>\n",
       "      <td>399550.0</td>\n",
       "      <td>399550.0</td>\n",
       "      <td>15000</td>\n",
       "    </tr>\n",
       "    <tr>\n",
       "      <th>5638</th>\n",
       "      <td>399412.0</td>\n",
       "      <td>511164.0</td>\n",
       "      <td>39000</td>\n",
       "    </tr>\n",
       "    <tr>\n",
       "      <th>5586</th>\n",
       "      <td>397299.0</td>\n",
       "      <td>512650.0</td>\n",
       "      <td>36600</td>\n",
       "    </tr>\n",
       "    <tr>\n",
       "      <th>5545</th>\n",
       "      <td>391000.0</td>\n",
       "      <td>505000.0</td>\n",
       "      <td>35000</td>\n",
       "    </tr>\n",
       "    <tr>\n",
       "      <th>5682</th>\n",
       "      <td>371003.0</td>\n",
       "      <td>467818.0</td>\n",
       "      <td>40700</td>\n",
       "    </tr>\n",
       "    <tr>\n",
       "      <th>5670</th>\n",
       "      <td>369874.0</td>\n",
       "      <td>467112.0</td>\n",
       "      <td>40300</td>\n",
       "    </tr>\n",
       "  </tbody>\n",
       "</table>\n",
       "</div>"
      ],
      "text/plain": [
       "       MORTDUE     VALUE   LOAN\n",
       "5752  614770.0  855909.0  43500\n",
       "5707  613481.0  854114.0  41700\n",
       "5706  613479.0  854112.0  41700\n",
       "5665  610526.0  850000.0  40000\n",
       "2522  399550.0  399550.0  15000\n",
       "5638  399412.0  511164.0  39000\n",
       "5586  397299.0  512650.0  36600\n",
       "5545  391000.0  505000.0  35000\n",
       "5682  371003.0  467818.0  40700\n",
       "5670  369874.0  467112.0  40300"
      ]
     },
     "execution_count": 45,
     "metadata": {},
     "output_type": "execute_result"
    }
   ],
   "source": [
    "df_sorted_mortdue"
   ]
  },
  {
   "cell_type": "code",
   "execution_count": 46,
   "metadata": {},
   "outputs": [
    {
     "data": {
      "text/html": [
       "<div>\n",
       "<style scoped>\n",
       "    .dataframe tbody tr th:only-of-type {\n",
       "        vertical-align: middle;\n",
       "    }\n",
       "\n",
       "    .dataframe tbody tr th {\n",
       "        vertical-align: top;\n",
       "    }\n",
       "\n",
       "    .dataframe thead th {\n",
       "        text-align: right;\n",
       "    }\n",
       "</style>\n",
       "<table border=\"1\" class=\"dataframe\">\n",
       "  <thead>\n",
       "    <tr style=\"text-align: right;\">\n",
       "      <th></th>\n",
       "      <th>MORTDUE</th>\n",
       "      <th>VALUE</th>\n",
       "      <th>LOAN</th>\n",
       "    </tr>\n",
       "  </thead>\n",
       "  <tbody>\n",
       "    <tr>\n",
       "      <th>5752</th>\n",
       "      <td>614770.0</td>\n",
       "      <td>855909.0</td>\n",
       "      <td>43500</td>\n",
       "    </tr>\n",
       "    <tr>\n",
       "      <th>5707</th>\n",
       "      <td>613481.0</td>\n",
       "      <td>854114.0</td>\n",
       "      <td>41700</td>\n",
       "    </tr>\n",
       "    <tr>\n",
       "      <th>5706</th>\n",
       "      <td>613479.0</td>\n",
       "      <td>854112.0</td>\n",
       "      <td>41700</td>\n",
       "    </tr>\n",
       "    <tr>\n",
       "      <th>5665</th>\n",
       "      <td>610526.0</td>\n",
       "      <td>850000.0</td>\n",
       "      <td>40000</td>\n",
       "    </tr>\n",
       "    <tr>\n",
       "      <th>5586</th>\n",
       "      <td>397299.0</td>\n",
       "      <td>512650.0</td>\n",
       "      <td>36600</td>\n",
       "    </tr>\n",
       "    <tr>\n",
       "      <th>5638</th>\n",
       "      <td>399412.0</td>\n",
       "      <td>511164.0</td>\n",
       "      <td>39000</td>\n",
       "    </tr>\n",
       "    <tr>\n",
       "      <th>5545</th>\n",
       "      <td>391000.0</td>\n",
       "      <td>505000.0</td>\n",
       "      <td>35000</td>\n",
       "    </tr>\n",
       "    <tr>\n",
       "      <th>5697</th>\n",
       "      <td>362578.0</td>\n",
       "      <td>471827.0</td>\n",
       "      <td>41400</td>\n",
       "    </tr>\n",
       "    <tr>\n",
       "      <th>5721</th>\n",
       "      <td>367089.0</td>\n",
       "      <td>469771.0</td>\n",
       "      <td>42300</td>\n",
       "    </tr>\n",
       "    <tr>\n",
       "      <th>5710</th>\n",
       "      <td>363737.0</td>\n",
       "      <td>469748.0</td>\n",
       "      <td>41800</td>\n",
       "    </tr>\n",
       "  </tbody>\n",
       "</table>\n",
       "</div>"
      ],
      "text/plain": [
       "       MORTDUE     VALUE   LOAN\n",
       "5752  614770.0  855909.0  43500\n",
       "5707  613481.0  854114.0  41700\n",
       "5706  613479.0  854112.0  41700\n",
       "5665  610526.0  850000.0  40000\n",
       "5586  397299.0  512650.0  36600\n",
       "5638  399412.0  511164.0  39000\n",
       "5545  391000.0  505000.0  35000\n",
       "5697  362578.0  471827.0  41400\n",
       "5721  367089.0  469771.0  42300\n",
       "5710  363737.0  469748.0  41800"
      ]
     },
     "execution_count": 46,
     "metadata": {},
     "output_type": "execute_result"
    }
   ],
   "source": [
    "df_sorted_value"
   ]
  },
  {
   "cell_type": "code",
   "execution_count": 47,
   "metadata": {},
   "outputs": [],
   "source": [
    "# Sélectionner les 4 premières lignes à supprimer\n",
    "rows_to_remove = df_cleaned[[\"MORTDUE\", \"VALUE\", \"LOAN\"]].sort_values(by=\"MORTDUE\", ascending=False).head(4)\n",
    "\n",
    "# Supprimer ces lignes de df_cleaned\n",
    "df_cleaned = df_cleaned.drop(rows_to_remove.index)\n"
   ]
  },
  {
   "cell_type": "code",
   "execution_count": 48,
   "metadata": {},
   "outputs": [],
   "source": [
    "# Vérification des valeurs extrêmes pour CLAGE et DEBTINC\n",
    "df_sorted_clage = df_cleaned[[\"CLAGE\", \"MORTDUE\", \"VALUE\", \"LOAN\"]].sort_values(by=\"CLAGE\", ascending=False).head(10)\n",
    "df_sorted_debtinc = df_cleaned[[\"DEBTINC\", \"MORTDUE\", \"VALUE\", \"LOAN\"]].sort_values(by=\"DEBTINC\", ascending=False).head(10)\n"
   ]
  },
  {
   "cell_type": "code",
   "execution_count": 49,
   "metadata": {},
   "outputs": [
    {
     "data": {
      "text/html": [
       "<div>\n",
       "<style scoped>\n",
       "    .dataframe tbody tr th:only-of-type {\n",
       "        vertical-align: middle;\n",
       "    }\n",
       "\n",
       "    .dataframe tbody tr th {\n",
       "        vertical-align: top;\n",
       "    }\n",
       "\n",
       "    .dataframe thead th {\n",
       "        text-align: right;\n",
       "    }\n",
       "</style>\n",
       "<table border=\"1\" class=\"dataframe\">\n",
       "  <thead>\n",
       "    <tr style=\"text-align: right;\">\n",
       "      <th></th>\n",
       "      <th>CLAGE</th>\n",
       "      <th>MORTDUE</th>\n",
       "      <th>VALUE</th>\n",
       "      <th>LOAN</th>\n",
       "    </tr>\n",
       "  </thead>\n",
       "  <tbody>\n",
       "    <tr>\n",
       "      <th>4470</th>\n",
       "      <td>649.747104</td>\n",
       "      <td>61496.0</td>\n",
       "      <td>102823.0</td>\n",
       "      <td>23300</td>\n",
       "    </tr>\n",
       "    <tr>\n",
       "      <th>4536</th>\n",
       "      <td>648.328493</td>\n",
       "      <td>57553.0</td>\n",
       "      <td>101656.0</td>\n",
       "      <td>23700</td>\n",
       "    </tr>\n",
       "    <tr>\n",
       "      <th>4264</th>\n",
       "      <td>639.058172</td>\n",
       "      <td>64809.0</td>\n",
       "      <td>96831.0</td>\n",
       "      <td>22200</td>\n",
       "    </tr>\n",
       "    <tr>\n",
       "      <th>4238</th>\n",
       "      <td>638.275361</td>\n",
       "      <td>61042.0</td>\n",
       "      <td>96622.0</td>\n",
       "      <td>22000</td>\n",
       "    </tr>\n",
       "    <tr>\n",
       "      <th>3928</th>\n",
       "      <td>634.461893</td>\n",
       "      <td>64113.0</td>\n",
       "      <td>98322.0</td>\n",
       "      <td>20500</td>\n",
       "    </tr>\n",
       "    <tr>\n",
       "      <th>3856</th>\n",
       "      <td>632.103186</td>\n",
       "      <td>61303.0</td>\n",
       "      <td>97780.0</td>\n",
       "      <td>20200</td>\n",
       "    </tr>\n",
       "    <tr>\n",
       "      <th>3787</th>\n",
       "      <td>630.033333</td>\n",
       "      <td>56135.0</td>\n",
       "      <td>93234.0</td>\n",
       "      <td>20000</td>\n",
       "    </tr>\n",
       "    <tr>\n",
       "      <th>4417</th>\n",
       "      <td>629.095766</td>\n",
       "      <td>58696.0</td>\n",
       "      <td>102176.0</td>\n",
       "      <td>23000</td>\n",
       "    </tr>\n",
       "    <tr>\n",
       "      <th>4390</th>\n",
       "      <td>628.981948</td>\n",
       "      <td>62754.0</td>\n",
       "      <td>101781.0</td>\n",
       "      <td>22800</td>\n",
       "    </tr>\n",
       "    <tr>\n",
       "      <th>4262</th>\n",
       "      <td>628.158062</td>\n",
       "      <td>57458.0</td>\n",
       "      <td>102195.0</td>\n",
       "      <td>22200</td>\n",
       "    </tr>\n",
       "  </tbody>\n",
       "</table>\n",
       "</div>"
      ],
      "text/plain": [
       "           CLAGE  MORTDUE     VALUE   LOAN\n",
       "4470  649.747104  61496.0  102823.0  23300\n",
       "4536  648.328493  57553.0  101656.0  23700\n",
       "4264  639.058172  64809.0   96831.0  22200\n",
       "4238  638.275361  61042.0   96622.0  22000\n",
       "3928  634.461893  64113.0   98322.0  20500\n",
       "3856  632.103186  61303.0   97780.0  20200\n",
       "3787  630.033333  56135.0   93234.0  20000\n",
       "4417  629.095766  58696.0  102176.0  23000\n",
       "4390  628.981948  62754.0  101781.0  22800\n",
       "4262  628.158062  57458.0  102195.0  22200"
      ]
     },
     "execution_count": 49,
     "metadata": {},
     "output_type": "execute_result"
    }
   ],
   "source": [
    "df_sorted_clage"
   ]
  },
  {
   "cell_type": "code",
   "execution_count": 50,
   "metadata": {},
   "outputs": [
    {
     "data": {
      "text/html": [
       "<div>\n",
       "<style scoped>\n",
       "    .dataframe tbody tr th:only-of-type {\n",
       "        vertical-align: middle;\n",
       "    }\n",
       "\n",
       "    .dataframe tbody tr th {\n",
       "        vertical-align: top;\n",
       "    }\n",
       "\n",
       "    .dataframe thead th {\n",
       "        text-align: right;\n",
       "    }\n",
       "</style>\n",
       "<table border=\"1\" class=\"dataframe\">\n",
       "  <thead>\n",
       "    <tr style=\"text-align: right;\">\n",
       "      <th></th>\n",
       "      <th>DEBTINC</th>\n",
       "      <th>MORTDUE</th>\n",
       "      <th>VALUE</th>\n",
       "      <th>LOAN</th>\n",
       "    </tr>\n",
       "  </thead>\n",
       "  <tbody>\n",
       "    <tr>\n",
       "      <th>2283</th>\n",
       "      <td>91.612600</td>\n",
       "      <td>144263.0</td>\n",
       "      <td>167164.0</td>\n",
       "      <td>13900</td>\n",
       "    </tr>\n",
       "    <tr>\n",
       "      <th>5155</th>\n",
       "      <td>84.613889</td>\n",
       "      <td>61396.0</td>\n",
       "      <td>111627.0</td>\n",
       "      <td>27700</td>\n",
       "    </tr>\n",
       "    <tr>\n",
       "      <th>3713</th>\n",
       "      <td>84.379034</td>\n",
       "      <td>94419.0</td>\n",
       "      <td>123705.0</td>\n",
       "      <td>19600</td>\n",
       "    </tr>\n",
       "    <tr>\n",
       "      <th>3455</th>\n",
       "      <td>78.654386</td>\n",
       "      <td>95091.0</td>\n",
       "      <td>113294.0</td>\n",
       "      <td>18200</td>\n",
       "    </tr>\n",
       "    <tr>\n",
       "      <th>5045</th>\n",
       "      <td>76.421478</td>\n",
       "      <td>138216.0</td>\n",
       "      <td>170052.0</td>\n",
       "      <td>26800</td>\n",
       "    </tr>\n",
       "    <tr>\n",
       "      <th>216</th>\n",
       "      <td>72.670433</td>\n",
       "      <td>40564.0</td>\n",
       "      <td>40564.0</td>\n",
       "      <td>5200</td>\n",
       "    </tr>\n",
       "    <tr>\n",
       "      <th>1601</th>\n",
       "      <td>72.264093</td>\n",
       "      <td>57939.0</td>\n",
       "      <td>69774.0</td>\n",
       "      <td>11600</td>\n",
       "    </tr>\n",
       "    <tr>\n",
       "      <th>5046</th>\n",
       "      <td>71.512111</td>\n",
       "      <td>18459.0</td>\n",
       "      <td>53907.0</td>\n",
       "      <td>26800</td>\n",
       "    </tr>\n",
       "    <tr>\n",
       "      <th>414</th>\n",
       "      <td>69.800525</td>\n",
       "      <td>183860.0</td>\n",
       "      <td>208910.0</td>\n",
       "      <td>6500</td>\n",
       "    </tr>\n",
       "    <tr>\n",
       "      <th>1633</th>\n",
       "      <td>69.480650</td>\n",
       "      <td>63914.0</td>\n",
       "      <td>93707.0</td>\n",
       "      <td>11700</td>\n",
       "    </tr>\n",
       "  </tbody>\n",
       "</table>\n",
       "</div>"
      ],
      "text/plain": [
       "        DEBTINC   MORTDUE     VALUE   LOAN\n",
       "2283  91.612600  144263.0  167164.0  13900\n",
       "5155  84.613889   61396.0  111627.0  27700\n",
       "3713  84.379034   94419.0  123705.0  19600\n",
       "3455  78.654386   95091.0  113294.0  18200\n",
       "5045  76.421478  138216.0  170052.0  26800\n",
       "216   72.670433   40564.0   40564.0   5200\n",
       "1601  72.264093   57939.0   69774.0  11600\n",
       "5046  71.512111   18459.0   53907.0  26800\n",
       "414   69.800525  183860.0  208910.0   6500\n",
       "1633  69.480650   63914.0   93707.0  11700"
      ]
     },
     "execution_count": 50,
     "metadata": {},
     "output_type": "execute_result"
    }
   ],
   "source": [
    "df_sorted_debtinc"
   ]
  },
  {
   "cell_type": "code",
   "execution_count": 51,
   "metadata": {},
   "outputs": [
    {
     "data": {
      "image/png": "[encoded data removed]",
      "text/plain": [
       "<Figure size 1800x500 with 3 Axes>"
      ]
     },
     "metadata": {},
     "output_type": "display_data"
    },
    {
     "data": {
      "text/plain": [
       "{'MORTDUE': (      BAD   LOAN   MORTDUE     VALUE   REASON      JOB     YOJ  DEROG  DELINQ  \\\n",
       "  140     0   4900  170986.0  245300.0  DebtCon    Sales   6.403    0.0     0.0   \n",
       "  194     0   5100  179725.0  251962.0  DebtCon    Sales  10.220    0.0     0.0   \n",
       "  291     0   5800  172595.0  250155.0  DebtCon    Sales   1.670    0.0     0.0   \n",
       "  326     1   6000  179397.0  200000.0  DebtCon  ProfExe   5.000    6.0     0.0   \n",
       "  345     0   6200  171582.0  245730.0  DebtCon    Sales   2.020    0.0     0.0   \n",
       "  ...   ...    ...       ...       ...      ...      ...     ...    ...     ...   \n",
       "  5925    0  69700  191972.0  294367.0  DebtCon     Self  10.000    0.0     0.0   \n",
       "  5926    0  70300  197761.0  294169.0  DebtCon     Self   9.000    0.0     0.0   \n",
       "  5927    0  70500  196690.0  288512.0  DebtCon     Self   9.000    0.0     0.0   \n",
       "  5928    0  70800  192044.0  292380.0  DebtCon     Self  10.000    0.0     0.0   \n",
       "  5929    0  71200  196601.0  289430.0  DebtCon     Self  12.000    0.0     0.0   \n",
       "  \n",
       "             CLAGE  NINQ  CLNO    DEBTINC  \n",
       "  140   131.933333   0.0  22.0  36.232317  \n",
       "  194   127.498813   0.0  22.0  40.308259  \n",
       "  291   126.400984   0.0  21.0  43.207760  \n",
       "  326    90.300000   6.0  29.0  36.535639  \n",
       "  345   135.108930   0.0  22.0  39.783818  \n",
       "  ...          ...   ...   ...        ...  \n",
       "  5925  230.705613   2.0  25.0  28.201871  \n",
       "  5926  212.239725   2.0  24.0  28.907073  \n",
       "  5927  227.027136   2.0  24.0  29.582301  \n",
       "  5928  221.608486   2.0  25.0  30.378548  \n",
       "  5929  226.914307   2.0  25.0  29.220351  \n",
       "  \n",
       "  [237 rows x 13 columns],\n",
       "  -23798.5,\n",
       "  156533.5),\n",
       " 'VALUE': (      BAD   LOAN   MORTDUE     VALUE   REASON      JOB     YOJ  DEROG  DELINQ  \\\n",
       "  140     0   4900  170986.0  245300.0  DebtCon    Sales   6.403    0.0     0.0   \n",
       "  194     0   5100  179725.0  251962.0  DebtCon    Sales  10.220    0.0     0.0   \n",
       "  291     0   5800  172595.0  250155.0  DebtCon    Sales   1.670    0.0     0.0   \n",
       "  345     0   6200  171582.0  245730.0  DebtCon    Sales   2.020    0.0     0.0   \n",
       "  414     1   6500  183860.0  208910.0  DebtCon  ProfExe   4.000    6.0     0.0   \n",
       "  ...   ...    ...       ...       ...      ...      ...     ...    ...     ...   \n",
       "  5927    0  70500  196690.0  288512.0  DebtCon     Self   9.000    0.0     0.0   \n",
       "  5928    0  70800  192044.0  292380.0  DebtCon     Self  10.000    0.0     0.0   \n",
       "  5929    0  71200  196601.0  289430.0  DebtCon     Self  12.000    0.0     0.0   \n",
       "  5933    1  77200   83962.0  215000.0  HomeImp     Self   8.000    1.0     2.0   \n",
       "  5934    1  77400   87651.0  224630.0  HomeImp     Self   9.000    0.0     2.0   \n",
       "  \n",
       "             CLAGE  NINQ  CLNO    DEBTINC  \n",
       "  140   131.933333   0.0  22.0  36.232317  \n",
       "  194   127.498813   0.0  22.0  40.308259  \n",
       "  291   126.400984   0.0  21.0  43.207760  \n",
       "  345   135.108930   0.0  22.0  39.783818  \n",
       "  414    86.452227   6.0  29.0  69.800525  \n",
       "  ...          ...   ...   ...        ...  \n",
       "  5927  227.027136   2.0  24.0  29.582301  \n",
       "  5928  221.608486   2.0  25.0  30.378548  \n",
       "  5929  226.914307   2.0  25.0  29.220351  \n",
       "  5933   71.533132   3.0  14.0  36.429185  \n",
       "  5934   73.469630   3.0  13.0  40.929793  \n",
       "  \n",
       "  [319 rows x 13 columns],\n",
       "  -15813.5,\n",
       "  203430.5),\n",
       " 'CLAGE': (      BAD   LOAN   MORTDUE     VALUE   REASON      JOB   YOJ  DEROG  DELINQ  \\\n",
       "  202     0   5100   93000.0  116875.0  HomeImp    Other  10.0    0.0     1.0   \n",
       "  379     0   6400   99131.0  125652.0  HomeImp    Other   8.0    0.0     1.0   \n",
       "  411     1   6500   96314.0  105800.0  HomeImp  ProfExe  27.0    0.0     0.0   \n",
       "  423     0   6600   98415.0  126636.0  HomeImp    Other  11.0    0.0     1.0   \n",
       "  469     0   7000   98779.0  124827.0  HomeImp    Other   9.0    0.0     1.0   \n",
       "  540     0   7300   93428.0  118184.0  HomeImp    Other  10.0    0.0     1.0   \n",
       "  712     0   8200  101230.0  120087.0  HomeImp    Other   9.0    0.0     1.0   \n",
       "  786     0   8400  102894.0  117799.0  HomeImp    Other   9.0    0.0     1.0   \n",
       "  880     0   8800  101717.0  122299.0  HomeImp    Other  11.0    0.0     1.0   \n",
       "  909     0   9000   93521.0  126024.0  HomeImp    Other   9.0    0.0     1.0   \n",
       "  1166    0  10000  131589.0  156000.0  HomeImp  ProfExe   5.0    0.0     1.0   \n",
       "  1173    0  10000   10000.0   68250.0  DebtCon  ProfExe  20.0    0.0     2.0   \n",
       "  1205    0  10000  133879.0  157446.0  HomeImp  ProfExe   6.0    0.0     1.0   \n",
       "  1431    0  10900   17282.0   70783.0  DebtCon  ProfExe  19.0    0.0     1.0   \n",
       "  1470    0  11000  131949.0  165096.0  HomeImp  ProfExe   5.0    0.0     0.0   \n",
       "  1492    0  11100   17430.0   68499.0  DebtCon  ProfExe  20.0    0.0     2.0   \n",
       "  1532    0  11200   19496.0   73140.0  DebtCon  ProfExe  20.0    0.0     1.0   \n",
       "  1549    0  11300   16115.0   69113.0  DebtCon  ProfExe  22.0    0.0     2.0   \n",
       "  1797    0  12200  136866.0  162906.0  HomeImp  ProfExe   4.0    0.0     0.0   \n",
       "  1839    0  12300  141020.0  157511.0  HomeImp  ProfExe   4.0    0.0     1.0   \n",
       "  1848    0  12400  137927.0  160566.0  HomeImp  ProfExe   6.0    0.0     1.0   \n",
       "  2010    0  12900   19688.0   77998.0  DebtCon  ProfExe  20.0    0.0     2.0   \n",
       "  2198    0  13600   18232.0   75898.0  DebtCon  ProfExe  19.0    0.0     2.0   \n",
       "  3780    0  20000   53008.0   73800.0  DebtCon    Sales   4.0    0.0     0.0   \n",
       "  3787    0  20000   56135.0   93234.0  HomeImp  ProfExe  18.0    0.0     0.0   \n",
       "  3823    0  20000   56191.0   78232.0  DebtCon    Sales   2.0    0.0     0.0   \n",
       "  3856    0  20200   61303.0   97780.0  HomeImp  ProfExe  17.0    0.0     1.0   \n",
       "  3868    0  20200   59347.0   97816.0  HomeImp  ProfExe  18.0    0.0     0.0   \n",
       "  3928    0  20500   64113.0   98322.0  HomeImp  ProfExe  16.0    0.0     0.0   \n",
       "  3976    0  20800   53500.0   74486.0  DebtCon    Sales   6.0    0.0     0.0   \n",
       "  3980    0  20800   56371.0   78483.0  DebtCon    Sales   2.0    0.0     0.0   \n",
       "  4040    0  21100   63955.0   95621.0  HomeImp  ProfExe  19.0    0.0     0.0   \n",
       "  4059    0  21200   63093.0  101789.0  HomeImp  ProfExe  18.0    0.0     0.0   \n",
       "  4098    0  21400   64378.0   99343.0  HomeImp  ProfExe  18.0    0.0     0.0   \n",
       "  4143    0  21600   59219.0   98111.0  HomeImp  ProfExe  18.0    0.0     0.0   \n",
       "  4153    0  21700   62506.0   96588.0  HomeImp  ProfExe  18.0    0.0     1.0   \n",
       "  4195    0  21900   57632.0   80239.0  DebtCon    Sales   5.0    0.0     0.0   \n",
       "  4238    0  22000   61042.0   96622.0  HomeImp  ProfExe  17.0    0.0     0.0   \n",
       "  4262    0  22200   57458.0  102195.0  HomeImp  ProfExe  18.0    0.0     0.0   \n",
       "  4264    0  22200   64809.0   96831.0  HomeImp  ProfExe  17.0    0.0     0.0   \n",
       "  4357    0  22600   61503.0  101786.0  HomeImp  ProfExe  17.0    0.0     0.0   \n",
       "  4390    0  22800   62754.0  101781.0  HomeImp  ProfExe  19.0    0.0     0.0   \n",
       "  4400    0  22900   58362.0   81255.0  DebtCon    Sales   3.0    0.0     0.0   \n",
       "  4402    0  22900   59702.0   97591.0  HomeImp  ProfExe  16.0    0.0     0.0   \n",
       "  4417    0  23000   58696.0  102176.0  HomeImp  ProfExe  18.0    0.0     0.0   \n",
       "  4431    0  23000  213000.0  280000.0  HomeImp  ProfExe   7.0    0.0     5.0   \n",
       "  4470    0  23300   61496.0  102823.0  HomeImp  ProfExe  18.0    0.0     0.0   \n",
       "  4535    0  23700   56655.0   78878.0  DebtCon    Sales   4.0    0.0     0.0   \n",
       "  4536    0  23700   57553.0  101656.0  HomeImp  ProfExe  19.0    0.0     0.0   \n",
       "  4538    0  23700   56607.0   78812.0  DebtCon    Sales   4.0    0.0     0.0   \n",
       "  4656    0  24400  217533.0  289931.0  HomeImp  ProfExe   6.0    0.0     3.0   \n",
       "  4670    0  24500  216787.0  281351.0  HomeImp  ProfExe   5.0    0.0     4.0   \n",
       "  4682    0  24600  221331.0  289991.0  HomeImp  ProfExe   5.0    0.0     4.0   \n",
       "  4931    0  26000  222681.0  286283.0  HomeImp  ProfExe   6.0    0.0     4.0   \n",
       "  4977    0  26300   78851.0  109090.0  DebtCon   Office   8.0    0.0     0.0   \n",
       "  4990    0  26400  220432.0  283978.0  HomeImp  ProfExe   6.0    0.0     5.0   \n",
       "  5044    0  26800  213165.0  282068.0  HomeImp  ProfExe   5.0    0.0     4.0   \n",
       "  5060    0  26900  215692.0  286555.0  HomeImp  ProfExe   8.0    0.0     5.0   \n",
       "  5201    0  28100   86778.0  110851.0  DebtCon   Office   9.0    0.0     0.0   \n",
       "  \n",
       "             CLAGE      NINQ  CLNO    DEBTINC  \n",
       "  202   417.633333  2.000000  50.0  33.834411  \n",
       "  379   419.375154  1.000000  50.0  42.244928  \n",
       "  411   475.800000  2.000000  40.0  33.992446  \n",
       "  423   423.209624  2.000000  49.0  40.957090  \n",
       "  469   421.541928  1.000000  49.0  40.828873  \n",
       "  540   411.952051  1.000000  50.0  40.396474  \n",
       "  712   419.272965  1.000000  49.0  40.558271  \n",
       "  786   420.098164  1.000000  49.0  39.633190  \n",
       "  880   402.740482  1.000000  49.0  38.421428  \n",
       "  909   411.753081  1.000000  49.0  41.664281  \n",
       "  1166  419.033333  1.000000  43.0  35.220179  \n",
       "  1173  398.800000  1.000000  12.0  31.469144  \n",
       "  1205  421.362872  1.000000  42.0  30.606999  \n",
       "  1431  404.904393  0.000000  11.0  23.610124  \n",
       "  1470  440.421254  0.000000  42.0  26.904766  \n",
       "  1492  403.965401  1.000000  12.0  21.758643  \n",
       "  1532  399.242692  1.000000  12.0  23.374505  \n",
       "  1549  403.515000  0.000000  12.0  22.168245  \n",
       "  1797  427.923591  0.000000  43.0  30.182123  \n",
       "  1839  403.748930  0.000000  43.0  29.583184  \n",
       "  1848  436.751780  0.000000  42.0  29.272557  \n",
       "  2010  407.261167  0.000000  12.0  22.839079  \n",
       "  2198  399.355701  0.000000  12.0  21.260895  \n",
       "  3780  404.766667  0.000000  24.0  33.194503  \n",
       "  3787  630.033333  1.000000  24.0  33.290971  \n",
       "  3823  399.741882  0.000000  23.0  23.948854  \n",
       "  3856  632.103186  1.000000  24.0  20.737039  \n",
       "  3868  618.735890  1.000000  24.0  21.668642  \n",
       "  3928  634.461893  1.000000  23.0  19.574316  \n",
       "  3976  407.585624  0.000000  24.0  22.162873  \n",
       "  3980  412.014873  0.000000  23.0  21.945849  \n",
       "  4040  626.297094  0.000000  24.0  20.010324  \n",
       "  4059  623.456209  1.000000  24.0  19.414588  \n",
       "  4098  627.702390  1.000000  23.0  20.688715  \n",
       "  4143  626.771393  1.000000  23.0  21.241684  \n",
       "  4153  615.133373  0.000000  24.0  21.972675  \n",
       "  4195  402.086810  0.000000  23.0  21.989946  \n",
       "  4238  638.275361  1.000000  23.0  21.457350  \n",
       "  4262  628.158062  1.000000  24.0  20.496216  \n",
       "  4264  639.058172  0.000000  24.0  22.614182  \n",
       "  4357  622.355768  1.000000  24.0  21.686669  \n",
       "  4390  628.981948  0.000000  24.0  20.200302  \n",
       "  4400  405.867848  0.000000  22.0  23.542130  \n",
       "  4402  627.662080  0.000000  24.0  22.118852  \n",
       "  4417  629.095766  0.000000  23.0  22.825607  \n",
       "  4431  468.866667  1.186743  56.0  38.249843  \n",
       "  4470  649.747104  1.000000  24.0  20.872560  \n",
       "  4535  408.187646  0.000000  23.0  24.200936  \n",
       "  4536  648.328493  0.000000  23.0  22.846479  \n",
       "  4538  412.020547  0.000000  24.0  25.637263  \n",
       "  4656  471.887527  1.186743  55.0  31.337808  \n",
       "  4670  473.813986  1.186743  55.0  31.201175  \n",
       "  4682  474.027074  1.186743  55.0  31.463385  \n",
       "  4931  485.945358  1.186743  55.0  33.239355  \n",
       "  4977  405.430429  0.000000  44.0  42.341626  \n",
       "  4990  480.356014  1.186743  56.0  33.714239  \n",
       "  5044  476.728281  1.186743  55.0  31.181661  \n",
       "  5060  468.178122  1.186743  55.0  30.553005  \n",
       "  5201  398.402337  0.000000  44.0  41.040589  ,\n",
       "  -51.90337957500002,\n",
       "  398.02202774500006)}"
      ]
     },
     "execution_count": 51,
     "metadata": {},
     "output_type": "execute_result"
    }
   ],
   "source": [
    "import matplotlib.pyplot as plt\n",
    "import seaborn as sns\n",
    "import numpy as np\n",
    "\n",
    "# Définir le style de visualisation\n",
    "sns.set(style=\"whitegrid\")\n",
    "\n",
    "# Colonnes à analyser pour détecter les valeurs aberrantes (outliers)\n",
    "outlier_cols = [\"MORTDUE\", \"VALUE\", \"CLAGE\"]\n",
    "\n",
    "# Créer un graphique avec des boxplots pour visualiser les valeurs aberrantes\n",
    "fig, axes = plt.subplots(1, 3, figsize=(18, 5))  # Création de 3 sous-graphiques pour les colonnes spécifiées\n",
    "\n",
    "# Générer un boxplot pour chaque colonne de outlier_cols\n",
    "for i, col in enumerate(outlier_cols):\n",
    "    sns.boxplot(y=df_cleaned[col], ax=axes[i])  # Création du boxplot pour chaque colonne\n",
    "    axes[i].set_title(f\"Boxplot de {col}\")  # Définir le titre du graphique\n",
    "\n",
    "plt.show()  # Afficher le graphique\n",
    "\n",
    "# Fonction pour détecter les valeurs aberrantes en utilisant la méthode de l'IQR (Interquartile Range)\n",
    "def detect_outliers(df_cleaned, column):\n",
    "    Q1 = df_cleaned[column].quantile(0.25)  # Premier quartile (Q1)\n",
    "    Q3 = df_cleaned[column].quantile(0.75)  # Troisième quartile (Q3)\n",
    "    IQR = Q3 - Q1  # Calcul de l'IQR\n",
    "    lower_bound = Q1 - 1.5 * IQR  # Limite inférieure pour les outliers\n",
    "    upper_bound = Q3 + 1.5 * IQR  # Limite supérieure pour les outliers\n",
    "    outliers = df_cleaned[(df_cleaned[column] < lower_bound) | (df_cleaned[column] > upper_bound)]  # Détection des outliers\n",
    "    return outliers, lower_bound, upper_bound  # Retourner les outliers et les limites\n",
    "\n",
    "# Détecter les valeurs aberrantes dans les colonnes MORTDUE, VALUE et CLAGE\n",
    "outliers_dict = {}  # Dictionnaire pour stocker les résultats\n",
    "for col in outlier_cols:\n",
    "    outliers_dict[col] = detect_outliers(df_cleaned, col)  # Appliquer la fonction de détection sur chaque colonne\n",
    "\n",
    "outliers_dict  # Afficher les résultats des outliers pour chaque colonne\n"
   ]
  },
  {
   "cell_type": "code",
   "execution_count": 52,
   "metadata": {},
   "outputs": [
    {
     "data": {
      "text/html": [
       "<div>\n",
       "<style scoped>\n",
       "    .dataframe tbody tr th:only-of-type {\n",
       "        vertical-align: middle;\n",
       "    }\n",
       "\n",
       "    .dataframe tbody tr th {\n",
       "        vertical-align: top;\n",
       "    }\n",
       "\n",
       "    .dataframe thead th {\n",
       "        text-align: right;\n",
       "    }\n",
       "</style>\n",
       "<table border=\"1\" class=\"dataframe\">\n",
       "  <thead>\n",
       "    <tr style=\"text-align: right;\">\n",
       "      <th></th>\n",
       "      <th>MORTDUE</th>\n",
       "    </tr>\n",
       "  </thead>\n",
       "  <tbody>\n",
       "    <tr>\n",
       "      <th>2522</th>\n",
       "      <td>399550.0</td>\n",
       "    </tr>\n",
       "    <tr>\n",
       "      <th>5638</th>\n",
       "      <td>399412.0</td>\n",
       "    </tr>\n",
       "    <tr>\n",
       "      <th>5586</th>\n",
       "      <td>397299.0</td>\n",
       "    </tr>\n",
       "    <tr>\n",
       "      <th>5545</th>\n",
       "      <td>391000.0</td>\n",
       "    </tr>\n",
       "    <tr>\n",
       "      <th>5682</th>\n",
       "      <td>371003.0</td>\n",
       "    </tr>\n",
       "    <tr>\n",
       "      <th>5670</th>\n",
       "      <td>369874.0</td>\n",
       "    </tr>\n",
       "    <tr>\n",
       "      <th>5742</th>\n",
       "      <td>367917.0</td>\n",
       "    </tr>\n",
       "    <tr>\n",
       "      <th>5721</th>\n",
       "      <td>367089.0</td>\n",
       "    </tr>\n",
       "    <tr>\n",
       "      <th>5702</th>\n",
       "      <td>365528.0</td>\n",
       "    </tr>\n",
       "    <tr>\n",
       "      <th>5710</th>\n",
       "      <td>363737.0</td>\n",
       "    </tr>\n",
       "  </tbody>\n",
       "</table>\n",
       "</div>"
      ],
      "text/plain": [
       "       MORTDUE\n",
       "2522  399550.0\n",
       "5638  399412.0\n",
       "5586  397299.0\n",
       "5545  391000.0\n",
       "5682  371003.0\n",
       "5670  369874.0\n",
       "5742  367917.0\n",
       "5721  367089.0\n",
       "5702  365528.0\n",
       "5710  363737.0"
      ]
     },
     "execution_count": 52,
     "metadata": {},
     "output_type": "execute_result"
    }
   ],
   "source": [
    "df_okmortdue = df_cleaned[[\"MORTDUE\"]].sort_values(by=\"MORTDUE\", ascending=False).head(10)\n",
    "df_okmortdue"
   ]
  },
  {
   "cell_type": "code",
   "execution_count": 53,
   "metadata": {},
   "outputs": [
    {
     "data": {
      "text/html": [
       "<div>\n",
       "<style scoped>\n",
       "    .dataframe tbody tr th:only-of-type {\n",
       "        vertical-align: middle;\n",
       "    }\n",
       "\n",
       "    .dataframe tbody tr th {\n",
       "        vertical-align: top;\n",
       "    }\n",
       "\n",
       "    .dataframe thead th {\n",
       "        text-align: right;\n",
       "    }\n",
       "</style>\n",
       "<table border=\"1\" class=\"dataframe\">\n",
       "  <thead>\n",
       "    <tr style=\"text-align: right;\">\n",
       "      <th></th>\n",
       "      <th>CLAGE</th>\n",
       "    </tr>\n",
       "  </thead>\n",
       "  <tbody>\n",
       "    <tr>\n",
       "      <th>4470</th>\n",
       "      <td>649.747104</td>\n",
       "    </tr>\n",
       "    <tr>\n",
       "      <th>4536</th>\n",
       "      <td>648.328493</td>\n",
       "    </tr>\n",
       "    <tr>\n",
       "      <th>4264</th>\n",
       "      <td>639.058172</td>\n",
       "    </tr>\n",
       "    <tr>\n",
       "      <th>4238</th>\n",
       "      <td>638.275361</td>\n",
       "    </tr>\n",
       "    <tr>\n",
       "      <th>3928</th>\n",
       "      <td>634.461893</td>\n",
       "    </tr>\n",
       "    <tr>\n",
       "      <th>3856</th>\n",
       "      <td>632.103186</td>\n",
       "    </tr>\n",
       "    <tr>\n",
       "      <th>3787</th>\n",
       "      <td>630.033333</td>\n",
       "    </tr>\n",
       "    <tr>\n",
       "      <th>4417</th>\n",
       "      <td>629.095766</td>\n",
       "    </tr>\n",
       "    <tr>\n",
       "      <th>4390</th>\n",
       "      <td>628.981948</td>\n",
       "    </tr>\n",
       "    <tr>\n",
       "      <th>4262</th>\n",
       "      <td>628.158062</td>\n",
       "    </tr>\n",
       "    <tr>\n",
       "      <th>4098</th>\n",
       "      <td>627.702390</td>\n",
       "    </tr>\n",
       "    <tr>\n",
       "      <th>4402</th>\n",
       "      <td>627.662080</td>\n",
       "    </tr>\n",
       "    <tr>\n",
       "      <th>4143</th>\n",
       "      <td>626.771393</td>\n",
       "    </tr>\n",
       "    <tr>\n",
       "      <th>4040</th>\n",
       "      <td>626.297094</td>\n",
       "    </tr>\n",
       "    <tr>\n",
       "      <th>4059</th>\n",
       "      <td>623.456209</td>\n",
       "    </tr>\n",
       "    <tr>\n",
       "      <th>4357</th>\n",
       "      <td>622.355768</td>\n",
       "    </tr>\n",
       "    <tr>\n",
       "      <th>3868</th>\n",
       "      <td>618.735890</td>\n",
       "    </tr>\n",
       "    <tr>\n",
       "      <th>4153</th>\n",
       "      <td>615.133373</td>\n",
       "    </tr>\n",
       "    <tr>\n",
       "      <th>4931</th>\n",
       "      <td>485.945358</td>\n",
       "    </tr>\n",
       "    <tr>\n",
       "      <th>4990</th>\n",
       "      <td>480.356014</td>\n",
       "    </tr>\n",
       "  </tbody>\n",
       "</table>\n",
       "</div>"
      ],
      "text/plain": [
       "           CLAGE\n",
       "4470  649.747104\n",
       "4536  648.328493\n",
       "4264  639.058172\n",
       "4238  638.275361\n",
       "3928  634.461893\n",
       "3856  632.103186\n",
       "3787  630.033333\n",
       "4417  629.095766\n",
       "4390  628.981948\n",
       "4262  628.158062\n",
       "4098  627.702390\n",
       "4402  627.662080\n",
       "4143  626.771393\n",
       "4040  626.297094\n",
       "4059  623.456209\n",
       "4357  622.355768\n",
       "3868  618.735890\n",
       "4153  615.133373\n",
       "4931  485.945358\n",
       "4990  480.356014"
      ]
     },
     "execution_count": 53,
     "metadata": {},
     "output_type": "execute_result"
    }
   ],
   "source": [
    "# afficher les 20 premières valeurs de CLAGE dans l'ordre décroissant\n",
    "df_okclage = df_cleaned[[\"CLAGE\"]].sort_values(by=\"CLAGE\", ascending=False).head(20)\n",
    "df_okclage"
   ]
  },
  {
   "cell_type": "code",
   "execution_count": 54,
   "metadata": {},
   "outputs": [],
   "source": [
    "# Supprimer les lignes où 'CLAGE' est supérieur à 615 (~51 ans)\n",
    "rows_to_remove = df_cleaned[[\"CLAGE\"]].sort_values(by=\"CLAGE\", ascending=False).head(18)\n",
    "\n",
    "# Supprimer ces lignes de df_cleaned\n",
    "df_cleaned = df_cleaned.drop(rows_to_remove.index)"
   ]
  },
  {
   "cell_type": "code",
   "execution_count": 55,
   "metadata": {},
   "outputs": [
    {
     "data": {
      "image/png": "[encoded data removed]",
      "text/plain": [
       "<Figure size 2000x500 with 4 Axes>"
      ]
     },
     "metadata": {},
     "output_type": "display_data"
    },
    {
     "data": {
      "text/plain": [
       "{'MORTDUE': (      BAD   LOAN   MORTDUE     VALUE   REASON      JOB     YOJ  DEROG  DELINQ  \\\n",
       "  140     0   4900  170986.0  245300.0  DebtCon    Sales   6.403    0.0     0.0   \n",
       "  194     0   5100  179725.0  251962.0  DebtCon    Sales  10.220    0.0     0.0   \n",
       "  291     0   5800  172595.0  250155.0  DebtCon    Sales   1.670    0.0     0.0   \n",
       "  326     1   6000  179397.0  200000.0  DebtCon  ProfExe   5.000    6.0     0.0   \n",
       "  345     0   6200  171582.0  245730.0  DebtCon    Sales   2.020    0.0     0.0   \n",
       "  ...   ...    ...       ...       ...      ...      ...     ...    ...     ...   \n",
       "  5925    0  69700  191972.0  294367.0  DebtCon     Self  10.000    0.0     0.0   \n",
       "  5926    0  70300  197761.0  294169.0  DebtCon     Self   9.000    0.0     0.0   \n",
       "  5927    0  70500  196690.0  288512.0  DebtCon     Self   9.000    0.0     0.0   \n",
       "  5928    0  70800  192044.0  292380.0  DebtCon     Self  10.000    0.0     0.0   \n",
       "  5929    0  71200  196601.0  289430.0  DebtCon     Self  12.000    0.0     0.0   \n",
       "  \n",
       "             CLAGE  NINQ  CLNO    DEBTINC  \n",
       "  140   131.933333   0.0  22.0  36.232317  \n",
       "  194   127.498813   0.0  22.0  40.308259  \n",
       "  291   126.400984   0.0  21.0  43.207760  \n",
       "  326    90.300000   6.0  29.0  36.535639  \n",
       "  345   135.108930   0.0  22.0  39.783818  \n",
       "  ...          ...   ...   ...        ...  \n",
       "  5925  230.705613   2.0  25.0  28.201871  \n",
       "  5926  212.239725   2.0  24.0  28.907073  \n",
       "  5927  227.027136   2.0  24.0  29.582301  \n",
       "  5928  221.608486   2.0  25.0  30.378548  \n",
       "  5929  226.914307   2.0  25.0  29.220351  \n",
       "  \n",
       "  [237 rows x 13 columns],\n",
       "  -24120.0,\n",
       "  156872.0),\n",
       " 'VALUE': (      BAD   LOAN   MORTDUE     VALUE   REASON      JOB     YOJ  DEROG  DELINQ  \\\n",
       "  140     0   4900  170986.0  245300.0  DebtCon    Sales   6.403    0.0     0.0   \n",
       "  194     0   5100  179725.0  251962.0  DebtCon    Sales  10.220    0.0     0.0   \n",
       "  291     0   5800  172595.0  250155.0  DebtCon    Sales   1.670    0.0     0.0   \n",
       "  345     0   6200  171582.0  245730.0  DebtCon    Sales   2.020    0.0     0.0   \n",
       "  414     1   6500  183860.0  208910.0  DebtCon  ProfExe   4.000    6.0     0.0   \n",
       "  ...   ...    ...       ...       ...      ...      ...     ...    ...     ...   \n",
       "  5927    0  70500  196690.0  288512.0  DebtCon     Self   9.000    0.0     0.0   \n",
       "  5928    0  70800  192044.0  292380.0  DebtCon     Self  10.000    0.0     0.0   \n",
       "  5929    0  71200  196601.0  289430.0  DebtCon     Self  12.000    0.0     0.0   \n",
       "  5933    1  77200   83962.0  215000.0  HomeImp     Self   8.000    1.0     2.0   \n",
       "  5934    1  77400   87651.0  224630.0  HomeImp     Self   9.000    0.0     2.0   \n",
       "  \n",
       "             CLAGE  NINQ  CLNO    DEBTINC  \n",
       "  140   131.933333   0.0  22.0  36.232317  \n",
       "  194   127.498813   0.0  22.0  40.308259  \n",
       "  291   126.400984   0.0  21.0  43.207760  \n",
       "  345   135.108930   0.0  22.0  39.783818  \n",
       "  414    86.452227   6.0  29.0  69.800525  \n",
       "  ...          ...   ...   ...        ...  \n",
       "  5927  227.027136   2.0  24.0  29.582301  \n",
       "  5928  221.608486   2.0  25.0  30.378548  \n",
       "  5929  226.914307   2.0  25.0  29.220351  \n",
       "  5933   71.533132   3.0  14.0  36.429185  \n",
       "  5934   73.469630   3.0  13.0  40.929793  \n",
       "  \n",
       "  [315 rows x 13 columns],\n",
       "  -16176.5,\n",
       "  203839.5),\n",
       " 'CLAGE': (      BAD   LOAN   MORTDUE     VALUE   REASON      JOB   YOJ  DEROG  DELINQ  \\\n",
       "  202     0   5100   93000.0  116875.0  HomeImp    Other  10.0    0.0     1.0   \n",
       "  379     0   6400   99131.0  125652.0  HomeImp    Other   8.0    0.0     1.0   \n",
       "  411     1   6500   96314.0  105800.0  HomeImp  ProfExe  27.0    0.0     0.0   \n",
       "  423     0   6600   98415.0  126636.0  HomeImp    Other  11.0    0.0     1.0   \n",
       "  469     0   7000   98779.0  124827.0  HomeImp    Other   9.0    0.0     1.0   \n",
       "  540     0   7300   93428.0  118184.0  HomeImp    Other  10.0    0.0     1.0   \n",
       "  712     0   8200  101230.0  120087.0  HomeImp    Other   9.0    0.0     1.0   \n",
       "  786     0   8400  102894.0  117799.0  HomeImp    Other   9.0    0.0     1.0   \n",
       "  880     0   8800  101717.0  122299.0  HomeImp    Other  11.0    0.0     1.0   \n",
       "  909     0   9000   93521.0  126024.0  HomeImp    Other   9.0    0.0     1.0   \n",
       "  1166    0  10000  131589.0  156000.0  HomeImp  ProfExe   5.0    0.0     1.0   \n",
       "  1173    0  10000   10000.0   68250.0  DebtCon  ProfExe  20.0    0.0     2.0   \n",
       "  1205    0  10000  133879.0  157446.0  HomeImp  ProfExe   6.0    0.0     1.0   \n",
       "  1305    0  10400   11426.0   69294.0  DebtCon  ProfExe  20.0    0.0     1.0   \n",
       "  1431    0  10900   17282.0   70783.0  DebtCon  ProfExe  19.0    0.0     1.0   \n",
       "  1470    0  11000  131949.0  165096.0  HomeImp  ProfExe   5.0    0.0     0.0   \n",
       "  1492    0  11100   17430.0   68499.0  DebtCon  ProfExe  20.0    0.0     2.0   \n",
       "  1532    0  11200   19496.0   73140.0  DebtCon  ProfExe  20.0    0.0     1.0   \n",
       "  1549    0  11300   16115.0   69113.0  DebtCon  ProfExe  22.0    0.0     2.0   \n",
       "  1797    0  12200  136866.0  162906.0  HomeImp  ProfExe   4.0    0.0     0.0   \n",
       "  1839    0  12300  141020.0  157511.0  HomeImp  ProfExe   4.0    0.0     1.0   \n",
       "  1848    0  12400  137927.0  160566.0  HomeImp  ProfExe   6.0    0.0     1.0   \n",
       "  2010    0  12900   19688.0   77998.0  DebtCon  ProfExe  20.0    0.0     2.0   \n",
       "  2198    0  13600   18232.0   75898.0  DebtCon  ProfExe  19.0    0.0     2.0   \n",
       "  3780    0  20000   53008.0   73800.0  DebtCon    Sales   4.0    0.0     0.0   \n",
       "  3823    0  20000   56191.0   78232.0  DebtCon    Sales   2.0    0.0     0.0   \n",
       "  3976    0  20800   53500.0   74486.0  DebtCon    Sales   6.0    0.0     0.0   \n",
       "  3980    0  20800   56371.0   78483.0  DebtCon    Sales   2.0    0.0     0.0   \n",
       "  4195    0  21900   57632.0   80239.0  DebtCon    Sales   5.0    0.0     0.0   \n",
       "  4400    0  22900   58362.0   81255.0  DebtCon    Sales   3.0    0.0     0.0   \n",
       "  4431    0  23000  213000.0  280000.0  HomeImp  ProfExe   7.0    0.0     5.0   \n",
       "  4535    0  23700   56655.0   78878.0  DebtCon    Sales   4.0    0.0     0.0   \n",
       "  4538    0  23700   56607.0   78812.0  DebtCon    Sales   4.0    0.0     0.0   \n",
       "  4656    0  24400  217533.0  289931.0  HomeImp  ProfExe   6.0    0.0     3.0   \n",
       "  4670    0  24500  216787.0  281351.0  HomeImp  ProfExe   5.0    0.0     4.0   \n",
       "  4682    0  24600  221331.0  289991.0  HomeImp  ProfExe   5.0    0.0     4.0   \n",
       "  4735    0  25000   77590.0  108290.0  DebtCon   Office  10.0    0.0     1.0   \n",
       "  4896    0  25700   83733.0  116386.0  DebtCon   Office   8.0    0.0     1.0   \n",
       "  4931    0  26000  222681.0  286283.0  HomeImp  ProfExe   6.0    0.0     4.0   \n",
       "  4977    0  26300   78851.0  109090.0  DebtCon   Office   8.0    0.0     0.0   \n",
       "  4990    0  26400  220432.0  283978.0  HomeImp  ProfExe   6.0    0.0     5.0   \n",
       "  5044    0  26800  213165.0  282068.0  HomeImp  ProfExe   5.0    0.0     4.0   \n",
       "  5060    0  26900  215692.0  286555.0  HomeImp  ProfExe   8.0    0.0     5.0   \n",
       "  5201    0  28100   86778.0  110851.0  DebtCon   Office   9.0    0.0     0.0   \n",
       "  \n",
       "             CLAGE      NINQ  CLNO    DEBTINC  \n",
       "  202   417.633333  2.000000  50.0  33.834411  \n",
       "  379   419.375154  1.000000  50.0  42.244928  \n",
       "  411   475.800000  2.000000  40.0  33.992446  \n",
       "  423   423.209624  2.000000  49.0  40.957090  \n",
       "  469   421.541928  1.000000  49.0  40.828873  \n",
       "  540   411.952051  1.000000  50.0  40.396474  \n",
       "  712   419.272965  1.000000  49.0  40.558271  \n",
       "  786   420.098164  1.000000  49.0  39.633190  \n",
       "  880   402.740482  1.000000  49.0  38.421428  \n",
       "  909   411.753081  1.000000  49.0  41.664281  \n",
       "  1166  419.033333  1.000000  43.0  35.220179  \n",
       "  1173  398.800000  1.000000  12.0  31.469144  \n",
       "  1205  421.362872  1.000000  42.0  30.606999  \n",
       "  1305  396.926265  1.000000  11.0  20.291989  \n",
       "  1431  404.904393  0.000000  11.0  23.610124  \n",
       "  1470  440.421254  0.000000  42.0  26.904766  \n",
       "  1492  403.965401  1.000000  12.0  21.758643  \n",
       "  1532  399.242692  1.000000  12.0  23.374505  \n",
       "  1549  403.515000  0.000000  12.0  22.168245  \n",
       "  1797  427.923591  0.000000  43.0  30.182123  \n",
       "  1839  403.748930  0.000000  43.0  29.583184  \n",
       "  1848  436.751780  0.000000  42.0  29.272557  \n",
       "  2010  407.261167  0.000000  12.0  22.839079  \n",
       "  2198  399.355701  0.000000  12.0  21.260895  \n",
       "  3780  404.766667  0.000000  24.0  33.194503  \n",
       "  3823  399.741882  0.000000  23.0  23.948854  \n",
       "  3976  407.585624  0.000000  24.0  22.162873  \n",
       "  3980  412.014873  0.000000  23.0  21.945849  \n",
       "  4195  402.086810  0.000000  23.0  21.989946  \n",
       "  4400  405.867848  0.000000  22.0  23.542130  \n",
       "  4431  468.866667  1.186743  56.0  38.249843  \n",
       "  4535  408.187646  0.000000  23.0  24.200936  \n",
       "  4538  412.020547  0.000000  24.0  25.637263  \n",
       "  4656  471.887527  1.186743  55.0  31.337808  \n",
       "  4670  473.813986  1.186743  55.0  31.201175  \n",
       "  4682  474.027074  1.186743  55.0  31.463385  \n",
       "  4735  396.733333  0.000000  45.0  34.152139  \n",
       "  4896  397.870689  0.000000  44.0  41.869893  \n",
       "  4931  485.945358  1.186743  55.0  33.239355  \n",
       "  4977  405.430429  0.000000  44.0  42.341626  \n",
       "  4990  480.356014  1.186743  56.0  33.714239  \n",
       "  5044  476.728281  1.186743  55.0  31.181661  \n",
       "  5060  468.178122  1.186743  55.0  30.553005  \n",
       "  5201  398.402337  0.000000  44.0  41.040589  ,\n",
       "  -50.540490187500026,\n",
       "  395.59413023250005),\n",
       " 'DEBTINC': (      BAD   LOAN   MORTDUE     VALUE   REASON     JOB     YOJ  DEROG  DELINQ  \\\n",
       "  17      1   2200   23030.0   23030.0  HomeImp   Other  19.000    0.0     0.0   \n",
       "  37      1   2900   61962.0   70915.0  DebtCon     Mgr   2.000    0.0     0.0   \n",
       "  57      1   3200   23159.0   23159.0  HomeImp     Mgr  20.000    0.0     2.0   \n",
       "  102     0   4200   56544.0   59218.0  HomeImp  Office  19.000    0.0     0.0   \n",
       "  118     0   4500   35226.0   49044.0  HomeImp   Other   0.000    0.0     0.0   \n",
       "  ...   ...    ...       ...       ...      ...     ...     ...    ...     ...   \n",
       "  5739    0  43100    8482.0   64282.0  HomeImp  Office   1.642    0.0     0.0   \n",
       "  5753    0  43700    5137.0   67256.0  HomeImp  Office   9.550    0.0     0.0   \n",
       "  5755    0  43800    5884.0   64890.0  HomeImp  Office  16.970    0.0     0.0   \n",
       "  5757    0  43900    5149.0   67021.0  HomeImp  Office   5.580    0.0     0.0   \n",
       "  5826    1  50100  256431.0  293795.0  HomeImp   Other   0.000    0.0     4.0   \n",
       "  \n",
       "             CLAGE      NINQ  CLNO    DEBTINC  \n",
       "  17    165.933280  1.186743  19.1   3.711312  \n",
       "  37    282.801659  3.000000  37.0  49.206396  \n",
       "  57    117.805748  0.000000   9.0   0.524499  \n",
       "  102   211.002599  1.000000  20.0  19.027704  \n",
       "  118   111.207718  0.000000   0.0  11.652739  \n",
       "  ...          ...       ...   ...        ...  \n",
       "  5739  312.117689  0.000000  19.0  16.353643  \n",
       "  5753  306.995371  0.000000  18.0  16.678676  \n",
       "  5755  309.827548  0.000000  19.0  16.160451  \n",
       "  5757  317.409305  0.000000  18.0  16.145689  \n",
       "  5826  142.343205  2.000000  25.0   3.342570  \n",
       "  \n",
       "  [240 rows x 13 columns],\n",
       "  20.021980811749998,\n",
       "  48.779370805750006)}"
      ]
     },
     "execution_count": 55,
     "metadata": {},
     "output_type": "execute_result"
    }
   ],
   "source": [
    "import matplotlib.pyplot as plt\n",
    "import seaborn as sns\n",
    "import numpy as np\n",
    "\n",
    "# Définir le style de visualisation\n",
    "sns.set(style=\"whitegrid\")\n",
    "\n",
    "# Colonnes à analyser pour détecter les valeurs aberrantes (outliers)\n",
    "outlier_cols = [\"MORTDUE\", \"VALUE\", \"CLAGE\", \"DEBTINC\"]\n",
    "\n",
    "# Créer des boxplots pour visualiser les valeurs aberrantes\n",
    "fig, axes = plt.subplots(1, 4, figsize=(20, 5))  # Créer une figure avec 4 sous-graphes côte à côte\n",
    "\n",
    "# Pour chaque colonne, tracer un boxplot\n",
    "for i, col in enumerate(outlier_cols):\n",
    "    sns.boxplot(y=df_cleaned[col], ax=axes[i])  # Tracer un boxplot pour chaque colonne\n",
    "    axes[i].set_title(f\"Boxplot de {col}\")  # Ajouter un titre pour chaque boxplot\n",
    "\n",
    "plt.show()  # Afficher les graphiques\n",
    "\n",
    "# Fonction pour détecter les valeurs aberrantes à l'aide de la méthode de l'IQR (Interquartile Range)\n",
    "def detect_outliers(df_cleaned, column):\n",
    "    Q1 = df_cleaned[column].quantile(0.25)  # Premier quartile\n",
    "    Q3 = df_cleaned[column].quantile(0.75)  # Troisième quartile\n",
    "    IQR = Q3 - Q1  # Calcul de l'IQR\n",
    "    lower_bound = Q1 - 1.5 * IQR  # Seuil inférieur (1.5 fois l'IQR en dessous de Q1)\n",
    "    upper_bound = Q3 + 1.5 * IQR  # Seuil supérieur (1.5 fois l'IQR au-dessus de Q3)\n",
    "    \n",
    "    # Identifier les lignes où les valeurs sont en dehors des bornes définies\n",
    "    outliers = df_cleaned[(df_cleaned[column] < lower_bound) | (df_cleaned[column] > upper_bound)]\n",
    "    return outliers, lower_bound, upper_bound  # Retourner les valeurs aberrantes ainsi que les bornes\n",
    "\n",
    "# Détecter les valeurs aberrantes dans les colonnes 'MORTDUE', 'VALUE', 'CLAGE', 'DEBTINC'\n",
    "outliers_dict = {}\n",
    "for col in outlier_cols:\n",
    "    outliers_dict[col] = detect_outliers(df_cleaned, col)  # Appliquer la fonction de détection pour chaque colonne\n",
    "\n",
    "outliers_dict  # Afficher les résultats des valeurs aberrantes détectées pour chaque colonne\n"
   ]
  },
  {
   "cell_type": "code",
   "execution_count": 56,
   "metadata": {},
   "outputs": [
    {
     "data": {
      "text/html": [
       "<div>\n",
       "<style scoped>\n",
       "    .dataframe tbody tr th:only-of-type {\n",
       "        vertical-align: middle;\n",
       "    }\n",
       "\n",
       "    .dataframe tbody tr th {\n",
       "        vertical-align: top;\n",
       "    }\n",
       "\n",
       "    .dataframe thead th {\n",
       "        text-align: right;\n",
       "    }\n",
       "</style>\n",
       "<table border=\"1\" class=\"dataframe\">\n",
       "  <thead>\n",
       "    <tr style=\"text-align: right;\">\n",
       "      <th></th>\n",
       "      <th>DEBTINC</th>\n",
       "    </tr>\n",
       "  </thead>\n",
       "  <tbody>\n",
       "    <tr>\n",
       "      <th>2283</th>\n",
       "      <td>91.612600</td>\n",
       "    </tr>\n",
       "    <tr>\n",
       "      <th>5155</th>\n",
       "      <td>84.613889</td>\n",
       "    </tr>\n",
       "    <tr>\n",
       "      <th>3713</th>\n",
       "      <td>84.379034</td>\n",
       "    </tr>\n",
       "    <tr>\n",
       "      <th>3455</th>\n",
       "      <td>78.654386</td>\n",
       "    </tr>\n",
       "    <tr>\n",
       "      <th>5045</th>\n",
       "      <td>76.421478</td>\n",
       "    </tr>\n",
       "    <tr>\n",
       "      <th>216</th>\n",
       "      <td>72.670433</td>\n",
       "    </tr>\n",
       "    <tr>\n",
       "      <th>1601</th>\n",
       "      <td>72.264093</td>\n",
       "    </tr>\n",
       "    <tr>\n",
       "      <th>5046</th>\n",
       "      <td>71.512111</td>\n",
       "    </tr>\n",
       "    <tr>\n",
       "      <th>414</th>\n",
       "      <td>69.800525</td>\n",
       "    </tr>\n",
       "    <tr>\n",
       "      <th>1633</th>\n",
       "      <td>69.480650</td>\n",
       "    </tr>\n",
       "  </tbody>\n",
       "</table>\n",
       "</div>"
      ],
      "text/plain": [
       "        DEBTINC\n",
       "2283  91.612600\n",
       "5155  84.613889\n",
       "3713  84.379034\n",
       "3455  78.654386\n",
       "5045  76.421478\n",
       "216   72.670433\n",
       "1601  72.264093\n",
       "5046  71.512111\n",
       "414   69.800525\n",
       "1633  69.480650"
      ]
     },
     "execution_count": 56,
     "metadata": {},
     "output_type": "execute_result"
    }
   ],
   "source": [
    "# afficher les 10 premières valeurs de DEBTINC dans l'ordre décroissant\n",
    "df_okdebtinc = df_cleaned[[\"DEBTINC\"]].sort_values(by=\"DEBTINC\", ascending=False).head(10)\n",
    "df_okdebtinc"
   ]
  },
  {
   "cell_type": "code",
   "execution_count": 57,
   "metadata": {},
   "outputs": [],
   "source": [
    "# supprimer les lignes dont les valeurs dans les 8 premières colonnes \n",
    "rows_to_remove = df_cleaned[[\"DEBTINC\"]].sort_values(by=\"DEBTINC\", ascending=False).head(8)\n",
    "\n",
    "# Supprimer ces lignes de df_cleaned\n",
    "df_cleaned = df_cleaned.drop(rows_to_remove.index)"
   ]
  },
  {
   "cell_type": "code",
   "execution_count": 58,
   "metadata": {},
   "outputs": [
    {
     "data": {
      "image/png": "[encoded data removed]",
      "text/plain": [
       "<Figure size 1800x1000 with 5 Axes>"
      ]
     },
     "metadata": {},
     "output_type": "display_data"
    },
    {
     "data": {
      "text/plain": [
       "{'LOAN': (      BAD   LOAN   MORTDUE     VALUE   REASON      JOB    YOJ  DEROG  DELINQ  \\\n",
       "  5708    1  41800  147416.0  227168.0  DebtCon     Self   2.00    0.0     4.0   \n",
       "  5709    0  41800    5143.0   67205.0  HomeImp   Office  15.09    0.0     0.0   \n",
       "  5710    0  41800  363737.0  469748.0  HomeImp  ProfExe   4.00    0.0     0.0   \n",
       "  5711    1  42000    9999.0   50681.0  HomeImp  ProfExe   3.00    0.0     0.0   \n",
       "  5712    0  42000   21314.0   68047.0  DebtCon    Other  21.00    0.0     0.0   \n",
       "  ...   ...    ...       ...       ...      ...      ...    ...    ...     ...   \n",
       "  5954    0  88900   48919.0   93371.0  DebtCon    Other  15.00    0.0     1.0   \n",
       "  5955    0  88900   57264.0   90185.0  DebtCon    Other  16.00    0.0     0.0   \n",
       "  5956    0  89000   54576.0   92937.0  DebtCon    Other  16.00    0.0     0.0   \n",
       "  5957    0  89200   54045.0   92924.0  DebtCon    Other  15.00    0.0     0.0   \n",
       "  5958    0  89800   50370.0   91861.0  DebtCon    Other  14.00    0.0     0.0   \n",
       "  \n",
       "             CLAGE  NINQ  CLNO    DEBTINC  \n",
       "  5708  157.668236   3.0  28.0  36.975856  \n",
       "  5709  317.924784   0.0  18.0  14.853341  \n",
       "  5710  327.743755   4.0  14.0  43.809292  \n",
       "  5711  326.067986   5.0  15.0  12.386741  \n",
       "  5712  209.897694   1.0  30.0  39.946385  \n",
       "  ...          ...   ...   ...        ...  \n",
       "  5954  205.650159   0.0  15.0  34.818262  \n",
       "  5955  221.808718   0.0  16.0  36.112347  \n",
       "  5956  208.692070   0.0  15.0  35.859971  \n",
       "  5957  212.279697   0.0  15.0  35.556590  \n",
       "  5958  213.892709   0.0  16.0  34.340882  \n",
       "  \n",
       "  [246 rows x 13 columns],\n",
       "  -7450.0,\n",
       "  41750.0),\n",
       " 'MORTDUE': (      BAD   LOAN   MORTDUE     VALUE   REASON      JOB     YOJ  DEROG  DELINQ  \\\n",
       "  140     0   4900  170986.0  245300.0  DebtCon    Sales   6.403    0.0     0.0   \n",
       "  194     0   5100  179725.0  251962.0  DebtCon    Sales  10.220    0.0     0.0   \n",
       "  291     0   5800  172595.0  250155.0  DebtCon    Sales   1.670    0.0     0.0   \n",
       "  326     1   6000  179397.0  200000.0  DebtCon  ProfExe   5.000    6.0     0.0   \n",
       "  345     0   6200  171582.0  245730.0  DebtCon    Sales   2.020    0.0     0.0   \n",
       "  ...   ...    ...       ...       ...      ...      ...     ...    ...     ...   \n",
       "  5925    0  69700  191972.0  294367.0  DebtCon     Self  10.000    0.0     0.0   \n",
       "  5926    0  70300  197761.0  294169.0  DebtCon     Self   9.000    0.0     0.0   \n",
       "  5927    0  70500  196690.0  288512.0  DebtCon     Self   9.000    0.0     0.0   \n",
       "  5928    0  70800  192044.0  292380.0  DebtCon     Self  10.000    0.0     0.0   \n",
       "  5929    0  71200  196601.0  289430.0  DebtCon     Self  12.000    0.0     0.0   \n",
       "  \n",
       "             CLAGE  NINQ  CLNO    DEBTINC  \n",
       "  140   131.933333   0.0  22.0  36.232317  \n",
       "  194   127.498813   0.0  22.0  40.308259  \n",
       "  291   126.400984   0.0  21.0  43.207760  \n",
       "  326    90.300000   6.0  29.0  36.535639  \n",
       "  345   135.108930   0.0  22.0  39.783818  \n",
       "  ...          ...   ...   ...        ...  \n",
       "  5925  230.705613   2.0  25.0  28.201871  \n",
       "  5926  212.239725   2.0  24.0  28.907073  \n",
       "  5927  227.027136   2.0  24.0  29.582301  \n",
       "  5928  221.608486   2.0  25.0  30.378548  \n",
       "  5929  226.914307   2.0  25.0  29.220351  \n",
       "  \n",
       "  [237 rows x 13 columns],\n",
       "  -24120.0,\n",
       "  156872.0),\n",
       " 'VALUE': (      BAD   LOAN   MORTDUE     VALUE   REASON      JOB     YOJ  DEROG  DELINQ  \\\n",
       "  140     0   4900  170986.0  245300.0  DebtCon    Sales   6.403    0.0     0.0   \n",
       "  194     0   5100  179725.0  251962.0  DebtCon    Sales  10.220    0.0     0.0   \n",
       "  291     0   5800  172595.0  250155.0  DebtCon    Sales   1.670    0.0     0.0   \n",
       "  345     0   6200  171582.0  245730.0  DebtCon    Sales   2.020    0.0     0.0   \n",
       "  414     1   6500  183860.0  208910.0  DebtCon  ProfExe   4.000    6.0     0.0   \n",
       "  ...   ...    ...       ...       ...      ...      ...     ...    ...     ...   \n",
       "  5927    0  70500  196690.0  288512.0  DebtCon     Self   9.000    0.0     0.0   \n",
       "  5928    0  70800  192044.0  292380.0  DebtCon     Self  10.000    0.0     0.0   \n",
       "  5929    0  71200  196601.0  289430.0  DebtCon     Self  12.000    0.0     0.0   \n",
       "  5933    1  77200   83962.0  215000.0  HomeImp     Self   8.000    1.0     2.0   \n",
       "  5934    1  77400   87651.0  224630.0  HomeImp     Self   9.000    0.0     2.0   \n",
       "  \n",
       "             CLAGE  NINQ  CLNO    DEBTINC  \n",
       "  140   131.933333   0.0  22.0  36.232317  \n",
       "  194   127.498813   0.0  22.0  40.308259  \n",
       "  291   126.400984   0.0  21.0  43.207760  \n",
       "  345   135.108930   0.0  22.0  39.783818  \n",
       "  414    86.452227   6.0  29.0  69.800525  \n",
       "  ...          ...   ...   ...        ...  \n",
       "  5927  227.027136   2.0  24.0  29.582301  \n",
       "  5928  221.608486   2.0  25.0  30.378548  \n",
       "  5929  226.914307   2.0  25.0  29.220351  \n",
       "  5933   71.533132   3.0  14.0  36.429185  \n",
       "  5934   73.469630   3.0  13.0  40.929793  \n",
       "  \n",
       "  [316 rows x 13 columns],\n",
       "  -16135.25,\n",
       "  203770.75),\n",
       " 'CLAGE': (      BAD   LOAN   MORTDUE     VALUE   REASON      JOB   YOJ  DEROG  DELINQ  \\\n",
       "  202     0   5100   93000.0  116875.0  HomeImp    Other  10.0    0.0     1.0   \n",
       "  379     0   6400   99131.0  125652.0  HomeImp    Other   8.0    0.0     1.0   \n",
       "  411     1   6500   96314.0  105800.0  HomeImp  ProfExe  27.0    0.0     0.0   \n",
       "  423     0   6600   98415.0  126636.0  HomeImp    Other  11.0    0.0     1.0   \n",
       "  469     0   7000   98779.0  124827.0  HomeImp    Other   9.0    0.0     1.0   \n",
       "  540     0   7300   93428.0  118184.0  HomeImp    Other  10.0    0.0     1.0   \n",
       "  712     0   8200  101230.0  120087.0  HomeImp    Other   9.0    0.0     1.0   \n",
       "  786     0   8400  102894.0  117799.0  HomeImp    Other   9.0    0.0     1.0   \n",
       "  880     0   8800  101717.0  122299.0  HomeImp    Other  11.0    0.0     1.0   \n",
       "  909     0   9000   93521.0  126024.0  HomeImp    Other   9.0    0.0     1.0   \n",
       "  1166    0  10000  131589.0  156000.0  HomeImp  ProfExe   5.0    0.0     1.0   \n",
       "  1173    0  10000   10000.0   68250.0  DebtCon  ProfExe  20.0    0.0     2.0   \n",
       "  1205    0  10000  133879.0  157446.0  HomeImp  ProfExe   6.0    0.0     1.0   \n",
       "  1305    0  10400   11426.0   69294.0  DebtCon  ProfExe  20.0    0.0     1.0   \n",
       "  1431    0  10900   17282.0   70783.0  DebtCon  ProfExe  19.0    0.0     1.0   \n",
       "  1470    0  11000  131949.0  165096.0  HomeImp  ProfExe   5.0    0.0     0.0   \n",
       "  1492    0  11100   17430.0   68499.0  DebtCon  ProfExe  20.0    0.0     2.0   \n",
       "  1532    0  11200   19496.0   73140.0  DebtCon  ProfExe  20.0    0.0     1.0   \n",
       "  1549    0  11300   16115.0   69113.0  DebtCon  ProfExe  22.0    0.0     2.0   \n",
       "  1797    0  12200  136866.0  162906.0  HomeImp  ProfExe   4.0    0.0     0.0   \n",
       "  1839    0  12300  141020.0  157511.0  HomeImp  ProfExe   4.0    0.0     1.0   \n",
       "  1848    0  12400  137927.0  160566.0  HomeImp  ProfExe   6.0    0.0     1.0   \n",
       "  2010    0  12900   19688.0   77998.0  DebtCon  ProfExe  20.0    0.0     2.0   \n",
       "  2198    0  13600   18232.0   75898.0  DebtCon  ProfExe  19.0    0.0     2.0   \n",
       "  3780    0  20000   53008.0   73800.0  DebtCon    Sales   4.0    0.0     0.0   \n",
       "  3823    0  20000   56191.0   78232.0  DebtCon    Sales   2.0    0.0     0.0   \n",
       "  3976    0  20800   53500.0   74486.0  DebtCon    Sales   6.0    0.0     0.0   \n",
       "  3980    0  20800   56371.0   78483.0  DebtCon    Sales   2.0    0.0     0.0   \n",
       "  4195    0  21900   57632.0   80239.0  DebtCon    Sales   5.0    0.0     0.0   \n",
       "  4400    0  22900   58362.0   81255.0  DebtCon    Sales   3.0    0.0     0.0   \n",
       "  4431    0  23000  213000.0  280000.0  HomeImp  ProfExe   7.0    0.0     5.0   \n",
       "  4535    0  23700   56655.0   78878.0  DebtCon    Sales   4.0    0.0     0.0   \n",
       "  4538    0  23700   56607.0   78812.0  DebtCon    Sales   4.0    0.0     0.0   \n",
       "  4656    0  24400  217533.0  289931.0  HomeImp  ProfExe   6.0    0.0     3.0   \n",
       "  4670    0  24500  216787.0  281351.0  HomeImp  ProfExe   5.0    0.0     4.0   \n",
       "  4682    0  24600  221331.0  289991.0  HomeImp  ProfExe   5.0    0.0     4.0   \n",
       "  4735    0  25000   77590.0  108290.0  DebtCon   Office  10.0    0.0     1.0   \n",
       "  4896    0  25700   83733.0  116386.0  DebtCon   Office   8.0    0.0     1.0   \n",
       "  4931    0  26000  222681.0  286283.0  HomeImp  ProfExe   6.0    0.0     4.0   \n",
       "  4977    0  26300   78851.0  109090.0  DebtCon   Office   8.0    0.0     0.0   \n",
       "  4990    0  26400  220432.0  283978.0  HomeImp  ProfExe   6.0    0.0     5.0   \n",
       "  5044    0  26800  213165.0  282068.0  HomeImp  ProfExe   5.0    0.0     4.0   \n",
       "  5060    0  26900  215692.0  286555.0  HomeImp  ProfExe   8.0    0.0     5.0   \n",
       "  5201    0  28100   86778.0  110851.0  DebtCon   Office   9.0    0.0     0.0   \n",
       "  \n",
       "             CLAGE      NINQ  CLNO    DEBTINC  \n",
       "  202   417.633333  2.000000  50.0  33.834411  \n",
       "  379   419.375154  1.000000  50.0  42.244928  \n",
       "  411   475.800000  2.000000  40.0  33.992446  \n",
       "  423   423.209624  2.000000  49.0  40.957090  \n",
       "  469   421.541928  1.000000  49.0  40.828873  \n",
       "  540   411.952051  1.000000  50.0  40.396474  \n",
       "  712   419.272965  1.000000  49.0  40.558271  \n",
       "  786   420.098164  1.000000  49.0  39.633190  \n",
       "  880   402.740482  1.000000  49.0  38.421428  \n",
       "  909   411.753081  1.000000  49.0  41.664281  \n",
       "  1166  419.033333  1.000000  43.0  35.220179  \n",
       "  1173  398.800000  1.000000  12.0  31.469144  \n",
       "  1205  421.362872  1.000000  42.0  30.606999  \n",
       "  1305  396.926265  1.000000  11.0  20.291989  \n",
       "  1431  404.904393  0.000000  11.0  23.610124  \n",
       "  1470  440.421254  0.000000  42.0  26.904766  \n",
       "  1492  403.965401  1.000000  12.0  21.758643  \n",
       "  1532  399.242692  1.000000  12.0  23.374505  \n",
       "  1549  403.515000  0.000000  12.0  22.168245  \n",
       "  1797  427.923591  0.000000  43.0  30.182123  \n",
       "  1839  403.748930  0.000000  43.0  29.583184  \n",
       "  1848  436.751780  0.000000  42.0  29.272557  \n",
       "  2010  407.261167  0.000000  12.0  22.839079  \n",
       "  2198  399.355701  0.000000  12.0  21.260895  \n",
       "  3780  404.766667  0.000000  24.0  33.194503  \n",
       "  3823  399.741882  0.000000  23.0  23.948854  \n",
       "  3976  407.585624  0.000000  24.0  22.162873  \n",
       "  3980  412.014873  0.000000  23.0  21.945849  \n",
       "  4195  402.086810  0.000000  23.0  21.989946  \n",
       "  4400  405.867848  0.000000  22.0  23.542130  \n",
       "  4431  468.866667  1.186743  56.0  38.249843  \n",
       "  4535  408.187646  0.000000  23.0  24.200936  \n",
       "  4538  412.020547  0.000000  24.0  25.637263  \n",
       "  4656  471.887527  1.186743  55.0  31.337808  \n",
       "  4670  473.813986  1.186743  55.0  31.201175  \n",
       "  4682  474.027074  1.186743  55.0  31.463385  \n",
       "  4735  396.733333  0.000000  45.0  34.152139  \n",
       "  4896  397.870689  0.000000  44.0  41.869893  \n",
       "  4931  485.945358  1.186743  55.0  33.239355  \n",
       "  4977  405.430429  0.000000  44.0  42.341626  \n",
       "  4990  480.356014  1.186743  56.0  33.714239  \n",
       "  5044  476.728281  1.186743  55.0  31.181661  \n",
       "  5060  468.178122  1.186743  55.0  30.553005  \n",
       "  5201  398.402337  0.000000  44.0  41.040589  ,\n",
       "  -50.648413107500005,\n",
       "  395.8440254725),\n",
       " 'DEBTINC': (      BAD   LOAN   MORTDUE     VALUE   REASON     JOB     YOJ  DEROG  DELINQ  \\\n",
       "  17      1   2200   23030.0   23030.0  HomeImp   Other  19.000    0.0     0.0   \n",
       "  37      1   2900   61962.0   70915.0  DebtCon     Mgr   2.000    0.0     0.0   \n",
       "  57      1   3200   23159.0   23159.0  HomeImp     Mgr  20.000    0.0     2.0   \n",
       "  102     0   4200   56544.0   59218.0  HomeImp  Office  19.000    0.0     0.0   \n",
       "  118     0   4500   35226.0   49044.0  HomeImp   Other   0.000    0.0     0.0   \n",
       "  ...   ...    ...       ...       ...      ...     ...     ...    ...     ...   \n",
       "  5739    0  43100    8482.0   64282.0  HomeImp  Office   1.642    0.0     0.0   \n",
       "  5753    0  43700    5137.0   67256.0  HomeImp  Office   9.550    0.0     0.0   \n",
       "  5755    0  43800    5884.0   64890.0  HomeImp  Office  16.970    0.0     0.0   \n",
       "  5757    0  43900    5149.0   67021.0  HomeImp  Office   5.580    0.0     0.0   \n",
       "  5826    1  50100  256431.0  293795.0  HomeImp   Other   0.000    0.0     4.0   \n",
       "  \n",
       "             CLAGE      NINQ  CLNO    DEBTINC  \n",
       "  17    165.933280  1.186743  19.1   3.711312  \n",
       "  37    282.801659  3.000000  37.0  49.206396  \n",
       "  57    117.805748  0.000000   9.0   0.524499  \n",
       "  102   211.002599  1.000000  20.0  19.027704  \n",
       "  118   111.207718  0.000000   0.0  11.652739  \n",
       "  ...          ...       ...   ...        ...  \n",
       "  5739  312.117689  0.000000  19.0  16.353643  \n",
       "  5753  306.995371  0.000000  18.0  16.678676  \n",
       "  5755  309.827548  0.000000  19.0  16.160451  \n",
       "  5757  317.409305  0.000000  18.0  16.145689  \n",
       "  5826  142.343205  2.000000  25.0   3.342570  \n",
       "  \n",
       "  [232 rows x 13 columns],\n",
       "  20.01079278075,\n",
       "  48.766405550749994)}"
      ]
     },
     "execution_count": 58,
     "metadata": {},
     "output_type": "execute_result"
    }
   ],
   "source": [
    "import matplotlib.pyplot as plt\n",
    "import seaborn as sns\n",
    "import numpy as np\n",
    "\n",
    "# Définir le style de visualisation\n",
    "sns.set(style=\"whitegrid\")  # Utilisation d'un fond avec une grille blanche pour la visualisation\n",
    "\n",
    "# Colonnes à analyser pour les valeurs aberrantes (outliers)\n",
    "outlier_cols = [\"LOAN\", \"MORTDUE\", \"VALUE\", \"CLAGE\", \"DEBTINC\"]\n",
    "\n",
    "# Créer les boxplots pour visualiser les valeurs aberrantes\n",
    "fig, axes = plt.subplots(2, 3, figsize=(18, 10))  # Ajuster la disposition des graphiques (2 lignes, 3 colonnes)\n",
    "\n",
    "# Aplatir le tableau d'axes pour un accès plus facile\n",
    "axes = axes.flatten()\n",
    "\n",
    "# Boucle sur chaque colonne pour tracer un boxplot\n",
    "for i, col in enumerate(outlier_cols):\n",
    "    sns.boxplot(y=df_cleaned[col], ax=axes[i])  # Tracer un boxplot pour chaque colonne\n",
    "    axes[i].set_title(f\"Boxplot of {col}\")  # Ajouter un titre à chaque boxplot\n",
    "    axes[i].set_ylabel('')  # Retirer le label de l'axe y pour une meilleure esthétique\n",
    "    axes[i].set_xlabel('')  # Retirer le label de l'axe x pour une meilleure esthétique\n",
    "\n",
    "# Supprimer le subplot vide (en bas à droite) si le nombre de graphiques est inférieur à 6\n",
    "for j in range(len(outlier_cols), len(axes)):\n",
    "    fig.delaxes(axes[j])  # Supprimer l'axe inutile\n",
    "\n",
    "plt.tight_layout()  # S'assurer qu'il n'y a pas de chevauchement entre les éléments et que la disposition est propre\n",
    "plt.show()  # Afficher les graphiques\n",
    "\n",
    "# Fonction pour détecter les valeurs aberrantes en utilisant la méthode IQR (Intervalle Interquartile)\n",
    "def detect_outliers(df_cleaned, column):\n",
    "    Q1 = df_cleaned[column].quantile(0.25)  # Premier quartile (Q1)\n",
    "    Q3 = df_cleaned[column].quantile(0.75)  # Troisième quartile (Q3)\n",
    "    IQR = Q3 - Q1  # Calcul de l'intervalle interquartile\n",
    "    lower_bound = Q1 - 1.5 * IQR  # Limite inférieure pour détecter les outliers\n",
    "    upper_bound = Q3 + 1.5 * IQR  # Limite supérieure pour détecter les outliers\n",
    "    # Sélectionner les lignes qui ont des valeurs en dehors des limites\n",
    "    outliers = df_cleaned[(df_cleaned[column] < lower_bound) | (df_cleaned[column] > upper_bound)]\n",
    "    return outliers, lower_bound, upper_bound  # Retourner les valeurs aberrantes et les limites\n",
    "\n",
    "# Détecter les valeurs aberrantes dans les colonnes spécifiées\n",
    "outliers_dict = {}  # Dictionnaire pour stocker les résultats\n",
    "for col in outlier_cols:\n",
    "    outliers_dict[col] = detect_outliers(df_cleaned, col)  # Ajouter les résultats pour chaque colonne\n",
    "\n",
    "outliers_dict  # Afficher les résultats pour toutes les colonnes\n"
   ]
  },
  {
   "cell_type": "code",
   "execution_count": 59,
   "metadata": {},
   "outputs": [
    {
     "data": {
      "image/png": "[encoded data removed]",
      "text/plain": [
       "<Figure size 1800x1000 with 5 Axes>"
      ]
     },
     "metadata": {},
     "output_type": "display_data"
    }
   ],
   "source": [
    "import matplotlib.pyplot as plt\n",
    "import seaborn as sns\n",
    "\n",
    "# Définir le style des graphiques\n",
    "sns.set(style=\"whitegrid\")\n",
    "\n",
    "# Liste des colonnes à tracer\n",
    "cols = [\"DEROG\", \"DELINQ\", \"NINQ\", \"YOJ\", \"CLNO\"]\n",
    "\n",
    "# Créer des boxplots pour visualiser les valeurs aberrantes\n",
    "fig, axes = plt.subplots(2, 3, figsize=(18, 10))  # Disposition ajustée en 2 lignes et 3 colonnes\n",
    "\n",
    "# Aplatir le tableau d'axes pour un indexage plus facile\n",
    "axes = axes.flatten()\n",
    "\n",
    "# Boucle pour créer un boxplot pour chaque colonne\n",
    "for i, col in enumerate(cols):\n",
    "    sns.boxplot(y=df_cleaned[col], ax=axes[i])  # Tracer le boxplot pour la colonne en cours\n",
    "    axes[i].set_title(f\"Boxplot de {col}\")  # Définir le titre du graphique\n",
    "    axes[i].set_ylabel('')  # Supprimer le label de l'axe y pour une meilleure esthétique\n",
    "    axes[i].set_xlabel('')  # Supprimer le label de l'axe x pour une meilleure esthétique\n",
    "\n",
    "# Supprimer le graphique vide (en bas à droite) s'il y a moins de 6 graphiques\n",
    "for j in range(len(cols), len(axes)):\n",
    "    fig.delaxes(axes[j])  # Supprimer les axes inutilisés\n",
    "\n",
    "plt.tight_layout()  # Assure qu'il n'y a pas de chevauchement et rend le graphique plus propre\n",
    "plt.show()  # Afficher le graphique\n",
    "\n",
    "plt.show()  # Afficher de nouveau le graphique (double appel pour s'assurer qu'il est bien visible)\n"
   ]
  },
  {
   "cell_type": "code",
   "execution_count": 60,
   "metadata": {},
   "outputs": [
    {
     "data": {
      "text/plain": [
       "DEROG\n",
       "0.0     5114\n",
       "1.0      460\n",
       "2.0      170\n",
       "3.0       59\n",
       "5.0       49\n",
       "6.0       25\n",
       "4.0       23\n",
       "7.0        8\n",
       "8.0        6\n",
       "9.0        3\n",
       "10.0       2\n",
       "Name: count, dtype: int64"
      ]
     },
     "execution_count": 60,
     "metadata": {},
     "output_type": "execute_result"
    }
   ],
   "source": [
    "df_okderog = df_cleaned[[\"DEROG\"]].sort_values(by=[\"DEROG\"], ascending=False)\n",
    "# Pour chaque valeur de DEROG, comptez le nombre de fois qu'elle apparaît.\n",
    "df_okderog['DEROG'].value_counts()\n",
    "\n"
   ]
  },
  {
   "cell_type": "code",
   "execution_count": 61,
   "metadata": {},
   "outputs": [],
   "source": [
    "# Pour les valeurs de DEROG supérieures à 3, limitez-les à 3.\n",
    "df_cleaned.loc[df_cleaned['DEROG'] > 3, 'DEROG'] = 3"
   ]
  },
  {
   "cell_type": "code",
   "execution_count": 62,
   "metadata": {},
   "outputs": [
    {
     "data": {
      "text/plain": [
       "NINQ\n",
       "0.000000     2511\n",
       "1.000000     1321\n",
       "2.000000      778\n",
       "1.186743      510\n",
       "3.000000      392\n",
       "4.000000      156\n",
       "5.000000       74\n",
       "6.000000       56\n",
       "7.000000       44\n",
       "10.000000      28\n",
       "8.000000       22\n",
       "9.000000       11\n",
       "11.000000      10\n",
       "12.000000       2\n",
       "13.000000       2\n",
       "14.000000       1\n",
       "17.000000       1\n",
       "Name: count, dtype: int64"
      ]
     },
     "execution_count": 62,
     "metadata": {},
     "output_type": "execute_result"
    }
   ],
   "source": [
    "df_okninq = df_cleaned[[\"NINQ\"]].sort_values(by=[\"NINQ\"], ascending=False)\n",
    "\n",
    "df_okninq['NINQ'].value_counts()\n",
    "\n"
   ]
  },
  {
   "cell_type": "code",
   "execution_count": 63,
   "metadata": {},
   "outputs": [],
   "source": [
    "# Pour les valeurs de NINQ supérieures à 6, limitez-les à 6.\n",
    "df_cleaned.loc[df_cleaned['NINQ'] > 6, 'NINQ'] = 6"
   ]
  },
  {
   "cell_type": "code",
   "execution_count": 64,
   "metadata": {},
   "outputs": [
    {
     "data": {
      "text/plain": [
       "DELINQ\n",
       "0.0     4535\n",
       "1.0      758\n",
       "2.0      302\n",
       "3.0      131\n",
       "4.0       78\n",
       "5.0       55\n",
       "6.0       35\n",
       "7.0       13\n",
       "8.0        5\n",
       "11.0       2\n",
       "10.0       2\n",
       "15.0       1\n",
       "13.0       1\n",
       "12.0       1\n",
       "Name: count, dtype: int64"
      ]
     },
     "execution_count": 64,
     "metadata": {},
     "output_type": "execute_result"
    }
   ],
   "source": [
    "df_okdeliq = df_cleaned[[\"DELINQ\"]].sort_values(by=[\"DELINQ\"], ascending=False)\n",
    "\n",
    "df_okdeliq['DELINQ'].value_counts()\n"
   ]
  },
  {
   "cell_type": "code",
   "execution_count": 65,
   "metadata": {},
   "outputs": [],
   "source": [
    "# Pour les valeurs de DELINQ supérieures à 4, limitez-les à 4.\n",
    "df_cleaned.loc[df_cleaned['DELINQ'] > 4, 'DELINQ'] = 4\n"
   ]
  },
  {
   "cell_type": "code",
   "execution_count": 66,
   "metadata": {},
   "outputs": [],
   "source": [
    "# Compter les valeurs de 'CLNO' et trier les plus élevées\n",
    "df_cleaned['CLNO'].sort_values(ascending=False).head(20)\n",
    "\n",
    "# Supprimer les 2 premières valeurs les plus élevées de 'CLNO'\n",
    "df_cleaned = df_cleaned.drop(df_cleaned['CLNO'].sort_values(ascending=False).head(2).index)\n"
   ]
  },
  {
   "cell_type": "code",
   "execution_count": 67,
   "metadata": {},
   "outputs": [],
   "source": [
    "\n",
    "# Compter les valeurs de 'YOJ' et trier les plus élevées\n",
    "df_cleaned['YOJ'].sort_values(ascending=False).head(20)\n",
    "\n",
    "# Supprimer les 3 premières valeurs les plus élevées de 'YOJ'\n",
    "df_cleaned = df_cleaned.drop(df_cleaned['YOJ'].sort_values(ascending=False).head(3).index)"
   ]
  },
  {
   "cell_type": "code",
   "execution_count": 68,
   "metadata": {},
   "outputs": [
    {
     "data": {
      "image/png": "[encoded data removed]",
      "text/plain": [
       "<Figure size 1800x1000 with 5 Axes>"
      ]
     },
     "metadata": {},
     "output_type": "display_data"
    }
   ],
   "source": [
    "import matplotlib.pyplot as plt\n",
    "import seaborn as sns\n",
    "\n",
    "# Définir le style de la grille\n",
    "sns.set(style=\"whitegrid\")\n",
    "\n",
    "# Liste des colonnes à afficher\n",
    "cols = [\"DEROG\", \"DELINQ\", \"NINQ\", \"YOJ\", \"CLNO\"]\n",
    "\n",
    "# Créer des boxplots pour visualiser les valeurs aberrantes\n",
    "fig, axes = plt.subplots(2, 3, figsize=(18, 10))  # Disposition ajustée pour 2 lignes et 3 colonnes\n",
    "\n",
    "# Aplatir l'array des axes pour faciliter l'indexation\n",
    "axes = axes.flatten()\n",
    "\n",
    "# Créer un boxplot pour chaque colonne spécifiée\n",
    "for i, col in enumerate(cols):\n",
    "    sns.boxplot(y=df_cleaned[col], ax=axes[i])  # Tracer le boxplot pour la colonne actuelle\n",
    "    axes[i].set_title(f\"Boxplot of {col}\")  # Titre du graphique\n",
    "    axes[i].set_ylabel('')  # Supprimer le label de l'axe y pour une meilleure esthétique\n",
    "    axes[i].set_xlabel('')  # Supprimer le label de l'axe x pour une meilleure esthétique\n",
    "\n",
    "# Supprimer le subplot vide (en bas à droite) si moins de 6 graphiques sont présents\n",
    "for j in range(len(cols), len(axes)):\n",
    "    fig.delaxes(axes[j])\n",
    "\n",
    "plt.tight_layout()  # Ajuste l'agencement pour éviter les chevauchements et rendre le graphique plus propre\n",
    "plt.show()  # Affiche le graphique\n",
    "\n",
    "plt.show()  # Affiche le graphique (encore une fois, cette ligne est redondante)\n"
   ]
  },
  {
   "cell_type": "code",
   "execution_count": 69,
   "metadata": {},
   "outputs": [],
   "source": [
    "# Vérifier si le répertoire existe avant de sauvegarder\n",
    "output_dir = \"./Dataset\"  # Définir le répertoire de sortie\n",
    "os.makedirs(output_dir, exist_ok=True)  # Créer le répertoire s'il n'existe pas déjà, sans erreur\n",
    "\n",
    "# Sauvegarder le dataframe nettoyé dans un fichier CSV\n",
    "df_cleaned.to_csv(f\"{output_dir}/hmeq_clean_miticulous.csv\", index=False)  # Enregistrer sans l'index\n"
   ]
  },
  {
   "cell_type": "code",
   "execution_count": 70,
   "metadata": {},
   "outputs": [
    {
     "name": "stdout",
     "output_type": "stream",
     "text": [
      "         Outliers\n",
      "LOAN          246\n",
      "MORTDUE       237\n",
      "VALUE         316\n",
      "YOJ            91\n",
      "DEROG         805\n",
      "DELINQ       1381\n",
      "CLAGE          44\n",
      "NINQ          177\n",
      "CLNO          217\n",
      "DEBTINC       231\n"
     ]
    },
    {
     "data": {
      "application/vnd.plotly.v1+json": {
       "config": {
        "plotlyServerURL": "https://plot.ly"
       },
       "data": [
        {
         "alignmentgroup": "True",
         "hovertemplate": "variable=Outliers<br>Variables=%{x}<br>Nombre d'Outliers=%{y}<extra></extra>",
         "legendgroup": "Outliers",
         "marker": {
          "color": "#636efa",
          "pattern": {
           "shape": ""
          }
         },
         "name": "Outliers",
         "offsetgroup": "Outliers",
         "orientation": "v",
         "showlegend": true,
         "textposition": "auto",
         "type": "bar",
         "x": [
          "LOAN",
          "MORTDUE",
          "VALUE",
          "YOJ",
          "DEROG",
          "DELINQ",
          "CLAGE",
          "NINQ",
          "CLNO",
          "DEBTINC"
         ],
         "xaxis": "x",
         "y": [
          246,
          237,
          316,
          91,
          805,
          1381,
          44,
          177,
          217,
          231
         ],
         "yaxis": "y"
        }
       ],
       "layout": {
        "barmode": "relative",
        "legend": {
         "title": {
          "text": "variable"
         },
         "tracegroupgap": 0
        },
        "template": {
         "data": {
          "bar": [
           {
            "error_x": {
             "color": "#2a3f5f"
            },
            "error_y": {
             "color": "#2a3f5f"
            },
            "marker": {
             "line": {
              "color": "#E5ECF6",
              "width": 0.5
             },
             "pattern": {
              "fillmode": "overlay",
              "size": 10,
              "solidity": 0.2
             }
            },
            "type": "bar"
           }
          ],
          "barpolar": [
           {
            "marker": {
             "line": {
              "color": "#E5ECF6",
              "width": 0.5
             },
             "pattern": {
              "fillmode": "overlay",
              "size": 10,
              "solidity": 0.2
             }
            },
            "type": "barpolar"
           }
          ],
          "carpet": [
           {
            "aaxis": {
             "endlinecolor": "#2a3f5f",
             "gridcolor": "white",
             "linecolor": "white",
             "minorgridcolor": "white",
             "startlinecolor": "#2a3f5f"
            },
            "baxis": {
             "endlinecolor": "#2a3f5f",
             "gridcolor": "white",
             "linecolor": "white",
             "minorgridcolor": "white",
             "startlinecolor": "#2a3f5f"
            },
            "type": "carpet"
           }
          ],
          "choropleth": [
           {
            "colorbar": {
             "outlinewidth": 0,
             "ticks": ""
            },
            "type": "choropleth"
           }
          ],
          "contour": [
           {
            "colorbar": {
             "outlinewidth": 0,
             "ticks": ""
            },
            "colorscale": [
             [
              0,
              "#0d0887"
             ],
             [
              0.1111111111111111,
              "#46039f"
             ],
             [
              0.2222222222222222,
              "#7201a8"
             ],
             [
              0.3333333333333333,
              "#9c179e"
             ],
             [
              0.4444444444444444,
              "#bd3786"
             ],
             [
              0.5555555555555556,
              "#d8576b"
             ],
             [
              0.6666666666666666,
              "#ed7953"
             ],
             [
              0.7777777777777778,
              "#fb9f3a"
             ],
             [
              0.8888888888888888,
              "#fdca26"
             ],
             [
              1,
              "#f0f921"
             ]
            ],
            "type": "contour"
           }
          ],
          "contourcarpet": [
           {
            "colorbar": {
             "outlinewidth": 0,
             "ticks": ""
            },
            "type": "contourcarpet"
           }
          ],
          "heatmap": [
           {
            "colorbar": {
             "outlinewidth": 0,
             "ticks": ""
            },
            "colorscale": [
             [
              0,
              "#0d0887"
             ],
             [
              0.1111111111111111,
              "#46039f"
             ],
             [
              0.2222222222222222,
              "#7201a8"
             ],
             [
              0.3333333333333333,
              "#9c179e"
             ],
             [
              0.4444444444444444,
              "#bd3786"
             ],
             [
              0.5555555555555556,
              "#d8576b"
             ],
             [
              0.6666666666666666,
              "#ed7953"
             ],
             [
              0.7777777777777778,
              "#fb9f3a"
             ],
             [
              0.8888888888888888,
              "#fdca26"
             ],
             [
              1,
              "#f0f921"
             ]
            ],
            "type": "heatmap"
           }
          ],
          "heatmapgl": [
           {
            "colorbar": {
             "outlinewidth": 0,
             "ticks": ""
            },
            "colorscale": [
             [
              0,
              "#0d0887"
             ],
             [
              0.1111111111111111,
              "#46039f"
             ],
             [
              0.2222222222222222,
              "#7201a8"
             ],
             [
              0.3333333333333333,
              "#9c179e"
             ],
             [
              0.4444444444444444,
              "#bd3786"
             ],
             [
              0.5555555555555556,
              "#d8576b"
             ],
             [
              0.6666666666666666,
              "#ed7953"
             ],
             [
              0.7777777777777778,
              "#fb9f3a"
             ],
             [
              0.8888888888888888,
              "#fdca26"
             ],
             [
              1,
              "#f0f921"
             ]
            ],
            "type": "heatmapgl"
           }
          ],
          "histogram": [
           {
            "marker": {
             "pattern": {
              "fillmode": "overlay",
              "size": 10,
              "solidity": 0.2
             }
            },
            "type": "histogram"
           }
          ],
          "histogram2d": [
           {
            "colorbar": {
             "outlinewidth": 0,
             "ticks": ""
            },
            "colorscale": [
             [
              0,
              "#0d0887"
             ],
             [
              0.1111111111111111,
              "#46039f"
             ],
             [
              0.2222222222222222,
              "#7201a8"
             ],
             [
              0.3333333333333333,
              "#9c179e"
             ],
             [
              0.4444444444444444,
              "#bd3786"
             ],
             [
              0.5555555555555556,
              "#d8576b"
             ],
             [
              0.6666666666666666,
              "#ed7953"
             ],
             [
              0.7777777777777778,
              "#fb9f3a"
             ],
             [
              0.8888888888888888,
              "#fdca26"
             ],
             [
              1,
              "#f0f921"
             ]
            ],
            "type": "histogram2d"
           }
          ],
          "histogram2dcontour": [
           {
            "colorbar": {
             "outlinewidth": 0,
             "ticks": ""
            },
            "colorscale": [
             [
              0,
              "#0d0887"
             ],
             [
              0.1111111111111111,
              "#46039f"
             ],
             [
              0.2222222222222222,
              "#7201a8"
             ],
             [
              0.3333333333333333,
              "#9c179e"
             ],
             [
              0.4444444444444444,
              "#bd3786"
             ],
             [
              0.5555555555555556,
              "#d8576b"
             ],
             [
              0.6666666666666666,
              "#ed7953"
             ],
             [
              0.7777777777777778,
              "#fb9f3a"
             ],
             [
              0.8888888888888888,
              "#fdca26"
             ],
             [
              1,
              "#f0f921"
             ]
            ],
            "type": "histogram2dcontour"
           }
          ],
          "mesh3d": [
           {
            "colorbar": {
             "outlinewidth": 0,
             "ticks": ""
            },
            "type": "mesh3d"
           }
          ],
          "parcoords": [
           {
            "line": {
             "colorbar": {
              "outlinewidth": 0,
              "ticks": ""
             }
            },
            "type": "parcoords"
           }
          ],
          "pie": [
           {
            "automargin": true,
            "type": "pie"
           }
          ],
          "scatter": [
           {
            "fillpattern": {
             "fillmode": "overlay",
             "size": 10,
             "solidity": 0.2
            },
            "type": "scatter"
           }
          ],
          "scatter3d": [
           {
            "line": {
             "colorbar": {
              "outlinewidth": 0,
              "ticks": ""
             }
            },
            "marker": {
             "colorbar": {
              "outlinewidth": 0,
              "ticks": ""
             }
            },
            "type": "scatter3d"
           }
          ],
          "scattercarpet": [
           {
            "marker": {
             "colorbar": {
              "outlinewidth": 0,
              "ticks": ""
             }
            },
            "type": "scattercarpet"
           }
          ],
          "scattergeo": [
           {
            "marker": {
             "colorbar": {
              "outlinewidth": 0,
              "ticks": ""
             }
            },
            "type": "scattergeo"
           }
          ],
          "scattergl": [
           {
            "marker": {
             "colorbar": {
              "outlinewidth": 0,
              "ticks": ""
             }
            },
            "type": "scattergl"
           }
          ],
          "scattermapbox": [
           {
            "marker": {
             "colorbar": {
              "outlinewidth": 0,
              "ticks": ""
             }
            },
            "type": "scattermapbox"
           }
          ],
          "scatterpolar": [
           {
            "marker": {
             "colorbar": {
              "outlinewidth": 0,
              "ticks": ""
             }
            },
            "type": "scatterpolar"
           }
          ],
          "scatterpolargl": [
           {
            "marker": {
             "colorbar": {
              "outlinewidth": 0,
              "ticks": ""
             }
            },
            "type": "scatterpolargl"
           }
          ],
          "scatterternary": [
           {
            "marker": {
             "colorbar": {
              "outlinewidth": 0,
              "ticks": ""
             }
            },
            "type": "scatterternary"
           }
          ],
          "surface": [
           {
            "colorbar": {
             "outlinewidth": 0,
             "ticks": ""
            },
            "colorscale": [
             [
              0,
              "#0d0887"
             ],
             [
              0.1111111111111111,
              "#46039f"
             ],
             [
              0.2222222222222222,
              "#7201a8"
             ],
             [
              0.3333333333333333,
              "#9c179e"
             ],
             [
              0.4444444444444444,
              "#bd3786"
             ],
             [
              0.5555555555555556,
              "#d8576b"
             ],
             [
              0.6666666666666666,
              "#ed7953"
             ],
             [
              0.7777777777777778,
              "#fb9f3a"
             ],
             [
              0.8888888888888888,
              "#fdca26"
             ],
             [
              1,
              "#f0f921"
             ]
            ],
            "type": "surface"
           }
          ],
          "table": [
           {
            "cells": {
             "fill": {
              "color": "#EBF0F8"
             },
             "line": {
              "color": "white"
             }
            },
            "header": {
             "fill": {
              "color": "#C8D4E3"
             },
             "line": {
              "color": "white"
             }
            },
            "type": "table"
           }
          ]
         },
         "layout": {
          "annotationdefaults": {
           "arrowcolor": "#2a3f5f",
           "arrowhead": 0,
           "arrowwidth": 1
          },
          "autotypenumbers": "strict",
          "coloraxis": {
           "colorbar": {
            "outlinewidth": 0,
            "ticks": ""
           }
          },
          "colorscale": {
           "diverging": [
            [
             0,
             "#8e0152"
            ],
            [
             0.1,
             "#c51b7d"
            ],
            [
             0.2,
             "#de77ae"
            ],
            [
             0.3,
             "#f1b6da"
            ],
            [
             0.4,
             "#fde0ef"
            ],
            [
             0.5,
             "#f7f7f7"
            ],
            [
             0.6,
             "#e6f5d0"
            ],
            [
             0.7,
             "#b8e186"
            ],
            [
             0.8,
             "#7fbc41"
            ],
            [
             0.9,
             "#4d9221"
            ],
            [
             1,
             "#276419"
            ]
           ],
           "sequential": [
            [
             0,
             "#0d0887"
            ],
            [
             0.1111111111111111,
             "#46039f"
            ],
            [
             0.2222222222222222,
             "#7201a8"
            ],
            [
             0.3333333333333333,
             "#9c179e"
            ],
            [
             0.4444444444444444,
             "#bd3786"
            ],
            [
             0.5555555555555556,
             "#d8576b"
            ],
            [
             0.6666666666666666,
             "#ed7953"
            ],
            [
             0.7777777777777778,
             "#fb9f3a"
            ],
            [
             0.8888888888888888,
             "#fdca26"
            ],
            [
             1,
             "#f0f921"
            ]
           ],
           "sequentialminus": [
            [
             0,
             "#0d0887"
            ],
            [
             0.1111111111111111,
             "#46039f"
            ],
            [
             0.2222222222222222,
             "#7201a8"
            ],
            [
             0.3333333333333333,
             "#9c179e"
            ],
            [
             0.4444444444444444,
             "#bd3786"
            ],
            [
             0.5555555555555556,
             "#d8576b"
            ],
            [
             0.6666666666666666,
             "#ed7953"
            ],
            [
             0.7777777777777778,
             "#fb9f3a"
            ],
            [
             0.8888888888888888,
             "#fdca26"
            ],
            [
             1,
             "#f0f921"
            ]
           ]
          },
          "colorway": [
           "#636efa",
           "#EF553B",
           "#00cc96",
           "#ab63fa",
           "#FFA15A",
           "#19d3f3",
           "#FF6692",
           "#B6E880",
           "#FF97FF",
           "#FECB52"
          ],
          "font": {
           "color": "#2a3f5f"
          },
          "geo": {
           "bgcolor": "white",
           "lakecolor": "white",
           "landcolor": "#E5ECF6",
           "showlakes": true,
           "showland": true,
           "subunitcolor": "white"
          },
          "hoverlabel": {
           "align": "left"
          },
          "hovermode": "closest",
          "mapbox": {
           "style": "light"
          },
          "paper_bgcolor": "white",
          "plot_bgcolor": "#E5ECF6",
          "polar": {
           "angularaxis": {
            "gridcolor": "white",
            "linecolor": "white",
            "ticks": ""
           },
           "bgcolor": "#E5ECF6",
           "radialaxis": {
            "gridcolor": "white",
            "linecolor": "white",
            "ticks": ""
           }
          },
          "scene": {
           "xaxis": {
            "backgroundcolor": "#E5ECF6",
            "gridcolor": "white",
            "gridwidth": 2,
            "linecolor": "white",
            "showbackground": true,
            "ticks": "",
            "zerolinecolor": "white"
           },
           "yaxis": {
            "backgroundcolor": "#E5ECF6",
            "gridcolor": "white",
            "gridwidth": 2,
            "linecolor": "white",
            "showbackground": true,
            "ticks": "",
            "zerolinecolor": "white"
           },
           "zaxis": {
            "backgroundcolor": "#E5ECF6",
            "gridcolor": "white",
            "gridwidth": 2,
            "linecolor": "white",
            "showbackground": true,
            "ticks": "",
            "zerolinecolor": "white"
           }
          },
          "shapedefaults": {
           "line": {
            "color": "#2a3f5f"
           }
          },
          "ternary": {
           "aaxis": {
            "gridcolor": "white",
            "linecolor": "white",
            "ticks": ""
           },
           "baxis": {
            "gridcolor": "white",
            "linecolor": "white",
            "ticks": ""
           },
           "bgcolor": "#E5ECF6",
           "caxis": {
            "gridcolor": "white",
            "linecolor": "white",
            "ticks": ""
           }
          },
          "title": {
           "x": 0.05
          },
          "xaxis": {
           "automargin": true,
           "gridcolor": "white",
           "linecolor": "white",
           "ticks": "",
           "title": {
            "standoff": 15
           },
           "zerolinecolor": "white",
           "zerolinewidth": 2
          },
          "yaxis": {
           "automargin": true,
           "gridcolor": "white",
           "linecolor": "white",
           "ticks": "",
           "title": {
            "standoff": 15
           },
           "zerolinecolor": "white",
           "zerolinewidth": 2
          }
         }
        },
        "title": {
         "text": "Nombre d'Outliers dans chaque colonnes numériques avec la méthode de l'IQR"
        },
        "xaxis": {
         "anchor": "y",
         "domain": [
          0,
          1
         ],
         "title": {
          "text": "Variables"
         }
        },
        "yaxis": {
         "anchor": "x",
         "domain": [
          0,
          1
         ],
         "title": {
          "text": "Nombre d'Outliers"
         }
        }
       }
      }
     },
     "metadata": {},
     "output_type": "display_data"
    }
   ],
   "source": [
    "var_num = ['LOAN',\"MORTDUE\", \"VALUE\", \"YOJ\", \"DEROG\", \"DELINQ\", \"CLAGE\", \"NINQ\", \"CLNO\", \"DEBTINC\"]\n",
    "\n",
    "global_outliers_dict = {}\n",
    "def detect_outliers_iqr(data, column):\n",
    "\n",
    "    Q1 = data[column].quantile(0.25)\n",
    "    Q3 = data[column].quantile(0.75)\n",
    "    IQR = Q3 - Q1\n",
    "    lower_bound = Q1 - 1.5 * IQR\n",
    "    upper_bound = Q3 + 1.5 * IQR\n",
    "\n",
    "    outliers = data[(data[column] < lower_bound) | (data[column] > upper_bound)]\n",
    "    num_outliers = len(outliers)\n",
    "\n",
    "    global_outliers_dict[column] = num_outliers\n",
    "\n",
    "for var in var_num:\n",
    "    detect_outliers_iqr(df_cleaned, var)\n",
    "\n",
    "df_outliers_values = pd.DataFrame.from_dict(global_outliers_dict, orient='index', columns=['Outliers'])\n",
    "\n",
    "\n",
    "print(df_outliers_values)\n",
    "px.bar(df_outliers_values,\n",
    "       labels = {'value':\"Nombre d'Outliers\",'index':'Variables'},\n",
    "       title = \"Nombre d'Outliers dans chaque colonnes numériques avec la méthode de l'IQR\")\n"
   ]
  }
 ],
 "metadata": {
  "kernelspec": {
   "display_name": "base",
   "language": "python",
   "name": "python3"
  },
  "language_info": {
   "codemirror_mode": {
    "name": "ipython",
    "version": 3
   },
   "file_extension": ".py",
   "mimetype": "text/x-python",
   "name": "python",
   "nbconvert_exporter": "python",
   "pygments_lexer": "ipython3",
   "version": "3.12.7"
  }
 },
 "nbformat": 4,
 "nbformat_minor": 2
}
